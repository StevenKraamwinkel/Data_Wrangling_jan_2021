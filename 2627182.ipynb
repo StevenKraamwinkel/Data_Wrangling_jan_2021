{
 "cells": [
  {
   "cell_type": "markdown",
   "metadata": {},
   "source": [
    "# Assignment 1"
   ]
  },
  {
   "cell_type": "code",
   "execution_count": 21,
   "metadata": {
    "deletable": false,
    "editable": false,
    "nbgrader": {
     "cell_type": "code",
     "checksum": "2e79fc5d76b21c640be183c076396cc5",
     "grade": false,
     "grade_id": "libraries",
     "locked": true,
     "schema_version": 3,
     "solution": false
    }
   },
   "outputs": [],
   "source": [
    "# read neccessary libraries\n",
    "import numpy as np\n",
    "import pandas as pd\n",
    "pd.options.display.max_rows = 20\n",
    "np.set_printoptions(precision = 4, suppress = True)"
   ]
  },
  {
   "cell_type": "markdown",
   "metadata": {},
   "source": [
    "### Manufacturing processes\n",
    "The file listed below contains data on a manufacturing process. Certain configurations of biological material and manufacturing processes result in a specific yield. Compute the average yield over all records and assign that value to the variable *avg_yield*."
   ]
  },
  {
   "cell_type": "code",
   "execution_count": 22,
   "metadata": {
    "deletable": false,
    "nbgrader": {
     "cell_type": "code",
     "checksum": "c5c8bf06ae19db044377648b09d66f2c",
     "grade": false,
     "grade_id": "yield",
     "locked": false,
     "schema_version": 3,
     "solution": true
    }
   },
   "outputs": [],
   "source": [
    "file = 'manufacturing.csv'\n",
    "\n",
    "# YOUR CODE HERE\n",
    "df = pd.read_csv('manufacturing.csv')\n",
    "\n",
    "yields = df['Yield']\n",
    "number_of_yields = len(yields)\n",
    "sum_of_yields = sum(yields)\n",
    "\n",
    "avg_yield = sum_of_yields/number_of_yields\n",
    "\n",
    "\n",
    "# YOUR CODE ENDS HERE"
   ]
  },
  {
   "cell_type": "code",
   "execution_count": 23,
   "metadata": {
    "deletable": false,
    "editable": false,
    "nbgrader": {
     "cell_type": "code",
     "checksum": "953bd97b8911ad45b19d01a04653330f",
     "grade": true,
     "grade_id": "yield_correct",
     "locked": true,
     "points": 1,
     "schema_version": 3,
     "solution": false
    }
   },
   "outputs": [
    {
     "name": "stdout",
     "output_type": "stream",
     "text": [
      "40.17653409090909\n"
     ]
    }
   ],
   "source": [
    "print(avg_yield)"
   ]
  },
  {
   "cell_type": "markdown",
   "metadata": {},
   "source": [
    "The file contains some missing data. Calculate the number of records that are not complete. Assign that number to the variable *num_missing*."
   ]
  },
  {
   "cell_type": "code",
   "execution_count": 24,
   "metadata": {
    "deletable": false,
    "nbgrader": {
     "cell_type": "code",
     "checksum": "daa708ff3227fe18b3ab26d556946efe",
     "grade": false,
     "grade_id": "missing",
     "locked": false,
     "schema_version": 3,
     "solution": true
    }
   },
   "outputs": [],
   "source": [
    "# YOUR CODE HERE\n",
    "df = pd.read_csv('manufacturing.csv')\n",
    "\n",
    "#num_missing = df.isnull().sum().sum()\n",
    "num_missing = len(df) - len(df.dropna())\n",
    "\n",
    "\n",
    "# YOUR CODE ENDS HERE"
   ]
  },
  {
   "cell_type": "code",
   "execution_count": 25,
   "metadata": {
    "deletable": false,
    "editable": false,
    "nbgrader": {
     "cell_type": "code",
     "checksum": "00c179517d2151fd57011a9c3df8538b",
     "grade": true,
     "grade_id": "missing-correct",
     "locked": true,
     "points": 1,
     "schema_version": 3,
     "solution": false
    }
   },
   "outputs": [
    {
     "name": "stdout",
     "output_type": "stream",
     "text": [
      "24\n"
     ]
    }
   ],
   "source": [
    "print(num_missing)"
   ]
  },
  {
   "cell_type": "markdown",
   "metadata": {},
   "source": [
    "The column **ManufacturingProcess03** contains some missing values. Replace the missing value with the number 1.0 and calculate the mean of this column. Assign the result to the variable *avg_mp3*."
   ]
  },
  {
   "cell_type": "code",
   "execution_count": 26,
   "metadata": {
    "deletable": false,
    "nbgrader": {
     "cell_type": "code",
     "checksum": "7d8c5663f073af444fe2b1838dbf2f79",
     "grade": false,
     "grade_id": "replace",
     "locked": false,
     "schema_version": 3,
     "solution": true
    }
   },
   "outputs": [],
   "source": [
    "# YOUR CODE HERE\n",
    "df = pd.read_csv('manufacturing.csv')\n",
    "\n",
    "df['ManufacturingProcess03'].fillna(1.0, inplace=True)\n",
    "\n",
    "process03 = df['ManufacturingProcess03']\n",
    "\n",
    "#process03.describe()\n",
    "processing03_turns = len(process03)\n",
    "sum_process03 = sum(process03)\n",
    "avg_mp3 = sum_process03 / processing03_turns\n",
    "\n",
    "# YOUR CODE ENDS HERE"
   ]
  },
  {
   "cell_type": "code",
   "execution_count": 27,
   "metadata": {
    "deletable": false,
    "editable": false,
    "nbgrader": {
     "cell_type": "code",
     "checksum": "2eada7efe411166c21ef6e4537492163",
     "grade": true,
     "grade_id": "replace-correct",
     "locked": true,
     "points": 1,
     "schema_version": 3,
     "solution": false
    }
   },
   "outputs": [
    {
     "name": "stdout",
     "output_type": "stream",
     "text": [
      "1.4935795454545475\n"
     ]
    }
   ],
   "source": [
    "print(avg_mp3)"
   ]
  },
  {
   "cell_type": "markdown",
   "metadata": {},
   "source": [
    "### Population of Amsterdam in 2020\n",
    "The URL listed below contains tables on the demographics of Amsterdam. Use pandas commands to assign the **population estimate of 2020-01-01** in **Amsterdam** to the variable *population*.\n"
   ]
  },
  {
   "cell_type": "code",
   "execution_count": 38,
   "metadata": {
    "deletable": false,
    "nbgrader": {
     "cell_type": "code",
     "checksum": "e4ecbadbb045ace02d0cd33f452c8f1a",
     "grade": false,
     "grade_id": "html-q1",
     "locked": false,
     "schema_version": 3,
     "solution": true
    }
   },
   "outputs": [
    {
     "data": {
      "text/plain": [
       "872757"
      ]
     },
     "execution_count": 38,
     "metadata": {},
     "output_type": "execute_result"
    }
   ],
   "source": [
    "url = 'https://www.citypopulation.de/en/netherlands/admin/noord_holland/0363__amsterdam/'\n",
    "\n",
    "tables = pd.read_html('https://www.citypopulation.de/en/netherlands/admin/noord_holland/0363__amsterdam/')\n",
    "# YOUR CODE HERE\n",
    "tables[0]\n",
    "\n",
    "dr = tables[0]\n",
    "\n",
    "population = dr.iloc[0,6]\n",
    "population\n",
    "\n",
    "#population = dr.iloc[:1,[6]]\n",
    "\n",
    "#population = pd.tables['Status']\n",
    "# YOUR CODE ENDS HERE"
   ]
  },
  {
   "cell_type": "code",
   "execution_count": 39,
   "metadata": {
    "deletable": false,
    "editable": false,
    "nbgrader": {
     "cell_type": "code",
     "checksum": "853c891f634bd45f81d868af91cc9dc5",
     "grade": true,
     "grade_id": "html-q1-correct",
     "locked": true,
     "points": 1,
     "schema_version": 3,
     "solution": false
    }
   },
   "outputs": [
    {
     "name": "stdout",
     "output_type": "stream",
     "text": [
      "872757\n"
     ]
    }
   ],
   "source": [
    "print(population)"
   ]
  },
  {
   "cell_type": "markdown",
   "metadata": {},
   "source": [
    "Which fraction of the total population is that? Extract the necessary information from the same table, and assign that value to the variable *fraction*."
   ]
  },
  {
   "cell_type": "code",
   "execution_count": 40,
   "metadata": {
    "deletable": false,
    "nbgrader": {
     "cell_type": "code",
     "checksum": "b4c5719aaabf271dc077dae8d37b98b3",
     "grade": false,
     "grade_id": "html-q2",
     "locked": false,
     "schema_version": 3,
     "solution": true
    }
   },
   "outputs": [],
   "source": [
    "# YOUR CODE HERE\n",
    "#amsterdam_population = dr.iloc[:1,[6]].sum()\n",
    "#netherlands_population = dr.iloc[1:,[6]].sum()\n",
    "\n",
    "amsterdam_population = dr.iloc[0,6]\n",
    "netherlands_population = dr.iloc[1,6]\n",
    "\n",
    "fraction = amsterdam_population / netherlands_population\n",
    "\n",
    "# YOUR CODE ENDS HERE"
   ]
  },
  {
   "cell_type": "code",
   "execution_count": 41,
   "metadata": {
    "deletable": false,
    "editable": false,
    "nbgrader": {
     "cell_type": "code",
     "checksum": "a054b6372e4061be9a3678a1654dda46",
     "grade": true,
     "grade_id": "html-q2-correct",
     "locked": true,
     "points": 1,
     "schema_version": 3,
     "solution": false
    }
   },
   "outputs": [
    {
     "name": "stdout",
     "output_type": "stream",
     "text": [
      "0.050136592755399445\n"
     ]
    }
   ],
   "source": [
    "print(fraction)"
   ]
  },
  {
   "cell_type": "markdown",
   "metadata": {},
   "source": [
    "### Food database\n",
    "The file listed below contains a database on food products. Read the file and count the number of unique categories in the variable *group*. Assign that number to the variable *num_categories*."
   ]
  },
  {
   "cell_type": "code",
   "execution_count": 32,
   "metadata": {
    "deletable": false,
    "nbgrader": {
     "cell_type": "code",
     "checksum": "11bc3a966f7a7ff07985fc7da5a00024",
     "grade": false,
     "grade_id": "unique-categories",
     "locked": false,
     "schema_version": 3,
     "solution": true
    }
   },
   "outputs": [],
   "source": [
    "import json\n",
    "file = 'database.json'\n",
    "\n",
    "# YOUR CODE HERE\n",
    "\n",
    "#!cat database.json\n",
    "data = pd.read_json('database.json')\n",
    "num_categories = data['group'].nunique()\n",
    "\n",
    "#a = open('database.json', \"r\")\n",
    "#data = json.loads(a.read())\n",
    "#data[1]\n",
    "\n",
    "# YOUR CODE ENDS HERE"
   ]
  },
  {
   "cell_type": "code",
   "execution_count": 33,
   "metadata": {
    "deletable": false,
    "editable": false,
    "nbgrader": {
     "cell_type": "code",
     "checksum": "492ee59d5ac7952e0ff680f096a98177",
     "grade": true,
     "grade_id": "unique-categories-correct",
     "locked": true,
     "points": 1,
     "schema_version": 3,
     "solution": false
    }
   },
   "outputs": [
    {
     "name": "stdout",
     "output_type": "stream",
     "text": [
      "25\n"
     ]
    }
   ],
   "source": [
    "print(num_categories)"
   ]
  },
  {
   "cell_type": "markdown",
   "metadata": {},
   "source": [
    "Count the number of products that are mentioned in the **Baby Foods** group. Assign that number to the variable *baby_total*."
   ]
  },
  {
   "cell_type": "code",
   "execution_count": 34,
   "metadata": {
    "deletable": false,
    "nbgrader": {
     "cell_type": "code",
     "checksum": "a847f40b0d5a1d80aede5fa4110944a4",
     "grade": false,
     "grade_id": "food-database",
     "locked": false,
     "schema_version": 3,
     "solution": true
    }
   },
   "outputs": [
    {
     "data": {
      "text/plain": [
       "209"
      ]
     },
     "execution_count": 34,
     "metadata": {},
     "output_type": "execute_result"
    }
   ],
   "source": [
    "# YOUR CODE HERE\n",
    "data = pd.read_json('database.json')\n",
    "data\n",
    "\n",
    "group_counts = data['group'].value_counts()\n",
    "baby_total = group_counts['Baby Foods']\n",
    "baby_total\n",
    "\n",
    "\n",
    "# YOUR CODE ENDS HERE"
   ]
  },
  {
   "cell_type": "code",
   "execution_count": 35,
   "metadata": {
    "deletable": false,
    "editable": false,
    "nbgrader": {
     "cell_type": "code",
     "checksum": "8658021b75813a3e0c5f7ca258dada5a",
     "grade": true,
     "grade_id": "food-database-correct",
     "locked": true,
     "points": 2,
     "schema_version": 3,
     "solution": false
    }
   },
   "outputs": [
    {
     "name": "stdout",
     "output_type": "stream",
     "text": [
      "209\n"
     ]
    }
   ],
   "source": [
    "print(baby_total)"
   ]
  },
  {
   "cell_type": "markdown",
   "metadata": {},
   "source": [
    "### Bus database\n",
    "The following XML file contains records on the LI Bus service. Read in the XML and count the number of records present in the file. Assign that number to the variable *num_records*."
   ]
  },
  {
   "cell_type": "code",
   "execution_count": 36,
   "metadata": {
    "deletable": false,
    "nbgrader": {
     "cell_type": "code",
     "checksum": "beff521cdd222fd8069c65f22f8b7abc",
     "grade": false,
     "grade_id": "bus",
     "locked": false,
     "schema_version": 3,
     "solution": true
    }
   },
   "outputs": [
    {
     "data": {
      "text/plain": [
       "5"
      ]
     },
     "execution_count": 36,
     "metadata": {},
     "output_type": "execute_result"
    }
   ],
   "source": [
    "from lxml import objectify\n",
    "file = 'libus.xml'\n",
    "\n",
    "# YOUR CODE HERE\n",
    "parsed = objectify.parse(open(file))\n",
    "root = parsed.getroot()\n",
    "\n",
    "data = []\n",
    "for elt in root.INDICATOR:\n",
    "    el_data = {}\n",
    "    for child in elt.getchildren():\n",
    "        el_data[child.tag] = child.pyval\n",
    "    data.append(el_data)\n",
    "    \n",
    "perf = pd.DataFrame(data)\n",
    "a = perf.head()\n",
    "\n",
    "\n",
    "num_records = a['PARENT_SEQ'].value_counts().sum()\n",
    "num_records\n",
    "\n",
    "# YOUR CODE ENDS HERE"
   ]
  },
  {
   "cell_type": "code",
   "execution_count": 37,
   "metadata": {
    "deletable": false,
    "editable": false,
    "nbgrader": {
     "cell_type": "code",
     "checksum": "0eb270e75e5622dd52d47b6a818f9138",
     "grade": true,
     "grade_id": "bus-correct",
     "locked": true,
     "points": 2,
     "schema_version": 3,
     "solution": false
    }
   },
   "outputs": [
    {
     "name": "stdout",
     "output_type": "stream",
     "text": [
      "5\n"
     ]
    }
   ],
   "source": [
    "print(num_records)"
   ]
  },
  {
   "cell_type": "code",
   "execution_count": null,
   "metadata": {},
   "outputs": [],
   "source": []
  }
 ],
 "metadata": {
  "kernelspec": {
   "display_name": "Python 3",
   "language": "python",
   "name": "python3"
  },
  "language_info": {
   "codemirror_mode": {
    "name": "ipython",
    "version": 3
   },
   "file_extension": ".py",
   "mimetype": "text/x-python",
   "name": "python",
   "nbconvert_exporter": "python",
   "pygments_lexer": "ipython3",
   "version": "3.7.4"
  }
 },
 "nbformat": 4,
 "nbformat_minor": 2
}
