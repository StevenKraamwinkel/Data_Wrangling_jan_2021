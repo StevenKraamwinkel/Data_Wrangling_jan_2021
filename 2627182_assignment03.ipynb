{
 "cells": [
  {
   "cell_type": "markdown",
   "metadata": {},
   "source": [
    "# Assignment 3"
   ]
  },
  {
   "cell_type": "code",
   "execution_count": 6,
   "metadata": {
    "deletable": false,
    "editable": false,
    "nbgrader": {
     "cell_type": "code",
     "checksum": "cd3ecc13604d15a89bbb1bebcb80e5c5",
     "grade": false,
     "grade_id": "libraries",
     "locked": true,
     "schema_version": 3,
     "solution": false
    }
   },
   "outputs": [],
   "source": [
    "import numpy as np\n",
    "import pandas as pd\n",
    "import matplotlib.pyplot as plt\n",
    "pd.options.display.max_rows = 20\n",
    "np.set_printoptions(precision=4, suppress=True)"
   ]
  },
  {
   "cell_type": "markdown",
   "metadata": {},
   "source": [
    "### Datetime manipulations\n",
    "\n",
    "The Data Wrangling course started on Monday 4 January 2021 at 9 am and will end on Friday 29 January at 5.15 pm. Calculate the duration of the course in minutes. Assign the value to the variable *duration*.\n"
   ]
  },
  {
   "cell_type": "code",
   "execution_count": 7,
   "metadata": {
    "deletable": false,
    "nbgrader": {
     "cell_type": "code",
     "checksum": "bf9d686d3d41aa5aa1801f06db6bd896",
     "grade": false,
     "grade_id": "duration",
     "locked": false,
     "schema_version": 3,
     "solution": true
    }
   },
   "outputs": [],
   "source": [
    "from datetime import datetime\n",
    "\n",
    "# YOUR CODE HERE\n",
    "delta = datetime(2021, 1, 29, 17, 15) - datetime(2021, 1, 4, 9, 0)\n",
    "\n",
    "delta.days\n",
    "delta.seconds\n",
    "\n",
    "duration = int(delta.days * (60*24) + delta.seconds / 60)\n",
    "\n",
    "# YOUR CODE ENDS HERE"
   ]
  },
  {
   "cell_type": "code",
   "execution_count": 8,
   "metadata": {
    "deletable": false,
    "editable": false,
    "nbgrader": {
     "cell_type": "code",
     "checksum": "a29b5a0fc095be7cd6b522a230f9a929",
     "grade": true,
     "grade_id": "duration-correct",
     "locked": true,
     "points": 1,
     "schema_version": 3,
     "solution": false
    }
   },
   "outputs": [
    {
     "name": "stdout",
     "output_type": "stream",
     "text": [
      "36495\n"
     ]
    }
   ],
   "source": [
    "print(duration)"
   ]
  },
  {
   "cell_type": "markdown",
   "metadata": {},
   "source": [
    "Below you will find the scheduled days of the course Data Wrangling. The values in the time series denote the number of contact hours spend on each lecture. Create a time series that calculates the cumulative sum of all the hours that you have spent on the course. Assign the cumulate sum on 25 January 2021 to the variable *cum_hours*."
   ]
  },
  {
   "cell_type": "code",
   "execution_count": 9,
   "metadata": {
    "deletable": false,
    "nbgrader": {
     "cell_type": "code",
     "checksum": "c9b85c888873b778821f34de5398be72",
     "grade": false,
     "grade_id": "cum-hours",
     "locked": false,
     "schema_version": 3,
     "solution": true
    }
   },
   "outputs": [],
   "source": [
    "from datetime import datetime\n",
    "from pandas.tseries.offsets import *\n",
    "\n",
    "\n",
    "dates = [datetime(2021, 1,  4), datetime(2021, 1,  5), datetime(2021, 1, 7),\n",
    "         datetime(2021, 1, 11), datetime(2021, 1, 12), datetime(2021, 1, 14),\n",
    "         datetime(2021, 1, 18), datetime(2021, 1, 19), datetime(2021, 1, 21),\n",
    "         datetime(2021, 1, 26), datetime(2021, 1, 27), datetime(2021, 2, 28),\n",
    "         datetime(2021, 1, 29)]\n",
    "ts = pd.Series([2, 2, 1, 2, 2, 1, 2, 2, 1, 3, 3, 3, 3], index = dates)\n",
    "\n",
    "# YOUR CODE HERE\n",
    "\n",
    "cum_hours = ts['1/4/2021':'1/25/2021'].sum() \n",
    "\n",
    "# YOUR CODE ENDS HERE"
   ]
  },
  {
   "cell_type": "code",
   "execution_count": 10,
   "metadata": {
    "deletable": false,
    "editable": false,
    "nbgrader": {
     "cell_type": "code",
     "checksum": "57784831ec59646fe15372e10e21d1de",
     "grade": true,
     "grade_id": "cum-hours-correct",
     "locked": true,
     "points": 1,
     "schema_version": 3,
     "solution": false
    }
   },
   "outputs": [
    {
     "name": "stdout",
     "output_type": "stream",
     "text": [
      "15\n"
     ]
    }
   ],
   "source": [
    "print(cum_hours)"
   ]
  },
  {
   "cell_type": "markdown",
   "metadata": {},
   "source": [
    "Suppose that you want to become a world-class expert in data wrangling. So, you decide to spent 2 hours learning data wrangling every Tuesday in 2021. As you have a lot of free time every first Wednesday of the month, you spent 3 hours learning data wrangling those days in 2021. Calculate how many hours you will spend learning in 2021. Assign that value to the variable *study_hours*."
   ]
  },
  {
   "cell_type": "code",
   "execution_count": 11,
   "metadata": {
    "deletable": false,
    "nbgrader": {
     "cell_type": "code",
     "checksum": "92a179674f7e6b3479cdbc4561aaeee8",
     "grade": false,
     "grade_id": "study-hours",
     "locked": false,
     "schema_version": 3,
     "solution": true
    }
   },
   "outputs": [],
   "source": [
    "from datetime import datetime\n",
    "\n",
    "# YOUR CODE HERE\n",
    "hours_tuesday = pd.Series(2, index=pd.date_range('2021-01-01', '2021-12-31', freq='W-TUE'))\n",
    "hours_wednesday = pd.Series(3, index=pd.date_range('2021-01-01', '2021-12-31', freq='WOM-1WED'))\n",
    "\n",
    "study_hours = sum(list(hours_tuesday)) + sum(list(hours_wednesday))\n",
    "\n",
    "# YOUR CODE ENDS HERE"
   ]
  },
  {
   "cell_type": "code",
   "execution_count": 12,
   "metadata": {
    "deletable": false,
    "editable": false,
    "nbgrader": {
     "cell_type": "code",
     "checksum": "1451e80574e09826ecd30ccc3a7bc10e",
     "grade": true,
     "grade_id": "study-hours-correct",
     "locked": true,
     "points": 1,
     "schema_version": 3,
     "solution": false
    }
   },
   "outputs": [
    {
     "name": "stdout",
     "output_type": "stream",
     "text": [
      "140\n"
     ]
    }
   ],
   "source": [
    "print(study_hours)"
   ]
  },
  {
   "cell_type": "markdown",
   "metadata": {},
   "source": [
    "Generate all business days in 2021 that start at the first weekday of the month. Calculate how many of these days fall on the second day of the month. Assign that value to the variable *second_days*."
   ]
  },
  {
   "cell_type": "code",
   "execution_count": 13,
   "metadata": {
    "deletable": false,
    "nbgrader": {
     "cell_type": "code",
     "checksum": "ae7db5c74fde90029f625c4bb2537c4f",
     "grade": false,
     "grade_id": "second-days",
     "locked": false,
     "schema_version": 3,
     "solution": true
    }
   },
   "outputs": [],
   "source": [
    "from datetime import datetime\n",
    "\n",
    "from pandas.tseries.offsets import Day, MonthEnd\n",
    "\n",
    "# YOUR CODE HERE\n",
    "first_business_day = pd.date_range('2021-01-01', '2021-12-31', freq='BMS')\n",
    "first_business_day \n",
    "\n",
    "a = first_business_day.day\n",
    "second_days = np.count_nonzero(a == 2)\n",
    "\n",
    "# YOUR CODE ENDS HERE"
   ]
  },
  {
   "cell_type": "code",
   "execution_count": 14,
   "metadata": {
    "deletable": false,
    "editable": false,
    "nbgrader": {
     "cell_type": "code",
     "checksum": "6c3ed869875d09e70f8edddb52ca01ca",
     "grade": true,
     "grade_id": "second-days-correct",
     "locked": true,
     "points": 1,
     "schema_version": 3,
     "solution": false
    }
   },
   "outputs": [
    {
     "name": "stdout",
     "output_type": "stream",
     "text": [
      "1\n"
     ]
    }
   ],
   "source": [
    "print(second_days)"
   ]
  },
  {
   "cell_type": "markdown",
   "metadata": {},
   "source": [
    "The first blood moon in 2021 will fall on 27 April 2021 at 05.31 am in Amsterdam. Calculate what  time it will be in Sydney (Australia) at that exact moment. Assign the answer to *bloodmoon*."
   ]
  },
  {
   "cell_type": "code",
   "execution_count": 15,
   "metadata": {
    "deletable": false,
    "nbgrader": {
     "cell_type": "code",
     "checksum": "add92fab4a7cd8adf9bea590d25fb559",
     "grade": false,
     "grade_id": "bloodmoon",
     "locked": false,
     "schema_version": 3,
     "solution": true
    }
   },
   "outputs": [],
   "source": [
    "from datetime import datetime\n",
    "import pytz\n",
    "\n",
    "# YOUR CODE HERE\n",
    "stamp_amsterdam = pd.Timestamp('2021-04-27 05:31', tz='Europe/Amsterdam')\n",
    "bloodmoon = stamp_amsterdam.tz_convert('Australia/Sydney')\n",
    "\n",
    "# YOUR CODE ENDS HERE"
   ]
  },
  {
   "cell_type": "code",
   "execution_count": 16,
   "metadata": {
    "deletable": false,
    "editable": false,
    "nbgrader": {
     "cell_type": "code",
     "checksum": "c6bbb7d8603e0e953d96a3ada9e007ca",
     "grade": true,
     "grade_id": "bloodmoon-correct",
     "locked": true,
     "points": 1,
     "schema_version": 3,
     "solution": false
    }
   },
   "outputs": [
    {
     "name": "stdout",
     "output_type": "stream",
     "text": [
      "2021-04-27 13:31:00+10:00\n"
     ]
    }
   ],
   "source": [
    "print(bloodmoon)"
   ]
  },
  {
   "cell_type": "markdown",
   "metadata": {},
   "source": [
    "### Sales volumes\n",
    "\n",
    "The file *volume.csv* contains sales volumes of different companies. Read the file, and calculate the mean sales volumes of each company in the year 2010. Assign the series to the variable *volumes2010*. "
   ]
  },
  {
   "cell_type": "code",
   "execution_count": 17,
   "metadata": {
    "deletable": false,
    "nbgrader": {
     "cell_type": "code",
     "checksum": "73f294677a95ce9ed395db9bfee45b1d",
     "grade": false,
     "grade_id": "volumes2010",
     "locked": false,
     "schema_version": 3,
     "solution": true
    }
   },
   "outputs": [],
   "source": [
    "file = 'volume.csv'\n",
    "\n",
    "# YOUR CODE HERE\n",
    "from datetime import datetime\n",
    "\n",
    "sales_data = pd.read_csv(file,index_col=0, parse_dates=True)\n",
    "sales_2010 = sales_data['2010']\n",
    "\n",
    "a1 = sales_2010['AA'].mean()\n",
    "a2 = sales_2010['AAPL'].mean()\n",
    "a3 = sales_2010['GE'].mean()\n",
    "a4 = sales_2010['IBM'].mean()\n",
    "a5 = sales_2010['JNJ'].mean()\n",
    "a6 = sales_2010['MSFT'].mean()\n",
    "a7 = sales_2010['PEP'].mean()\n",
    "a8 = sales_2010['SPX'].mean()\n",
    "a9 = sales_2010['XOM'].mean()\n",
    "\n",
    "frame = pd.DataFrame([[a1, a2, a3, a4, a5, a6, a7, a8, a9]],\n",
    "                     index=pd.period_range('1-2010', '12-2010',\n",
    "                                           freq='Y'),\n",
    "                     columns=['AA', 'AAPL', 'GE', 'IBM', 'JNJ', 'MSFT', 'PEP', 'SPX', 'XOM'])\n",
    "frame[:5]\n",
    "\n",
    "volumes2010 = frame.resample('A-DEC').mean()\n",
    "\n",
    "# YOUR CODE ENDS HERE"
   ]
  },
  {
   "cell_type": "code",
   "execution_count": 18,
   "metadata": {
    "deletable": false,
    "editable": false,
    "nbgrader": {
     "cell_type": "code",
     "checksum": "5b85b2016c1457229112f0b071bf9d2b",
     "grade": true,
     "grade_id": "volumes2010-correct",
     "locked": true,
     "points": 1,
     "schema_version": 3,
     "solution": false
    }
   },
   "outputs": [
    {
     "name": "stdout",
     "output_type": "stream",
     "text": [
      "                AA          AAPL            GE           IBM           JNJ  \\\n",
      "2010  3.113912e+07  2.140376e+07  7.223856e+07  6.422816e+06  1.214678e+07   \n",
      "\n",
      "              MSFT           PEP           SPX           XOM  \n",
      "2010  6.306716e+07  6.962504e+06  4.566245e+09  2.643224e+07  \n"
     ]
    }
   ],
   "source": [
    "print(volumes2010)"
   ]
  },
  {
   "cell_type": "markdown",
   "metadata": {},
   "source": [
    "In which year did the sales volume of Apple (*AAPL*) overtake the sales volume of Microsoft (*MSFT*)? Calculate the value and assign the timestamp to the variable *changeover*."
   ]
  },
  {
   "cell_type": "code",
   "execution_count": 19,
   "metadata": {
    "deletable": false,
    "nbgrader": {
     "cell_type": "code",
     "checksum": "51c0e9d0a7a2c7d12196eb1405144de1",
     "grade": false,
     "grade_id": "changeover",
     "locked": false,
     "schema_version": 3,
     "solution": true
    }
   },
   "outputs": [],
   "source": [
    "file = 'volume.csv'\n",
    "\n",
    "# YOUR CODE HERE\n",
    "from datetime import datetime\n",
    "\n",
    "sales_data = pd.read_csv(file,index_col=0, parse_dates=True)\n",
    "\n",
    "volume_apple = sales_data['AAPL']\n",
    "volume_microsoft = sales_data['MSFT']\n",
    "\n",
    "a = volume_apple > volume_microsoft\n",
    "changeover = (a[a==True].index[0])\n",
    "\n",
    "\n",
    "# YOUR CODE ENDS HERE"
   ]
  },
  {
   "cell_type": "code",
   "execution_count": 20,
   "metadata": {
    "deletable": false,
    "editable": false,
    "nbgrader": {
     "cell_type": "code",
     "checksum": "5619ee14e4174aa35cbec2e33ca2ac66",
     "grade": true,
     "grade_id": "changeover-correct",
     "locked": true,
     "points": 1,
     "schema_version": 3,
     "solution": false
    }
   },
   "outputs": [
    {
     "name": "stdout",
     "output_type": "stream",
     "text": [
      "1992-08-06 00:00:00\n"
     ]
    }
   ],
   "source": [
    "print(changeover)"
   ]
  },
  {
   "cell_type": "markdown",
   "metadata": {},
   "source": [
    "Format the date that you have found in a nicer way corresponding to the style dd/mm/yy. Thus, the day (dd), month (mm), and the year (yy) are formatted in 2 digits, separated by slashes. Assign the value to the variable *nicedate*."
   ]
  },
  {
   "cell_type": "code",
   "execution_count": 21,
   "metadata": {
    "deletable": false,
    "nbgrader": {
     "cell_type": "code",
     "checksum": "db9c43b9cebdb5c4e984121eda1c577b",
     "grade": false,
     "grade_id": "nicedate",
     "locked": false,
     "schema_version": 3,
     "solution": true
    }
   },
   "outputs": [],
   "source": [
    "# YOUR CODE HERE\n",
    "\n",
    "nicedate = changeover.strftime('%d/%m/%Y')\n",
    "\n",
    "# YOUR CODE ENDS HERE"
   ]
  },
  {
   "cell_type": "code",
   "execution_count": 22,
   "metadata": {
    "deletable": false,
    "editable": false,
    "nbgrader": {
     "cell_type": "code",
     "checksum": "096c0641190fc60828422b99c02ce24f",
     "grade": true,
     "grade_id": "nicedate-correct",
     "locked": true,
     "points": 1,
     "schema_version": 3,
     "solution": false
    }
   },
   "outputs": [
    {
     "name": "stdout",
     "output_type": "stream",
     "text": [
      "06/08/1992\n"
     ]
    }
   ],
   "source": [
    "print(nicedate)"
   ]
  },
  {
   "cell_type": "markdown",
   "metadata": {},
   "source": [
    "Apple has to report every end of the year (31 December) what its current sales volume is (not cumulative!). Create a time series for every year with the sales volume listed for Apple (AAPL) on 31 December. If the data does not contain a record for this date, then take the last known value that this known prior to that date. Assign the time series to the variable *apple_report*."
   ]
  },
  {
   "cell_type": "code",
   "execution_count": 23,
   "metadata": {
    "deletable": false,
    "nbgrader": {
     "cell_type": "code",
     "checksum": "50dc840332b40030dc78d68c44d1215c",
     "grade": false,
     "grade_id": "apple-report",
     "locked": false,
     "schema_version": 3,
     "solution": true
    }
   },
   "outputs": [],
   "source": [
    "# YOUR CODE HERE\n",
    "from datetime import datetime\n",
    "pd.options.display.float_format = '{:.1f}'.format\n",
    "\n",
    "sales_data = pd.read_csv(file,index_col=0, parse_dates=True)\n",
    "volume_apple = sales_data['AAPL']\n",
    "apple_report = volume_apple.resample('Y').apply(lambda x : x.iloc[-1])\n",
    "\n",
    "# YOUR CODE ENDS HERE"
   ]
  },
  {
   "cell_type": "code",
   "execution_count": 24,
   "metadata": {
    "deletable": false,
    "editable": false,
    "nbgrader": {
     "cell_type": "code",
     "checksum": "361fb4b723176ee48e027cb430e49dfd",
     "grade": true,
     "grade_id": "apple-report-correct",
     "locked": true,
     "points": 1,
     "schema_version": 3,
     "solution": false
    }
   },
   "outputs": [
    {
     "name": "stdout",
     "output_type": "stream",
     "text": [
      "1990-12-31    1593200.0\n",
      "1991-12-31    4802000.0\n",
      "1992-12-31    3302000.0\n",
      "1993-12-31    5765200.0\n",
      "1994-12-31    2616400.0\n",
      "                ...    \n",
      "2007-12-31   19261900.0\n",
      "2008-12-31   21697900.0\n",
      "2009-12-31   12586100.0\n",
      "2010-12-31    6911000.0\n",
      "2011-12-31   20450000.0\n",
      "Freq: A-DEC, Name: AAPL, Length: 22, dtype: float64\n"
     ]
    }
   ],
   "source": [
    "print(apple_report)"
   ]
  },
  {
   "cell_type": "markdown",
   "metadata": {},
   "source": [
    "The volumes of Apple are highly fluctuating over time. You can clearly see that when you make a plot. It would be better to smooth out the sales volume by taking a moving average with a period of 200 days. Calculate the moving average of the sales volume and assign to the variable *apple_smooth*. Create a plot with the original time series and the smooth version of the time series."
   ]
  },
  {
   "cell_type": "code",
   "execution_count": 25,
   "metadata": {
    "deletable": false,
    "nbgrader": {
     "cell_type": "code",
     "checksum": "800a9b3992a6a62b3b3f3319cca9de13",
     "grade": false,
     "grade_id": "apple-smooth",
     "locked": false,
     "schema_version": 3,
     "solution": true
    }
   },
   "outputs": [
    {
     "name": "stderr",
     "output_type": "stream",
     "text": [
      "/Users/stevenkraamwinkel/opt/anaconda3/lib/python3.7/site-packages/pandas/plotting/_matplotlib/converter.py:103: FutureWarning: Using an implicitly registered datetime converter for a matplotlib plotting method. The converter was registered by pandas on import. Future versions of pandas will require you to explicitly register matplotlib converters.\n",
      "\n",
      "To register the converters:\n",
      "\t>>> from pandas.plotting import register_matplotlib_converters\n",
      "\t>>> register_matplotlib_converters()\n",
      "  warnings.warn(msg, FutureWarning)\n"
     ]
    },
    {
     "data": {
      "text/plain": [
       "[<matplotlib.lines.Line2D at 0x11ad2dad0>]"
      ]
     },
     "execution_count": 25,
     "metadata": {},
     "output_type": "execute_result"
    },
    {
     "data": {
      "image/png": "[encoded data removed]",
      "text/plain": [
       "<Figure size 432x288 with 1 Axes>"
      ]
     },
     "metadata": {
      "needs_background": "light"
     },
     "output_type": "display_data"
    }
   ],
   "source": [
    "# YOUR CODE HERE\n",
    "from datetime import datetime\n",
    "pd.options.display.float_format = '{:.1f}'.format\n",
    "\n",
    "sales_data = pd.read_csv(file,index_col=0, parse_dates=True)\n",
    "volume_apple = sales_data['AAPL']\n",
    "apple_smooth = volume_apple.resample('200B').mean()\n",
    "\n",
    "#plt.ticklabel_format(style='plain')\n",
    "plt.plot(volume_apple)\n",
    "plt.plot(apple_smooth)\n",
    "\n",
    "# YOUR CODE ENDS HERE"
   ]
  },
  {
   "cell_type": "code",
   "execution_count": 26,
   "metadata": {
    "deletable": false,
    "editable": false,
    "nbgrader": {
     "cell_type": "code",
     "checksum": "412abdfa9f67643ad3bbb4c1b986c5a1",
     "grade": true,
     "grade_id": "apple-smooth-correct",
     "locked": true,
     "points": 1,
     "schema_version": 3,
     "solution": false
    }
   },
   "outputs": [
    {
     "name": "stdout",
     "output_type": "stream",
     "text": [
      "1990-02-01    6259969.2\n",
      "1990-11-08    9198967.9\n",
      "1991-08-15    5599620.6\n",
      "1992-05-21    6441411.4\n",
      "1993-02-25    7863532.3\n",
      "                ...    \n",
      "2008-06-26   35666251.8\n",
      "2009-04-02   17933811.9\n",
      "2010-01-07   23085550.0\n",
      "2010-10-14   16190740.4\n",
      "2011-07-21   22689850.8\n",
      "Freq: 200B, Name: AAPL, Length: 29, dtype: float64\n"
     ]
    }
   ],
   "source": [
    "print(apple_smooth)"
   ]
  },
  {
   "cell_type": "code",
   "execution_count": null,
   "metadata": {},
   "outputs": [],
   "source": []
  }
 ],
 "metadata": {
  "kernelspec": {
   "display_name": "Python 3",
   "language": "python",
   "name": "python3"
  },
  "language_info": {
   "codemirror_mode": {
    "name": "ipython",
    "version": 3
   },
   "file_extension": ".py",
   "mimetype": "text/x-python",
   "name": "python",
   "nbconvert_exporter": "python",
   "pygments_lexer": "ipython3",
   "version": "3.7.4"
  }
 },
 "nbformat": 4,
 "nbformat_minor": 2
}
