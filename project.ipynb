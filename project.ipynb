{
 "cells": [
  {
   "cell_type": "code",
   "execution_count": 1,
   "metadata": {},
   "outputs": [],
   "source": [
    "import numpy as np \n",
    "import pandas as pd\n",
    "import matplotlib.pyplot as plt"
   ]
  },
  {
   "cell_type": "code",
   "execution_count": 2,
   "metadata": {},
   "outputs": [],
   "source": [
    "from scipy.stats import norm\n",
    "\n",
    "class linreg():\n",
    "    def __init__(self):\n",
    "        self.X = []\n",
    "        self.Y = []\n",
    "        self.beta = []\n",
    "        self.covMatrix = []\n",
    "        self.t = []\n",
    "        self.R2 = []\n",
    "        self.errors = []\n",
    "        \n",
    "    @classmethod\n",
    "    def fit(self):\n",
    "        self.beta = np.linalg.inv(self.X.T @ self.X) @ (self.X.T @ self.Y)\n",
    "        if len(self.beta) == 1: \n",
    "            self.errors = self.Y - self.X * self.beta\n",
    "        else: \n",
    "            self.errors = self.Y - self.X @ self.beta\n",
    "            \n",
    "        sigma_epsilon = np.sqrt(np.var(self.errors,ddof=len(self.beta)))\n",
    "        self.covMatrix = np.linalg.inv(self.X.T @ self.X) * sigma_epsilon\n",
    "        self.t = lambda x: (self.beta[x] - 0)/np.sqrt(self.covMatrix[x,x]) # t(0) t-statistic for intercept (beta_0) and t(1) for beta_1 etc\n",
    "        self.R2 = np.sum([(self.X[i,:] @ self.beta - np.mean(self.Y))**2 for i in range(len(self.X))]) \\\n",
    "                / np.sum([(self.Y[i] - np.mean(self.Y))**2 for i in range(len(self.X))])\n",
    "    \n",
    "    @classmethod\n",
    "    def results(self):\n",
    "        print(\"----------------- Linear regression ----------------- \\n\")\n",
    "        print(\"Y_i = X_i*Beta + e_i\")\n",
    "        print(\"e_i ~ N(0,sigma_{e}^2)\\n\")\n",
    "        for i in range(len(self.beta)):\n",
    "            print('Beta_%i = %0.3f\\nt-statistic = %0.3f\\np-value = %0.3f\\n'%(i,self.beta[i],self.t(i),norm.cdf(-np.abs(self.t(i))/2)))\n",
    "        print('R2 = %0.3f' % self.R2)\n",
    "        print(\"----------------- End Linear regression ----------------- \\n\")\n",
    "        "
   ]
  },
  {
   "cell_type": "code",
   "execution_count": 3,
   "metadata": {},
   "outputs": [],
   "source": [
    "file = '/Users/max/Documents/Econometrie_jaar_4/P3/Data_wrangling/Project/data/temp/GlobalLandTemperaturesByState.csv'\n",
    "df1 = pd.read_csv(file, parse_dates=True)\n"
   ]
  },
  {
   "cell_type": "code",
   "execution_count": 4,
   "metadata": {
    "scrolled": true
   },
   "outputs": [
    {
     "name": "stderr",
     "output_type": "stream",
     "text": [
      "/Users/max/opt/anaconda3/lib/python3.7/site-packages/pandas/core/generic.py:5208: SettingWithCopyWarning: \n",
      "A value is trying to be set on a copy of a slice from a DataFrame.\n",
      "Try using .loc[row_indexer,col_indexer] = value instead\n",
      "\n",
      "See the caveats in the documentation: http://pandas.pydata.org/pandas-docs/stable/user_guide/indexing.html#returning-a-view-versus-a-copy\n",
      "  self[name] = value\n"
     ]
    },
    {
     "data": {
      "text/html": [
       "<div>\n",
       "<style scoped>\n",
       "    .dataframe tbody tr th:only-of-type {\n",
       "        vertical-align: middle;\n",
       "    }\n",
       "\n",
       "    .dataframe tbody tr th {\n",
       "        vertical-align: top;\n",
       "    }\n",
       "\n",
       "    .dataframe thead th {\n",
       "        text-align: right;\n",
       "    }\n",
       "</style>\n",
       "<table border=\"1\" class=\"dataframe\">\n",
       "  <thead>\n",
       "    <tr style=\"text-align: right;\">\n",
       "      <th></th>\n",
       "      <th>dt</th>\n",
       "      <th>AverageTemperature</th>\n",
       "      <th>State</th>\n",
       "    </tr>\n",
       "  </thead>\n",
       "  <tbody>\n",
       "    <tr>\n",
       "      <td>10437</td>\n",
       "      <td>1992-02-01</td>\n",
       "      <td>10.898</td>\n",
       "      <td>Alabama</td>\n",
       "    </tr>\n",
       "    <tr>\n",
       "      <td>10438</td>\n",
       "      <td>1992-03-01</td>\n",
       "      <td>12.995</td>\n",
       "      <td>Alabama</td>\n",
       "    </tr>\n",
       "    <tr>\n",
       "      <td>10439</td>\n",
       "      <td>1992-04-01</td>\n",
       "      <td>16.589</td>\n",
       "      <td>Alabama</td>\n",
       "    </tr>\n",
       "    <tr>\n",
       "      <td>10440</td>\n",
       "      <td>1992-05-01</td>\n",
       "      <td>20.430</td>\n",
       "      <td>Alabama</td>\n",
       "    </tr>\n",
       "    <tr>\n",
       "      <td>10441</td>\n",
       "      <td>1992-06-01</td>\n",
       "      <td>24.305</td>\n",
       "      <td>Alabama</td>\n",
       "    </tr>\n",
       "    <tr>\n",
       "      <td>...</td>\n",
       "      <td>...</td>\n",
       "      <td>...</td>\n",
       "      <td>...</td>\n",
       "    </tr>\n",
       "    <tr>\n",
       "      <td>626435</td>\n",
       "      <td>2013-05-01</td>\n",
       "      <td>10.607</td>\n",
       "      <td>Wyoming</td>\n",
       "    </tr>\n",
       "    <tr>\n",
       "      <td>626436</td>\n",
       "      <td>2013-06-01</td>\n",
       "      <td>16.267</td>\n",
       "      <td>Wyoming</td>\n",
       "    </tr>\n",
       "    <tr>\n",
       "      <td>626437</td>\n",
       "      <td>2013-07-01</td>\n",
       "      <td>20.222</td>\n",
       "      <td>Wyoming</td>\n",
       "    </tr>\n",
       "    <tr>\n",
       "      <td>626438</td>\n",
       "      <td>2013-08-01</td>\n",
       "      <td>19.621</td>\n",
       "      <td>Wyoming</td>\n",
       "    </tr>\n",
       "    <tr>\n",
       "      <td>626439</td>\n",
       "      <td>2013-09-01</td>\n",
       "      <td>15.811</td>\n",
       "      <td>Wyoming</td>\n",
       "    </tr>\n",
       "  </tbody>\n",
       "</table>\n",
       "<p>13260 rows × 3 columns</p>\n",
       "</div>"
      ],
      "text/plain": [
       "               dt  AverageTemperature    State\n",
       "10437  1992-02-01              10.898  Alabama\n",
       "10438  1992-03-01              12.995  Alabama\n",
       "10439  1992-04-01              16.589  Alabama\n",
       "10440  1992-05-01              20.430  Alabama\n",
       "10441  1992-06-01              24.305  Alabama\n",
       "...           ...                 ...      ...\n",
       "626435 2013-05-01              10.607  Wyoming\n",
       "626436 2013-06-01              16.267  Wyoming\n",
       "626437 2013-07-01              20.222  Wyoming\n",
       "626438 2013-08-01              19.621  Wyoming\n",
       "626439 2013-09-01              15.811  Wyoming\n",
       "\n",
       "[13260 rows x 3 columns]"
      ]
     },
     "metadata": {},
     "output_type": "display_data"
    }
   ],
   "source": [
    "df = df1[df1['Country']=='United States']\n",
    "df.dt = pd.to_datetime(df.dt)\n",
    "df = df[df.dt > '1992']\n",
    "df = df[['dt', 'AverageTemperature', 'State']]\n",
    "display(df)"
   ]
  },
  {
   "cell_type": "markdown",
   "metadata": {},
   "source": [
    "Dictionary for mapping the american state names to Two-Letter codes. So the temperature data can be merged with the wildfire data."
   ]
  },
  {
   "cell_type": "code",
   "execution_count": 5,
   "metadata": {},
   "outputs": [
    {
     "data": {
      "text/html": [
       "<div>\n",
       "<style scoped>\n",
       "    .dataframe tbody tr th:only-of-type {\n",
       "        vertical-align: middle;\n",
       "    }\n",
       "\n",
       "    .dataframe tbody tr th {\n",
       "        vertical-align: top;\n",
       "    }\n",
       "\n",
       "    .dataframe thead th {\n",
       "        text-align: right;\n",
       "    }\n",
       "</style>\n",
       "<table border=\"1\" class=\"dataframe\">\n",
       "  <thead>\n",
       "    <tr style=\"text-align: right;\">\n",
       "      <th></th>\n",
       "      <th>dt</th>\n",
       "      <th>AverageTemperature</th>\n",
       "      <th>State</th>\n",
       "    </tr>\n",
       "  </thead>\n",
       "  <tbody>\n",
       "    <tr>\n",
       "      <td>10437</td>\n",
       "      <td>1992-02-01</td>\n",
       "      <td>10.898</td>\n",
       "      <td>AL</td>\n",
       "    </tr>\n",
       "    <tr>\n",
       "      <td>10438</td>\n",
       "      <td>1992-03-01</td>\n",
       "      <td>12.995</td>\n",
       "      <td>AL</td>\n",
       "    </tr>\n",
       "    <tr>\n",
       "      <td>10439</td>\n",
       "      <td>1992-04-01</td>\n",
       "      <td>16.589</td>\n",
       "      <td>AL</td>\n",
       "    </tr>\n",
       "    <tr>\n",
       "      <td>10440</td>\n",
       "      <td>1992-05-01</td>\n",
       "      <td>20.430</td>\n",
       "      <td>AL</td>\n",
       "    </tr>\n",
       "    <tr>\n",
       "      <td>10441</td>\n",
       "      <td>1992-06-01</td>\n",
       "      <td>24.305</td>\n",
       "      <td>AL</td>\n",
       "    </tr>\n",
       "    <tr>\n",
       "      <td>...</td>\n",
       "      <td>...</td>\n",
       "      <td>...</td>\n",
       "      <td>...</td>\n",
       "    </tr>\n",
       "    <tr>\n",
       "      <td>626435</td>\n",
       "      <td>2013-05-01</td>\n",
       "      <td>10.607</td>\n",
       "      <td>WY</td>\n",
       "    </tr>\n",
       "    <tr>\n",
       "      <td>626436</td>\n",
       "      <td>2013-06-01</td>\n",
       "      <td>16.267</td>\n",
       "      <td>WY</td>\n",
       "    </tr>\n",
       "    <tr>\n",
       "      <td>626437</td>\n",
       "      <td>2013-07-01</td>\n",
       "      <td>20.222</td>\n",
       "      <td>WY</td>\n",
       "    </tr>\n",
       "    <tr>\n",
       "      <td>626438</td>\n",
       "      <td>2013-08-01</td>\n",
       "      <td>19.621</td>\n",
       "      <td>WY</td>\n",
       "    </tr>\n",
       "    <tr>\n",
       "      <td>626439</td>\n",
       "      <td>2013-09-01</td>\n",
       "      <td>15.811</td>\n",
       "      <td>WY</td>\n",
       "    </tr>\n",
       "  </tbody>\n",
       "</table>\n",
       "<p>13260 rows × 3 columns</p>\n",
       "</div>"
      ],
      "text/plain": [
       "               dt  AverageTemperature State\n",
       "10437  1992-02-01              10.898    AL\n",
       "10438  1992-03-01              12.995    AL\n",
       "10439  1992-04-01              16.589    AL\n",
       "10440  1992-05-01              20.430    AL\n",
       "10441  1992-06-01              24.305    AL\n",
       "...           ...                 ...   ...\n",
       "626435 2013-05-01              10.607    WY\n",
       "626436 2013-06-01              16.267    WY\n",
       "626437 2013-07-01              20.222    WY\n",
       "626438 2013-08-01              19.621    WY\n",
       "626439 2013-09-01              15.811    WY\n",
       "\n",
       "[13260 rows x 3 columns]"
      ]
     },
     "metadata": {},
     "output_type": "display_data"
    }
   ],
   "source": [
    "# United States of America Python Dictionary to translate States,\n",
    "# Districts & Territories to Two-Letter codes and vice versa.\n",
    "#\n",
    "# https://gist.github.com/rogerallen/1583593\n",
    "#\n",
    "# Dedicated to the public domain.  To the extent possible under law,\n",
    "# Roger Allen has waived all copyright and related or neighboring\n",
    "# rights to this code.\n",
    "us_state_abbrev = {\n",
    "'Alabama': 'AL',\n",
    "'Alaska': 'AK',\n",
    "'American Samoa': 'AS',\n",
    "'Arizona': 'AZ',\n",
    "'Arkansas': 'AR',\n",
    "'California': 'CA',\n",
    "'Colorado': 'CO',\n",
    "'Connecticut': 'CT',\n",
    "'Delaware': 'DE',\n",
    "'District of Columbia': 'DC',\n",
    "'Florida': 'FL',\n",
    "'Georgia': 'GA',\n",
    "'Guam': 'GU',\n",
    "'Hawaii': 'HI',\n",
    "'Idaho': 'ID',\n",
    "'Illinois': 'IL',\n",
    "'Indiana': 'IN',\n",
    "'Iowa': 'IA',\n",
    "'Kansas': 'KS',\n",
    "'Kentucky': 'KY',\n",
    "'Louisiana': 'LA',\n",
    "'Maine': 'ME',\n",
    "'Maryland': 'MD',\n",
    "'Massachusetts': 'MA',\n",
    "'Michigan': 'MI',\n",
    "'Minnesota': 'MN',\n",
    "'Mississippi': 'MS',\n",
    "'Missouri': 'MO',\n",
    "'Montana': 'MT',\n",
    "'Nebraska': 'NE',\n",
    "'Nevada': 'NV',\n",
    "'New Hampshire': 'NH',\n",
    "'New Jersey': 'NJ',\n",
    "'New Mexico': 'NM',\n",
    "'New York': 'NY',\n",
    "'North Carolina': 'NC',\n",
    "'North Dakota': 'ND',\n",
    "'Northern Mariana Islands':'MP',\n",
    "'Ohio': 'OH',\n",
    "'Oklahoma': 'OK',\n",
    "'Oregon': 'OR',\n",
    "'Pennsylvania': 'PA',\n",
    "'Puerto Rico': 'PR',\n",
    "'Rhode Island': 'RI',\n",
    "'South Carolina': 'SC',\n",
    "'South Dakota': 'SD',\n",
    "'Tennessee': 'TN',\n",
    "'Texas': 'TX',\n",
    "'Utah': 'UT',\n",
    "'Vermont': 'VT',\n",
    "'Virgin Islands': 'VI',\n",
    "'Virginia': 'VA',\n",
    "'Washington': 'WA',\n",
    "'West Virginia': 'WV',\n",
    "'Wisconsin': 'WI',\n",
    "'Wyoming': 'WY'\n",
    "}\n",
    "df['State'] = df['State'].map(us_state_abbrev)\n",
    "display(df)"
   ]
  },
  {
   "cell_type": "code",
   "execution_count": 6,
   "metadata": {},
   "outputs": [],
   "source": [
    "# import sqlite3\n",
    "\n",
    "# # # Read sqlite query results into a pandas DataFrame\n",
    "# file = '/Users/max/Documents/Econometrie_jaar_4/P3/Data_wrangling/Project/data/wildfires/FPA_FOD_20170508.sqlite'\n",
    "# con = sqlite3.connect(file)\n",
    "# df = pd.read_sql_query(\"SELECT * FROM fires\", con)\n",
    "# con.close()\n",
    "# Verify that result of SQL query is stored in the dataframe\n",
    "# Write dataframe obtained from sql query to a csv file\n",
    "# df.to_csv('/Users/max/Documents/Econometrie_jaar_4/P3/Data_wrangling/Project/data/wildfires/wildfires.csv')\n",
    "\n",
    "\n",
    "#### Weather data\n",
    "## Average monthly temperature data per state in US \n",
    "# import requests\n",
    "\n",
    "# csv_url = 'https://www.ncdc.noaa.gov/cag/divisional/mapping/110-tavg.csv'\n",
    "# req = requests.get(csv_url)\n",
    "# url_content = req.content\n",
    "# csv_file = open('tempavg.csv', 'wb')\n",
    "# csv_file.write(url_content)\n",
    "# csv_file.close()\n",
    "\n",
    "## Palmer Z-Index for capturing monthly short term drought\n",
    "## Information for Palmer Z-Index https://www.ncdc.noaa.gov/temp-and-precip/drought/historical-palmers/overview\n",
    "# csv_url = 'https://www.ncdc.noaa.gov/cag/divisional/mapping/110-zndx.csv'\n",
    "# req = requests.get(csv_url)\n",
    "# url_content = req.content\n",
    "# csv_file = open('PZI.csv', 'wb')\n",
    "# csv_file.write(url_content)\n",
    "# csv_file.close()"
   ]
  },
  {
   "cell_type": "code",
   "execution_count": 7,
   "metadata": {},
   "outputs": [
    {
     "name": "stderr",
     "output_type": "stream",
     "text": [
      "/Users/max/opt/anaconda3/lib/python3.7/site-packages/IPython/core/interactiveshell.py:3058: DtypeWarning: Columns (9,11,12,13,14,15,16,17,18,19,36,38) have mixed types. Specify dtype option on import or set low_memory=False.\n",
      "  interactivity=interactivity, compiler=compiler, result=result)\n"
     ]
    },
    {
     "data": {
      "text/plain": [
       "array(['Unnamed: 0', 'OBJECTID', 'FOD_ID', 'FPA_ID', 'SOURCE_SYSTEM_TYPE',\n",
       "       'SOURCE_SYSTEM', 'NWCG_REPORTING_AGENCY', 'NWCG_REPORTING_UNIT_ID',\n",
       "       'NWCG_REPORTING_UNIT_NAME', 'SOURCE_REPORTING_UNIT',\n",
       "       'SOURCE_REPORTING_UNIT_NAME', 'LOCAL_FIRE_REPORT_ID',\n",
       "       'LOCAL_INCIDENT_ID', 'FIRE_CODE', 'FIRE_NAME',\n",
       "       'ICS_209_INCIDENT_NUMBER', 'ICS_209_NAME', 'MTBS_ID',\n",
       "       'MTBS_FIRE_NAME', 'COMPLEX_NAME', 'FIRE_YEAR', 'DISCOVERY_DATE',\n",
       "       'DISCOVERY_DOY', 'DISCOVERY_TIME', 'STAT_CAUSE_CODE',\n",
       "       'STAT_CAUSE_DESCR', 'CONT_DATE', 'CONT_DOY', 'CONT_TIME',\n",
       "       'FIRE_SIZE', 'FIRE_SIZE_CLASS', 'LATITUDE', 'LONGITUDE',\n",
       "       'OWNER_CODE', 'OWNER_DESCR', 'STATE', 'COUNTY', 'FIPS_CODE',\n",
       "       'FIPS_NAME', 'Shape'], dtype=object)"
      ]
     },
     "metadata": {},
     "output_type": "display_data"
    }
   ],
   "source": [
    "dfWild = pd.read_csv('/Users/max/Documents/Econometrie_jaar_4/P3/Data_wrangling/Project/data/wildfires/wildfires.csv',\\\n",
    "                     parse_dates=True)\n",
    "display(dfWild.columns.values)\n",
    "dfWild['DATE_DISCOVERY'] = pd.to_datetime(dfWild['FIRE_YEAR'] * 1000 + dfWild['DISCOVERY_DOY'], format='%Y%j')\n",
    "dfWild = dfWild[['DATE_DISCOVERY','STAT_CAUSE_DESCR','FIRE_SIZE','FIRE_SIZE_CLASS','STATE','LATITUDE','LONGITUDE']]\n",
    "dfWild = dfWild.sort_values(by=['STATE','DATE_DISCOVERY'])"
   ]
  },
  {
   "cell_type": "code",
   "execution_count": 8,
   "metadata": {},
   "outputs": [
    {
     "data": {
      "text/html": [
       "<div>\n",
       "<style scoped>\n",
       "    .dataframe tbody tr th:only-of-type {\n",
       "        vertical-align: middle;\n",
       "    }\n",
       "\n",
       "    .dataframe tbody tr th {\n",
       "        vertical-align: top;\n",
       "    }\n",
       "\n",
       "    .dataframe thead th {\n",
       "        text-align: right;\n",
       "    }\n",
       "</style>\n",
       "<table border=\"1\" class=\"dataframe\">\n",
       "  <thead>\n",
       "    <tr style=\"text-align: right;\">\n",
       "      <th></th>\n",
       "      <th>DATE_DISCOVERY</th>\n",
       "      <th>STAT_CAUSE_DESCR</th>\n",
       "      <th>FIRE_SIZE</th>\n",
       "      <th>FIRE_SIZE_CLASS</th>\n",
       "      <th>STATE</th>\n",
       "      <th>LATITUDE</th>\n",
       "      <th>LONGITUDE</th>\n",
       "    </tr>\n",
       "  </thead>\n",
       "  <tbody>\n",
       "    <tr>\n",
       "      <td>1361966</td>\n",
       "      <td>1992-04-04</td>\n",
       "      <td>Smoking</td>\n",
       "      <td>0.10</td>\n",
       "      <td>A</td>\n",
       "      <td>AK</td>\n",
       "      <td>64.833335</td>\n",
       "      <td>-147.516662</td>\n",
       "    </tr>\n",
       "    <tr>\n",
       "      <td>1361967</td>\n",
       "      <td>1992-04-06</td>\n",
       "      <td>Miscellaneous</td>\n",
       "      <td>0.10</td>\n",
       "      <td>A</td>\n",
       "      <td>AK</td>\n",
       "      <td>61.666667</td>\n",
       "      <td>-149.433334</td>\n",
       "    </tr>\n",
       "    <tr>\n",
       "      <td>1361968</td>\n",
       "      <td>1992-04-07</td>\n",
       "      <td>Smoking</td>\n",
       "      <td>0.10</td>\n",
       "      <td>A</td>\n",
       "      <td>AK</td>\n",
       "      <td>61.566665</td>\n",
       "      <td>-149.350006</td>\n",
       "    </tr>\n",
       "    <tr>\n",
       "      <td>1361945</td>\n",
       "      <td>1992-04-20</td>\n",
       "      <td>Debris Burning</td>\n",
       "      <td>0.30</td>\n",
       "      <td>B</td>\n",
       "      <td>AK</td>\n",
       "      <td>61.566665</td>\n",
       "      <td>-149.083328</td>\n",
       "    </tr>\n",
       "    <tr>\n",
       "      <td>210328</td>\n",
       "      <td>1992-04-21</td>\n",
       "      <td>Structure</td>\n",
       "      <td>0.10</td>\n",
       "      <td>A</td>\n",
       "      <td>AK</td>\n",
       "      <td>64.349600</td>\n",
       "      <td>-147.369000</td>\n",
       "    </tr>\n",
       "    <tr>\n",
       "      <td>...</td>\n",
       "      <td>...</td>\n",
       "      <td>...</td>\n",
       "      <td>...</td>\n",
       "      <td>...</td>\n",
       "      <td>...</td>\n",
       "      <td>...</td>\n",
       "      <td>...</td>\n",
       "    </tr>\n",
       "    <tr>\n",
       "      <td>1808353</td>\n",
       "      <td>2015-12-04</td>\n",
       "      <td>Fireworks</td>\n",
       "      <td>0.25</td>\n",
       "      <td>A</td>\n",
       "      <td>WY</td>\n",
       "      <td>42.815900</td>\n",
       "      <td>-106.281000</td>\n",
       "    </tr>\n",
       "    <tr>\n",
       "      <td>1829530</td>\n",
       "      <td>2015-12-05</td>\n",
       "      <td>Debris Burning</td>\n",
       "      <td>1.00</td>\n",
       "      <td>B</td>\n",
       "      <td>WY</td>\n",
       "      <td>42.821600</td>\n",
       "      <td>-106.378900</td>\n",
       "    </tr>\n",
       "    <tr>\n",
       "      <td>1792586</td>\n",
       "      <td>2015-12-08</td>\n",
       "      <td>Miscellaneous</td>\n",
       "      <td>40.00</td>\n",
       "      <td>C</td>\n",
       "      <td>WY</td>\n",
       "      <td>42.206111</td>\n",
       "      <td>-105.264167</td>\n",
       "    </tr>\n",
       "    <tr>\n",
       "      <td>1817808</td>\n",
       "      <td>2015-12-12</td>\n",
       "      <td>Campfire</td>\n",
       "      <td>0.10</td>\n",
       "      <td>A</td>\n",
       "      <td>WY</td>\n",
       "      <td>42.773100</td>\n",
       "      <td>-106.354700</td>\n",
       "    </tr>\n",
       "    <tr>\n",
       "      <td>1849633</td>\n",
       "      <td>2015-12-31</td>\n",
       "      <td>Miscellaneous</td>\n",
       "      <td>0.10</td>\n",
       "      <td>A</td>\n",
       "      <td>WY</td>\n",
       "      <td>42.763200</td>\n",
       "      <td>-106.540600</td>\n",
       "    </tr>\n",
       "  </tbody>\n",
       "</table>\n",
       "<p>1880465 rows × 7 columns</p>\n",
       "</div>"
      ],
      "text/plain": [
       "        DATE_DISCOVERY STAT_CAUSE_DESCR  FIRE_SIZE FIRE_SIZE_CLASS STATE  \\\n",
       "1361966     1992-04-04          Smoking       0.10               A    AK   \n",
       "1361967     1992-04-06    Miscellaneous       0.10               A    AK   \n",
       "1361968     1992-04-07          Smoking       0.10               A    AK   \n",
       "1361945     1992-04-20   Debris Burning       0.30               B    AK   \n",
       "210328      1992-04-21        Structure       0.10               A    AK   \n",
       "...                ...              ...        ...             ...   ...   \n",
       "1808353     2015-12-04        Fireworks       0.25               A    WY   \n",
       "1829530     2015-12-05   Debris Burning       1.00               B    WY   \n",
       "1792586     2015-12-08    Miscellaneous      40.00               C    WY   \n",
       "1817808     2015-12-12         Campfire       0.10               A    WY   \n",
       "1849633     2015-12-31    Miscellaneous       0.10               A    WY   \n",
       "\n",
       "          LATITUDE   LONGITUDE  \n",
       "1361966  64.833335 -147.516662  \n",
       "1361967  61.666667 -149.433334  \n",
       "1361968  61.566665 -149.350006  \n",
       "1361945  61.566665 -149.083328  \n",
       "210328   64.349600 -147.369000  \n",
       "...            ...         ...  \n",
       "1808353  42.815900 -106.281000  \n",
       "1829530  42.821600 -106.378900  \n",
       "1792586  42.206111 -105.264167  \n",
       "1817808  42.773100 -106.354700  \n",
       "1849633  42.763200 -106.540600  \n",
       "\n",
       "[1880465 rows x 7 columns]"
      ]
     },
     "metadata": {},
     "output_type": "display_data"
    }
   ],
   "source": [
    "display(dfWild)"
   ]
  },
  {
   "cell_type": "code",
   "execution_count": 25,
   "metadata": {},
   "outputs": [],
   "source": [
    "file = './data/temp/tempavg.csv'\n",
    "dftemp = pd.read_csv(file, error_bad_lines=False,skiprows=range(3))\n",
    "dftemp = dftemp.rename(columns={'Value':'TEMP'})\n",
    "dftemp.TEMP = dftemp.TEMP.apply(lambda x: (x-32)*5/9)\n",
    "dftemp.Date = pd.to_datetime(dftemp.Date, format='%Y%m')\n",
    "dftemp = dftemp[(dftemp.Date >= '1991-01-01') & (dftemp.Date < '2016-01-01')]\n",
    "\n",
    "file = './data/temp/PZI.csv'\n",
    "dfPalmerZ = pd.read_csv(file, error_bad_lines=False, skiprows=range(2))\n",
    "dfPalmerZ = dfPalmerZ.rename(columns={'Value':'PALMZ'})\n",
    "dfPalmerZ.Date = pd.to_datetime(dfPalmerZ.Date, format='%Y%m')\n",
    "dfPalmerZ = dfPalmerZ[(dfPalmerZ.Date >= '1991-01-01') & (dfPalmerZ.Date < '2016-01-01')]"
   ]
  },
  {
   "cell_type": "code",
   "execution_count": 29,
   "metadata": {},
   "outputs": [],
   "source": [
    "import re\n",
    "\n",
    "def extractState(text):\n",
    "    pattern = r'(.+)\\sCD'\n",
    "    regex = re.compile(pattern, flags=re.IGNORECASE)\n",
    "    state = regex.match(text).groups()[0]\n",
    "    TwoLetterState = us_state_abbrev[state]\n",
    "    return TwoLetterState\n",
    "\n",
    "dftemp['State'] = dftemp.Location.apply(extractState)\n",
    "dftemp = dftemp.drop(columns=['Location','Anomaly (1901-2000 base period)'])\n",
    "\n",
    "\n",
    "dfPalmerZ['State'] = dfPalmerZ.Location.apply(extractState)\n",
    "dfPalmerZ = dfPalmerZ.drop(columns=['Location','Anomaly (1901-2000 base period)'])"
   ]
  },
  {
   "cell_type": "markdown",
   "metadata": {},
   "source": [
    "Create rolling window mean for x months average temperature or x months average palmerZ-index"
   ]
  },
  {
   "cell_type": "code",
   "execution_count": 30,
   "metadata": {
    "scrolled": true
   },
   "outputs": [],
   "source": [
    "dftemp = pd.DataFrame(dftemp.groupby(['State','Date'], as_index=False)['TEMP'].mean())\n",
    "\n",
    "dfPalmerZ = pd.DataFrame(dfPalmerZ.groupby(['State','Date'], as_index=False)['PALMZ'].mean())\n",
    "\n",
    "# Collumns containing the previous x month average temperature \n",
    "months = range(2,13)\n",
    "for i in months:\n",
    "    month = i\n",
    "    dftemp.loc[:, f'{month}MavgTemp'] = dftemp['TEMP'].rolling(month).mean()\n",
    "    dfPalmerZ.loc[:, f'{month}MavgPalmZ'] = dfPalmerZ['PALMZ'].rolling(month).mean()"
   ]
  },
  {
   "cell_type": "code",
   "execution_count": 31,
   "metadata": {},
   "outputs": [
    {
     "data": {
      "text/html": [
       "<div>\n",
       "<style scoped>\n",
       "    .dataframe tbody tr th:only-of-type {\n",
       "        vertical-align: middle;\n",
       "    }\n",
       "\n",
       "    .dataframe tbody tr th {\n",
       "        vertical-align: top;\n",
       "    }\n",
       "\n",
       "    .dataframe thead th {\n",
       "        text-align: right;\n",
       "    }\n",
       "</style>\n",
       "<table border=\"1\" class=\"dataframe\">\n",
       "  <thead>\n",
       "    <tr style=\"text-align: right;\">\n",
       "      <th></th>\n",
       "      <th>State</th>\n",
       "      <th>Date</th>\n",
       "      <th>PALMZ</th>\n",
       "      <th>2MavgPalmZ</th>\n",
       "      <th>3MavgPalmZ</th>\n",
       "      <th>4MavgPalmZ</th>\n",
       "      <th>5MavgPalmZ</th>\n",
       "      <th>6MavgPalmZ</th>\n",
       "      <th>7MavgPalmZ</th>\n",
       "      <th>8MavgPalmZ</th>\n",
       "      <th>9MavgPalmZ</th>\n",
       "      <th>10MavgPalmZ</th>\n",
       "      <th>11MavgPalmZ</th>\n",
       "      <th>12MavgPalmZ</th>\n",
       "    </tr>\n",
       "  </thead>\n",
       "  <tbody>\n",
       "    <tr>\n",
       "      <td>0</td>\n",
       "      <td>AL</td>\n",
       "      <td>1991-01-01</td>\n",
       "      <td>1.27875</td>\n",
       "      <td>NaN</td>\n",
       "      <td>NaN</td>\n",
       "      <td>NaN</td>\n",
       "      <td>NaN</td>\n",
       "      <td>NaN</td>\n",
       "      <td>NaN</td>\n",
       "      <td>NaN</td>\n",
       "      <td>NaN</td>\n",
       "      <td>NaN</td>\n",
       "      <td>NaN</td>\n",
       "      <td>NaN</td>\n",
       "    </tr>\n",
       "    <tr>\n",
       "      <td>1</td>\n",
       "      <td>AL</td>\n",
       "      <td>1991-02-01</td>\n",
       "      <td>0.08125</td>\n",
       "      <td>0.680000</td>\n",
       "      <td>NaN</td>\n",
       "      <td>NaN</td>\n",
       "      <td>NaN</td>\n",
       "      <td>NaN</td>\n",
       "      <td>NaN</td>\n",
       "      <td>NaN</td>\n",
       "      <td>NaN</td>\n",
       "      <td>NaN</td>\n",
       "      <td>NaN</td>\n",
       "      <td>NaN</td>\n",
       "    </tr>\n",
       "    <tr>\n",
       "      <td>2</td>\n",
       "      <td>AL</td>\n",
       "      <td>1991-03-01</td>\n",
       "      <td>0.27250</td>\n",
       "      <td>0.176875</td>\n",
       "      <td>0.544167</td>\n",
       "      <td>NaN</td>\n",
       "      <td>NaN</td>\n",
       "      <td>NaN</td>\n",
       "      <td>NaN</td>\n",
       "      <td>NaN</td>\n",
       "      <td>NaN</td>\n",
       "      <td>NaN</td>\n",
       "      <td>NaN</td>\n",
       "      <td>NaN</td>\n",
       "    </tr>\n",
       "    <tr>\n",
       "      <td>3</td>\n",
       "      <td>AL</td>\n",
       "      <td>1991-04-01</td>\n",
       "      <td>1.41125</td>\n",
       "      <td>0.841875</td>\n",
       "      <td>0.588333</td>\n",
       "      <td>0.760938</td>\n",
       "      <td>NaN</td>\n",
       "      <td>NaN</td>\n",
       "      <td>NaN</td>\n",
       "      <td>NaN</td>\n",
       "      <td>NaN</td>\n",
       "      <td>NaN</td>\n",
       "      <td>NaN</td>\n",
       "      <td>NaN</td>\n",
       "    </tr>\n",
       "    <tr>\n",
       "      <td>4</td>\n",
       "      <td>AL</td>\n",
       "      <td>1991-05-01</td>\n",
       "      <td>4.39000</td>\n",
       "      <td>2.900625</td>\n",
       "      <td>2.024583</td>\n",
       "      <td>1.538750</td>\n",
       "      <td>1.48675</td>\n",
       "      <td>NaN</td>\n",
       "      <td>NaN</td>\n",
       "      <td>NaN</td>\n",
       "      <td>NaN</td>\n",
       "      <td>NaN</td>\n",
       "      <td>NaN</td>\n",
       "      <td>NaN</td>\n",
       "    </tr>\n",
       "    <tr>\n",
       "      <td>...</td>\n",
       "      <td>...</td>\n",
       "      <td>...</td>\n",
       "      <td>...</td>\n",
       "      <td>...</td>\n",
       "      <td>...</td>\n",
       "      <td>...</td>\n",
       "      <td>...</td>\n",
       "      <td>...</td>\n",
       "      <td>...</td>\n",
       "      <td>...</td>\n",
       "      <td>...</td>\n",
       "      <td>...</td>\n",
       "      <td>...</td>\n",
       "      <td>...</td>\n",
       "    </tr>\n",
       "    <tr>\n",
       "      <td>14395</td>\n",
       "      <td>WY</td>\n",
       "      <td>2015-08-01</td>\n",
       "      <td>0.63000</td>\n",
       "      <td>1.116000</td>\n",
       "      <td>0.831000</td>\n",
       "      <td>1.802000</td>\n",
       "      <td>1.20880</td>\n",
       "      <td>0.502667</td>\n",
       "      <td>0.460143</td>\n",
       "      <td>0.314500</td>\n",
       "      <td>0.393444</td>\n",
       "      <td>0.4579</td>\n",
       "      <td>0.266000</td>\n",
       "      <td>0.385250</td>\n",
       "    </tr>\n",
       "    <tr>\n",
       "      <td>14396</td>\n",
       "      <td>WY</td>\n",
       "      <td>2015-09-01</td>\n",
       "      <td>-1.77700</td>\n",
       "      <td>-0.573500</td>\n",
       "      <td>0.151667</td>\n",
       "      <td>0.179000</td>\n",
       "      <td>1.08620</td>\n",
       "      <td>0.711167</td>\n",
       "      <td>0.177000</td>\n",
       "      <td>0.180500</td>\n",
       "      <td>0.082111</td>\n",
       "      <td>0.1764</td>\n",
       "      <td>0.254727</td>\n",
       "      <td>0.095750</td>\n",
       "    </tr>\n",
       "    <tr>\n",
       "      <td>14397</td>\n",
       "      <td>WY</td>\n",
       "      <td>2015-10-01</td>\n",
       "      <td>-0.85800</td>\n",
       "      <td>-1.317500</td>\n",
       "      <td>-0.668333</td>\n",
       "      <td>-0.100750</td>\n",
       "      <td>-0.02840</td>\n",
       "      <td>0.762167</td>\n",
       "      <td>0.487000</td>\n",
       "      <td>0.047625</td>\n",
       "      <td>0.065111</td>\n",
       "      <td>-0.0119</td>\n",
       "      <td>0.082364</td>\n",
       "      <td>0.162000</td>\n",
       "    </tr>\n",
       "    <tr>\n",
       "      <td>14398</td>\n",
       "      <td>WY</td>\n",
       "      <td>2015-11-01</td>\n",
       "      <td>-0.04600</td>\n",
       "      <td>-0.452000</td>\n",
       "      <td>-0.893667</td>\n",
       "      <td>-0.512750</td>\n",
       "      <td>-0.08980</td>\n",
       "      <td>-0.031333</td>\n",
       "      <td>0.646714</td>\n",
       "      <td>0.420375</td>\n",
       "      <td>0.037222</td>\n",
       "      <td>0.0540</td>\n",
       "      <td>-0.015000</td>\n",
       "      <td>0.071667</td>\n",
       "    </tr>\n",
       "    <tr>\n",
       "      <td>14399</td>\n",
       "      <td>WY</td>\n",
       "      <td>2015-12-01</td>\n",
       "      <td>0.09400</td>\n",
       "      <td>0.024000</td>\n",
       "      <td>-0.270000</td>\n",
       "      <td>-0.646750</td>\n",
       "      <td>-0.39140</td>\n",
       "      <td>-0.059167</td>\n",
       "      <td>-0.013429</td>\n",
       "      <td>0.577625</td>\n",
       "      <td>0.384111</td>\n",
       "      <td>0.0429</td>\n",
       "      <td>0.057636</td>\n",
       "      <td>-0.005917</td>\n",
       "    </tr>\n",
       "  </tbody>\n",
       "</table>\n",
       "<p>14400 rows × 14 columns</p>\n",
       "</div>"
      ],
      "text/plain": [
       "      State       Date    PALMZ  2MavgPalmZ  3MavgPalmZ  4MavgPalmZ  \\\n",
       "0        AL 1991-01-01  1.27875         NaN         NaN         NaN   \n",
       "1        AL 1991-02-01  0.08125    0.680000         NaN         NaN   \n",
       "2        AL 1991-03-01  0.27250    0.176875    0.544167         NaN   \n",
       "3        AL 1991-04-01  1.41125    0.841875    0.588333    0.760938   \n",
       "4        AL 1991-05-01  4.39000    2.900625    2.024583    1.538750   \n",
       "...     ...        ...      ...         ...         ...         ...   \n",
       "14395    WY 2015-08-01  0.63000    1.116000    0.831000    1.802000   \n",
       "14396    WY 2015-09-01 -1.77700   -0.573500    0.151667    0.179000   \n",
       "14397    WY 2015-10-01 -0.85800   -1.317500   -0.668333   -0.100750   \n",
       "14398    WY 2015-11-01 -0.04600   -0.452000   -0.893667   -0.512750   \n",
       "14399    WY 2015-12-01  0.09400    0.024000   -0.270000   -0.646750   \n",
       "\n",
       "       5MavgPalmZ  6MavgPalmZ  7MavgPalmZ  8MavgPalmZ  9MavgPalmZ  \\\n",
       "0             NaN         NaN         NaN         NaN         NaN   \n",
       "1             NaN         NaN         NaN         NaN         NaN   \n",
       "2             NaN         NaN         NaN         NaN         NaN   \n",
       "3             NaN         NaN         NaN         NaN         NaN   \n",
       "4         1.48675         NaN         NaN         NaN         NaN   \n",
       "...           ...         ...         ...         ...         ...   \n",
       "14395     1.20880    0.502667    0.460143    0.314500    0.393444   \n",
       "14396     1.08620    0.711167    0.177000    0.180500    0.082111   \n",
       "14397    -0.02840    0.762167    0.487000    0.047625    0.065111   \n",
       "14398    -0.08980   -0.031333    0.646714    0.420375    0.037222   \n",
       "14399    -0.39140   -0.059167   -0.013429    0.577625    0.384111   \n",
       "\n",
       "       10MavgPalmZ  11MavgPalmZ  12MavgPalmZ  \n",
       "0              NaN          NaN          NaN  \n",
       "1              NaN          NaN          NaN  \n",
       "2              NaN          NaN          NaN  \n",
       "3              NaN          NaN          NaN  \n",
       "4              NaN          NaN          NaN  \n",
       "...            ...          ...          ...  \n",
       "14395       0.4579     0.266000     0.385250  \n",
       "14396       0.1764     0.254727     0.095750  \n",
       "14397      -0.0119     0.082364     0.162000  \n",
       "14398       0.0540    -0.015000     0.071667  \n",
       "14399       0.0429     0.057636    -0.005917  \n",
       "\n",
       "[14400 rows x 14 columns]"
      ]
     },
     "metadata": {},
     "output_type": "display_data"
    },
    {
     "data": {
      "text/html": [
       "<div>\n",
       "<style scoped>\n",
       "    .dataframe tbody tr th:only-of-type {\n",
       "        vertical-align: middle;\n",
       "    }\n",
       "\n",
       "    .dataframe tbody tr th {\n",
       "        vertical-align: top;\n",
       "    }\n",
       "\n",
       "    .dataframe thead th {\n",
       "        text-align: right;\n",
       "    }\n",
       "</style>\n",
       "<table border=\"1\" class=\"dataframe\">\n",
       "  <thead>\n",
       "    <tr style=\"text-align: right;\">\n",
       "      <th></th>\n",
       "      <th>State</th>\n",
       "      <th>Date</th>\n",
       "      <th>TEMP</th>\n",
       "      <th>2MavgTemp</th>\n",
       "      <th>3MavgTemp</th>\n",
       "      <th>4MavgTemp</th>\n",
       "      <th>5MavgTemp</th>\n",
       "      <th>6MavgTemp</th>\n",
       "      <th>7MavgTemp</th>\n",
       "      <th>8MavgTemp</th>\n",
       "      <th>9MavgTemp</th>\n",
       "      <th>10MavgTemp</th>\n",
       "      <th>11MavgTemp</th>\n",
       "      <th>12MavgTemp</th>\n",
       "    </tr>\n",
       "  </thead>\n",
       "  <tbody>\n",
       "    <tr>\n",
       "      <td>0</td>\n",
       "      <td>AL</td>\n",
       "      <td>1991-01-01</td>\n",
       "      <td>7.409722</td>\n",
       "      <td>NaN</td>\n",
       "      <td>NaN</td>\n",
       "      <td>NaN</td>\n",
       "      <td>NaN</td>\n",
       "      <td>NaN</td>\n",
       "      <td>NaN</td>\n",
       "      <td>NaN</td>\n",
       "      <td>NaN</td>\n",
       "      <td>NaN</td>\n",
       "      <td>NaN</td>\n",
       "      <td>NaN</td>\n",
       "    </tr>\n",
       "    <tr>\n",
       "      <td>1</td>\n",
       "      <td>AL</td>\n",
       "      <td>1991-02-01</td>\n",
       "      <td>9.979167</td>\n",
       "      <td>8.694444</td>\n",
       "      <td>NaN</td>\n",
       "      <td>NaN</td>\n",
       "      <td>NaN</td>\n",
       "      <td>NaN</td>\n",
       "      <td>NaN</td>\n",
       "      <td>NaN</td>\n",
       "      <td>NaN</td>\n",
       "      <td>NaN</td>\n",
       "      <td>NaN</td>\n",
       "      <td>NaN</td>\n",
       "    </tr>\n",
       "    <tr>\n",
       "      <td>2</td>\n",
       "      <td>AL</td>\n",
       "      <td>1991-03-01</td>\n",
       "      <td>13.583333</td>\n",
       "      <td>11.781250</td>\n",
       "      <td>10.324074</td>\n",
       "      <td>NaN</td>\n",
       "      <td>NaN</td>\n",
       "      <td>NaN</td>\n",
       "      <td>NaN</td>\n",
       "      <td>NaN</td>\n",
       "      <td>NaN</td>\n",
       "      <td>NaN</td>\n",
       "      <td>NaN</td>\n",
       "      <td>NaN</td>\n",
       "    </tr>\n",
       "    <tr>\n",
       "      <td>3</td>\n",
       "      <td>AL</td>\n",
       "      <td>1991-04-01</td>\n",
       "      <td>18.569444</td>\n",
       "      <td>16.076389</td>\n",
       "      <td>14.043981</td>\n",
       "      <td>12.385417</td>\n",
       "      <td>NaN</td>\n",
       "      <td>NaN</td>\n",
       "      <td>NaN</td>\n",
       "      <td>NaN</td>\n",
       "      <td>NaN</td>\n",
       "      <td>NaN</td>\n",
       "      <td>NaN</td>\n",
       "      <td>NaN</td>\n",
       "    </tr>\n",
       "    <tr>\n",
       "      <td>4</td>\n",
       "      <td>AL</td>\n",
       "      <td>1991-05-01</td>\n",
       "      <td>22.750000</td>\n",
       "      <td>20.659722</td>\n",
       "      <td>18.300926</td>\n",
       "      <td>16.220486</td>\n",
       "      <td>14.458333</td>\n",
       "      <td>NaN</td>\n",
       "      <td>NaN</td>\n",
       "      <td>NaN</td>\n",
       "      <td>NaN</td>\n",
       "      <td>NaN</td>\n",
       "      <td>NaN</td>\n",
       "      <td>NaN</td>\n",
       "    </tr>\n",
       "    <tr>\n",
       "      <td>...</td>\n",
       "      <td>...</td>\n",
       "      <td>...</td>\n",
       "      <td>...</td>\n",
       "      <td>...</td>\n",
       "      <td>...</td>\n",
       "      <td>...</td>\n",
       "      <td>...</td>\n",
       "      <td>...</td>\n",
       "      <td>...</td>\n",
       "      <td>...</td>\n",
       "      <td>...</td>\n",
       "      <td>...</td>\n",
       "      <td>...</td>\n",
       "      <td>...</td>\n",
       "    </tr>\n",
       "    <tr>\n",
       "      <td>14395</td>\n",
       "      <td>WY</td>\n",
       "      <td>2015-08-01</td>\n",
       "      <td>17.744444</td>\n",
       "      <td>17.627778</td>\n",
       "      <td>17.390741</td>\n",
       "      <td>15.101389</td>\n",
       "      <td>13.081111</td>\n",
       "      <td>11.397222</td>\n",
       "      <td>9.442857</td>\n",
       "      <td>7.785417</td>\n",
       "      <td>6.463580</td>\n",
       "      <td>5.523333</td>\n",
       "      <td>5.754545</td>\n",
       "      <td>6.353704</td>\n",
       "    </tr>\n",
       "    <tr>\n",
       "      <td>14396</td>\n",
       "      <td>WY</td>\n",
       "      <td>2015-09-01</td>\n",
       "      <td>15.011111</td>\n",
       "      <td>16.377778</td>\n",
       "      <td>16.755556</td>\n",
       "      <td>16.795833</td>\n",
       "      <td>15.083333</td>\n",
       "      <td>13.402778</td>\n",
       "      <td>11.913492</td>\n",
       "      <td>10.138889</td>\n",
       "      <td>8.588272</td>\n",
       "      <td>7.318333</td>\n",
       "      <td>6.385859</td>\n",
       "      <td>6.525926</td>\n",
       "    </tr>\n",
       "    <tr>\n",
       "      <td>14397</td>\n",
       "      <td>WY</td>\n",
       "      <td>2015-10-01</td>\n",
       "      <td>9.000000</td>\n",
       "      <td>12.005556</td>\n",
       "      <td>13.918519</td>\n",
       "      <td>14.816667</td>\n",
       "      <td>15.236667</td>\n",
       "      <td>14.069444</td>\n",
       "      <td>12.773810</td>\n",
       "      <td>11.549306</td>\n",
       "      <td>10.012346</td>\n",
       "      <td>8.629444</td>\n",
       "      <td>7.471212</td>\n",
       "      <td>6.603704</td>\n",
       "    </tr>\n",
       "    <tr>\n",
       "      <td>14398</td>\n",
       "      <td>WY</td>\n",
       "      <td>2015-11-01</td>\n",
       "      <td>-1.794444</td>\n",
       "      <td>3.602778</td>\n",
       "      <td>7.405556</td>\n",
       "      <td>9.990278</td>\n",
       "      <td>11.494444</td>\n",
       "      <td>12.398148</td>\n",
       "      <td>11.803175</td>\n",
       "      <td>10.952778</td>\n",
       "      <td>10.066667</td>\n",
       "      <td>8.831667</td>\n",
       "      <td>7.681818</td>\n",
       "      <td>6.699074</td>\n",
       "    </tr>\n",
       "    <tr>\n",
       "      <td>14399</td>\n",
       "      <td>WY</td>\n",
       "      <td>2015-12-01</td>\n",
       "      <td>-5.900000</td>\n",
       "      <td>-3.847222</td>\n",
       "      <td>0.435185</td>\n",
       "      <td>4.079167</td>\n",
       "      <td>6.812222</td>\n",
       "      <td>8.595370</td>\n",
       "      <td>9.784127</td>\n",
       "      <td>9.590278</td>\n",
       "      <td>9.080247</td>\n",
       "      <td>8.470000</td>\n",
       "      <td>7.492424</td>\n",
       "      <td>6.550000</td>\n",
       "    </tr>\n",
       "  </tbody>\n",
       "</table>\n",
       "<p>14400 rows × 14 columns</p>\n",
       "</div>"
      ],
      "text/plain": [
       "      State       Date       TEMP  2MavgTemp  3MavgTemp  4MavgTemp  5MavgTemp  \\\n",
       "0        AL 1991-01-01   7.409722        NaN        NaN        NaN        NaN   \n",
       "1        AL 1991-02-01   9.979167   8.694444        NaN        NaN        NaN   \n",
       "2        AL 1991-03-01  13.583333  11.781250  10.324074        NaN        NaN   \n",
       "3        AL 1991-04-01  18.569444  16.076389  14.043981  12.385417        NaN   \n",
       "4        AL 1991-05-01  22.750000  20.659722  18.300926  16.220486  14.458333   \n",
       "...     ...        ...        ...        ...        ...        ...        ...   \n",
       "14395    WY 2015-08-01  17.744444  17.627778  17.390741  15.101389  13.081111   \n",
       "14396    WY 2015-09-01  15.011111  16.377778  16.755556  16.795833  15.083333   \n",
       "14397    WY 2015-10-01   9.000000  12.005556  13.918519  14.816667  15.236667   \n",
       "14398    WY 2015-11-01  -1.794444   3.602778   7.405556   9.990278  11.494444   \n",
       "14399    WY 2015-12-01  -5.900000  -3.847222   0.435185   4.079167   6.812222   \n",
       "\n",
       "       6MavgTemp  7MavgTemp  8MavgTemp  9MavgTemp  10MavgTemp  11MavgTemp  \\\n",
       "0            NaN        NaN        NaN        NaN         NaN         NaN   \n",
       "1            NaN        NaN        NaN        NaN         NaN         NaN   \n",
       "2            NaN        NaN        NaN        NaN         NaN         NaN   \n",
       "3            NaN        NaN        NaN        NaN         NaN         NaN   \n",
       "4            NaN        NaN        NaN        NaN         NaN         NaN   \n",
       "...          ...        ...        ...        ...         ...         ...   \n",
       "14395  11.397222   9.442857   7.785417   6.463580    5.523333    5.754545   \n",
       "14396  13.402778  11.913492  10.138889   8.588272    7.318333    6.385859   \n",
       "14397  14.069444  12.773810  11.549306  10.012346    8.629444    7.471212   \n",
       "14398  12.398148  11.803175  10.952778  10.066667    8.831667    7.681818   \n",
       "14399   8.595370   9.784127   9.590278   9.080247    8.470000    7.492424   \n",
       "\n",
       "       12MavgTemp  \n",
       "0             NaN  \n",
       "1             NaN  \n",
       "2             NaN  \n",
       "3             NaN  \n",
       "4             NaN  \n",
       "...           ...  \n",
       "14395    6.353704  \n",
       "14396    6.525926  \n",
       "14397    6.603704  \n",
       "14398    6.699074  \n",
       "14399    6.550000  \n",
       "\n",
       "[14400 rows x 14 columns]"
      ]
     },
     "metadata": {},
     "output_type": "display_data"
    }
   ],
   "source": [
    "display(dfPalmerZ, dftemp)"
   ]
  },
  {
   "cell_type": "markdown",
   "metadata": {},
   "source": [
    "Merge wildfires data on the x month average temperature and the x month average Palmer-Z index and also merge number of wildfires per month per state. So the average monthly temperature can be regressed on the size of a wildfire and the temperature can be regeressed on the number of wildfires that month."
   ]
  },
  {
   "cell_type": "code",
   "execution_count": 32,
   "metadata": {
    "scrolled": false
   },
   "outputs": [],
   "source": [
    "# dfWildPart = dfWild.loc[np.floor(len(dfWild)*0.1):,:]\n",
    "dfWildPart = dfWild\n",
    "\n",
    "dfWildPart.loc[:, 'YEAR'] = dfWildPart.DATE_DISCOVERY.dt.year\n",
    "dfWildPart.loc[:, 'MONTH'] = dfWildPart.DATE_DISCOVERY.dt.month\n",
    "\n",
    "dftemp.loc[:, 'YEAR'] = dftemp.Date.dt.year\n",
    "dftemp.loc[:, 'MONTH'] = dftemp.Date.dt.month\n",
    "\n",
    "dfPalmerZ.loc[:, 'YEAR'] = dftemp.Date.dt.year\n",
    "dfPalmerZ.loc[:, 'MONTH'] = dftemp.Date.dt.month\n",
    "\n",
    "wildCount = dfWild.groupby(['STATE', 'YEAR', 'MONTH'])['FIRE_SIZE'].count()\n",
    "wildCount = pd.DataFrame(wildCount)\n",
    "wildCount = wildCount.rename(columns={'FIRE_SIZE':'COUNTS'})\n",
    "\n",
    "dfWildPart = pd.merge(dfWildPart, wildCount, how='left', left_on=['STATE', 'YEAR', 'MONTH'], right_on=['STATE', 'YEAR', 'MONTH'])\n",
    "\n",
    "dfTempWild = pd.merge(dfWildPart, dftemp, how='left', left_on=['STATE', 'YEAR', 'MONTH'], right_on=['State', 'YEAR', 'MONTH'])\n",
    "dfTempWild = dfTempWild.drop(['Date', 'State'], axis=1).dropna() # Drop NaN because for Alaska and Hawaii there are no temp records\n",
    "\n",
    "dfPalmWild = pd.merge(dfWildPart, dfPalmerZ, how='left', left_on=['STATE', 'YEAR', 'MONTH'], right_on=['State', 'YEAR', 'MONTH'])\n",
    "dfPalmWild = dfPalmWild.drop(['Date', 'State'], axis=1).dropna() # Drop NaN because for Alaska and Hawaii there are no temp records\n",
    "\n",
    "dfReg = dfPalmWild.join(dfTempWild.loc[:,'TEMP':],how='left') "
   ]
  },
  {
   "cell_type": "code",
   "execution_count": 23,
   "metadata": {
    "scrolled": false
   },
   "outputs": [
    {
     "data": {
      "text/plain": [
       "array(['Smoking', 'Miscellaneous', 'Debris Burning', 'Structure',\n",
       "       'Campfire', 'Arson', 'Children', 'Fireworks', 'Powerline',\n",
       "       'Missing/Undefined', 'Equipment Use', 'Lightning', 'Railroad'],\n",
       "      dtype=object)"
      ]
     },
     "metadata": {},
     "output_type": "display_data"
    }
   ],
   "source": [
    "display(dfWild['STAT_CAUSE_DESCR'].unique())"
   ]
  },
  {
   "cell_type": "markdown",
   "metadata": {},
   "source": [
    "Linear regression"
   ]
  },
  {
   "cell_type": "code",
   "execution_count": 162,
   "metadata": {},
   "outputs": [
    {
     "data": {
      "text/html": [
       "<div>\n",
       "<style scoped>\n",
       "    .dataframe tbody tr th:only-of-type {\n",
       "        vertical-align: middle;\n",
       "    }\n",
       "\n",
       "    .dataframe tbody tr th {\n",
       "        vertical-align: top;\n",
       "    }\n",
       "\n",
       "    .dataframe thead th {\n",
       "        text-align: right;\n",
       "    }\n",
       "</style>\n",
       "<table border=\"1\" class=\"dataframe\">\n",
       "  <thead>\n",
       "    <tr style=\"text-align: right;\">\n",
       "      <th></th>\n",
       "      <th>DATE_DISCOVERY</th>\n",
       "      <th>STAT_CAUSE_DESCR</th>\n",
       "      <th>FIRE_SIZE</th>\n",
       "      <th>FIRE_SIZE_CLASS</th>\n",
       "      <th>STATE</th>\n",
       "      <th>LATITUDE</th>\n",
       "      <th>LONGITUDE</th>\n",
       "      <th>YEAR</th>\n",
       "      <th>MONTH</th>\n",
       "      <th>COUNTS</th>\n",
       "      <th>...</th>\n",
       "      <th>3MavgTemp</th>\n",
       "      <th>4MavgTemp</th>\n",
       "      <th>5MavgTemp</th>\n",
       "      <th>6MavgTemp</th>\n",
       "      <th>7MavgTemp</th>\n",
       "      <th>8MavgTemp</th>\n",
       "      <th>9MavgTemp</th>\n",
       "      <th>10MavgTemp</th>\n",
       "      <th>11MavgTemp</th>\n",
       "      <th>12MavgTemp</th>\n",
       "    </tr>\n",
       "  </thead>\n",
       "  <tbody>\n",
       "    <tr>\n",
       "      <td>1214691</td>\n",
       "      <td>2006-07-20</td>\n",
       "      <td>Lightning</td>\n",
       "      <td>0.1</td>\n",
       "      <td>A</td>\n",
       "      <td>NV</td>\n",
       "      <td>39.488056</td>\n",
       "      <td>-117.076944</td>\n",
       "      <td>2006</td>\n",
       "      <td>7</td>\n",
       "      <td>494</td>\n",
       "      <td>...</td>\n",
       "      <td>21.513889</td>\n",
       "      <td>18.652778</td>\n",
       "      <td>15.630556</td>\n",
       "      <td>13.574074</td>\n",
       "      <td>11.992063</td>\n",
       "      <td>10.776042</td>\n",
       "      <td>10.351852</td>\n",
       "      <td>10.554167</td>\n",
       "      <td>11.155303</td>\n",
       "      <td>12.156250</td>\n",
       "    </tr>\n",
       "    <tr>\n",
       "      <td>1208093</td>\n",
       "      <td>1998-09-03</td>\n",
       "      <td>Lightning</td>\n",
       "      <td>412.0</td>\n",
       "      <td>E</td>\n",
       "      <td>NV</td>\n",
       "      <td>41.765500</td>\n",
       "      <td>-117.953200</td>\n",
       "      <td>1998</td>\n",
       "      <td>9</td>\n",
       "      <td>57</td>\n",
       "      <td>...</td>\n",
       "      <td>22.430556</td>\n",
       "      <td>21.041667</td>\n",
       "      <td>19.130556</td>\n",
       "      <td>17.254630</td>\n",
       "      <td>15.636905</td>\n",
       "      <td>13.944444</td>\n",
       "      <td>12.720679</td>\n",
       "      <td>11.463889</td>\n",
       "      <td>10.997475</td>\n",
       "      <td>11.028935</td>\n",
       "    </tr>\n",
       "    <tr>\n",
       "      <td>1210040</td>\n",
       "      <td>2000-08-18</td>\n",
       "      <td>Lightning</td>\n",
       "      <td>0.1</td>\n",
       "      <td>A</td>\n",
       "      <td>NV</td>\n",
       "      <td>37.630200</td>\n",
       "      <td>-114.334200</td>\n",
       "      <td>2000</td>\n",
       "      <td>8</td>\n",
       "      <td>371</td>\n",
       "      <td>...</td>\n",
       "      <td>23.069444</td>\n",
       "      <td>21.413194</td>\n",
       "      <td>19.591667</td>\n",
       "      <td>17.388889</td>\n",
       "      <td>15.581349</td>\n",
       "      <td>14.010417</td>\n",
       "      <td>12.641975</td>\n",
       "      <td>12.200000</td>\n",
       "      <td>12.339646</td>\n",
       "      <td>12.863426</td>\n",
       "    </tr>\n",
       "    <tr>\n",
       "      <td>1219650</td>\n",
       "      <td>2014-07-04</td>\n",
       "      <td>Lightning</td>\n",
       "      <td>0.1</td>\n",
       "      <td>A</td>\n",
       "      <td>NV</td>\n",
       "      <td>39.332500</td>\n",
       "      <td>-115.711100</td>\n",
       "      <td>2014</td>\n",
       "      <td>7</td>\n",
       "      <td>249</td>\n",
       "      <td>...</td>\n",
       "      <td>20.740741</td>\n",
       "      <td>18.288194</td>\n",
       "      <td>16.194444</td>\n",
       "      <td>14.395833</td>\n",
       "      <td>12.942460</td>\n",
       "      <td>11.269097</td>\n",
       "      <td>10.746914</td>\n",
       "      <td>10.706944</td>\n",
       "      <td>11.397727</td>\n",
       "      <td>12.386574</td>\n",
       "    </tr>\n",
       "    <tr>\n",
       "      <td>1204849</td>\n",
       "      <td>1994-07-22</td>\n",
       "      <td>Lightning</td>\n",
       "      <td>0.3</td>\n",
       "      <td>B</td>\n",
       "      <td>NV</td>\n",
       "      <td>39.799900</td>\n",
       "      <td>-119.501000</td>\n",
       "      <td>1994</td>\n",
       "      <td>7</td>\n",
       "      <td>298</td>\n",
       "      <td>...</td>\n",
       "      <td>20.759259</td>\n",
       "      <td>18.229167</td>\n",
       "      <td>16.300000</td>\n",
       "      <td>13.833333</td>\n",
       "      <td>12.220238</td>\n",
       "      <td>10.810764</td>\n",
       "      <td>9.970679</td>\n",
       "      <td>10.193056</td>\n",
       "      <td>10.928030</td>\n",
       "      <td>11.834491</td>\n",
       "    </tr>\n",
       "    <tr>\n",
       "      <td>...</td>\n",
       "      <td>...</td>\n",
       "      <td>...</td>\n",
       "      <td>...</td>\n",
       "      <td>...</td>\n",
       "      <td>...</td>\n",
       "      <td>...</td>\n",
       "      <td>...</td>\n",
       "      <td>...</td>\n",
       "      <td>...</td>\n",
       "      <td>...</td>\n",
       "      <td>...</td>\n",
       "      <td>...</td>\n",
       "      <td>...</td>\n",
       "      <td>...</td>\n",
       "      <td>...</td>\n",
       "      <td>...</td>\n",
       "      <td>...</td>\n",
       "      <td>...</td>\n",
       "      <td>...</td>\n",
       "      <td>...</td>\n",
       "      <td>...</td>\n",
       "    </tr>\n",
       "    <tr>\n",
       "      <td>1216408</td>\n",
       "      <td>2009-05-31</td>\n",
       "      <td>Lightning</td>\n",
       "      <td>0.1</td>\n",
       "      <td>A</td>\n",
       "      <td>NV</td>\n",
       "      <td>37.509400</td>\n",
       "      <td>-114.303900</td>\n",
       "      <td>2009</td>\n",
       "      <td>5</td>\n",
       "      <td>48</td>\n",
       "      <td>...</td>\n",
       "      <td>10.925926</td>\n",
       "      <td>8.972222</td>\n",
       "      <td>7.719444</td>\n",
       "      <td>6.472222</td>\n",
       "      <td>6.714286</td>\n",
       "      <td>7.451389</td>\n",
       "      <td>8.768519</td>\n",
       "      <td>10.320833</td>\n",
       "      <td>11.643939</td>\n",
       "      <td>12.359954</td>\n",
       "    </tr>\n",
       "    <tr>\n",
       "      <td>1218910</td>\n",
       "      <td>2013-06-10</td>\n",
       "      <td>Lightning</td>\n",
       "      <td>0.1</td>\n",
       "      <td>A</td>\n",
       "      <td>NV</td>\n",
       "      <td>39.983300</td>\n",
       "      <td>-116.100800</td>\n",
       "      <td>2013</td>\n",
       "      <td>6</td>\n",
       "      <td>97</td>\n",
       "      <td>...</td>\n",
       "      <td>15.958333</td>\n",
       "      <td>14.104167</td>\n",
       "      <td>11.705556</td>\n",
       "      <td>9.469907</td>\n",
       "      <td>8.259921</td>\n",
       "      <td>8.184028</td>\n",
       "      <td>8.751543</td>\n",
       "      <td>9.919444</td>\n",
       "      <td>11.270202</td>\n",
       "      <td>12.365741</td>\n",
       "    </tr>\n",
       "    <tr>\n",
       "      <td>1209307</td>\n",
       "      <td>2000-06-17</td>\n",
       "      <td>Lightning</td>\n",
       "      <td>0.1</td>\n",
       "      <td>A</td>\n",
       "      <td>NV</td>\n",
       "      <td>39.294100</td>\n",
       "      <td>-119.425400</td>\n",
       "      <td>2000</td>\n",
       "      <td>6</td>\n",
       "      <td>235</td>\n",
       "      <td>...</td>\n",
       "      <td>16.782407</td>\n",
       "      <td>14.180556</td>\n",
       "      <td>12.291667</td>\n",
       "      <td>10.745370</td>\n",
       "      <td>9.452381</td>\n",
       "      <td>9.298611</td>\n",
       "      <td>9.791667</td>\n",
       "      <td>10.675000</td>\n",
       "      <td>11.722222</td>\n",
       "      <td>12.678241</td>\n",
       "    </tr>\n",
       "    <tr>\n",
       "      <td>1212550</td>\n",
       "      <td>2003-09-16</td>\n",
       "      <td>Lightning</td>\n",
       "      <td>330.0</td>\n",
       "      <td>E</td>\n",
       "      <td>NV</td>\n",
       "      <td>39.250000</td>\n",
       "      <td>-114.700000</td>\n",
       "      <td>2003</td>\n",
       "      <td>9</td>\n",
       "      <td>63</td>\n",
       "      <td>...</td>\n",
       "      <td>23.296296</td>\n",
       "      <td>22.829861</td>\n",
       "      <td>21.352778</td>\n",
       "      <td>19.157407</td>\n",
       "      <td>17.450397</td>\n",
       "      <td>15.595486</td>\n",
       "      <td>14.532407</td>\n",
       "      <td>13.279167</td>\n",
       "      <td>12.616162</td>\n",
       "      <td>12.481481</td>\n",
       "    </tr>\n",
       "    <tr>\n",
       "      <td>1214414</td>\n",
       "      <td>2006-07-01</td>\n",
       "      <td>Lightning</td>\n",
       "      <td>1.0</td>\n",
       "      <td>B</td>\n",
       "      <td>NV</td>\n",
       "      <td>38.083300</td>\n",
       "      <td>-114.183300</td>\n",
       "      <td>2006</td>\n",
       "      <td>7</td>\n",
       "      <td>494</td>\n",
       "      <td>...</td>\n",
       "      <td>21.513889</td>\n",
       "      <td>18.652778</td>\n",
       "      <td>15.630556</td>\n",
       "      <td>13.574074</td>\n",
       "      <td>11.992063</td>\n",
       "      <td>10.776042</td>\n",
       "      <td>10.351852</td>\n",
       "      <td>10.554167</td>\n",
       "      <td>11.155303</td>\n",
       "      <td>12.156250</td>\n",
       "    </tr>\n",
       "  </tbody>\n",
       "</table>\n",
       "<p>2707 rows × 34 columns</p>\n",
       "</div>"
      ],
      "text/plain": [
       "        DATE_DISCOVERY STAT_CAUSE_DESCR  FIRE_SIZE FIRE_SIZE_CLASS STATE  \\\n",
       "1214691     2006-07-20        Lightning        0.1               A    NV   \n",
       "1208093     1998-09-03        Lightning      412.0               E    NV   \n",
       "1210040     2000-08-18        Lightning        0.1               A    NV   \n",
       "1219650     2014-07-04        Lightning        0.1               A    NV   \n",
       "1204849     1994-07-22        Lightning        0.3               B    NV   \n",
       "...                ...              ...        ...             ...   ...   \n",
       "1216408     2009-05-31        Lightning        0.1               A    NV   \n",
       "1218910     2013-06-10        Lightning        0.1               A    NV   \n",
       "1209307     2000-06-17        Lightning        0.1               A    NV   \n",
       "1212550     2003-09-16        Lightning      330.0               E    NV   \n",
       "1214414     2006-07-01        Lightning        1.0               B    NV   \n",
       "\n",
       "          LATITUDE   LONGITUDE  YEAR  MONTH  COUNTS  ...  3MavgTemp  \\\n",
       "1214691  39.488056 -117.076944  2006      7     494  ...  21.513889   \n",
       "1208093  41.765500 -117.953200  1998      9      57  ...  22.430556   \n",
       "1210040  37.630200 -114.334200  2000      8     371  ...  23.069444   \n",
       "1219650  39.332500 -115.711100  2014      7     249  ...  20.740741   \n",
       "1204849  39.799900 -119.501000  1994      7     298  ...  20.759259   \n",
       "...            ...         ...   ...    ...     ...  ...        ...   \n",
       "1216408  37.509400 -114.303900  2009      5      48  ...  10.925926   \n",
       "1218910  39.983300 -116.100800  2013      6      97  ...  15.958333   \n",
       "1209307  39.294100 -119.425400  2000      6     235  ...  16.782407   \n",
       "1212550  39.250000 -114.700000  2003      9      63  ...  23.296296   \n",
       "1214414  38.083300 -114.183300  2006      7     494  ...  21.513889   \n",
       "\n",
       "         4MavgTemp  5MavgTemp  6MavgTemp  7MavgTemp  8MavgTemp  9MavgTemp  \\\n",
       "1214691  18.652778  15.630556  13.574074  11.992063  10.776042  10.351852   \n",
       "1208093  21.041667  19.130556  17.254630  15.636905  13.944444  12.720679   \n",
       "1210040  21.413194  19.591667  17.388889  15.581349  14.010417  12.641975   \n",
       "1219650  18.288194  16.194444  14.395833  12.942460  11.269097  10.746914   \n",
       "1204849  18.229167  16.300000  13.833333  12.220238  10.810764   9.970679   \n",
       "...            ...        ...        ...        ...        ...        ...   \n",
       "1216408   8.972222   7.719444   6.472222   6.714286   7.451389   8.768519   \n",
       "1218910  14.104167  11.705556   9.469907   8.259921   8.184028   8.751543   \n",
       "1209307  14.180556  12.291667  10.745370   9.452381   9.298611   9.791667   \n",
       "1212550  22.829861  21.352778  19.157407  17.450397  15.595486  14.532407   \n",
       "1214414  18.652778  15.630556  13.574074  11.992063  10.776042  10.351852   \n",
       "\n",
       "         10MavgTemp  11MavgTemp  12MavgTemp  \n",
       "1214691   10.554167   11.155303   12.156250  \n",
       "1208093   11.463889   10.997475   11.028935  \n",
       "1210040   12.200000   12.339646   12.863426  \n",
       "1219650   10.706944   11.397727   12.386574  \n",
       "1204849   10.193056   10.928030   11.834491  \n",
       "...             ...         ...         ...  \n",
       "1216408   10.320833   11.643939   12.359954  \n",
       "1218910    9.919444   11.270202   12.365741  \n",
       "1209307   10.675000   11.722222   12.678241  \n",
       "1212550   13.279167   12.616162   12.481481  \n",
       "1214414   10.554167   11.155303   12.156250  \n",
       "\n",
       "[2707 rows x 34 columns]"
      ]
     },
     "metadata": {},
     "output_type": "display_data"
    },
    {
     "data": {
      "text/plain": [
       "2707"
      ]
     },
     "metadata": {},
     "output_type": "display_data"
    },
    {
     "data": {
      "image/png": "[encoded data removed]",
      "text/plain": [
       "<Figure size 432x288 with 1 Axes>"
      ]
     },
     "metadata": {
      "needs_background": "light"
     },
     "output_type": "display_data"
    },
    {
     "name": "stdout",
     "output_type": "stream",
     "text": [
      "----------------- Linear regression ----------------- \n",
      "\n",
      "Y_i = X_i*Beta + e_i\n",
      "e_i ~ N(0,sigma_{e}^2)\n",
      "\n",
      "Beta_0 = -0.262\n",
      "t-statistic = -1.941\n",
      "p-value = 0.166\n",
      "\n",
      "Beta_1 = -0.020\n",
      "t-statistic = -3.201\n",
      "p-value = 0.055\n",
      "\n",
      "R2 = 0.002\n",
      "----------------- End Linear regression ----------------- \n",
      "\n"
     ]
    }
   ],
   "source": [
    "import random\n",
    "random.seed(10)\n",
    "\n",
    "dfreg = dfReg.sample(frac=0.2)\n",
    "if True:\n",
    "    dfreg = dfreg[(dfreg['STAT_CAUSE_DESCR'] == 'Miscellaneous') |\\\n",
    "    (dfreg['STAT_CAUSE_DESCR'] == 'Lightning') |\\\n",
    "    (dfreg['STAT_CAUSE_DESCR'] == 'Missing/Undefined')]\n",
    "    dfreg = dfreg[dfreg['STATE'] == 'NV'] #|\\\n",
    "#     (dfreg['STATE'] == 'CA')]\n",
    "#     dfreg = dfreg[dfreg['FIRE_SIZE_CLASS'] != 'A']\n",
    "#     dfreg = dfreg[dfreg['FIRE_SIZE_CLASS'] != 'B']\n",
    "display(dfreg)\n",
    "display(len(dfreg))\n",
    "X = np.vstack(( np.ones(len(dfreg)), np.array(dfreg[f'{2}MavgTemp']) )).T\n",
    "# X = np.vstack((np.ones(len(dfreg)), np.array(dfreg[f'{2}MavgTemp']))).T\n",
    "# Y = np.array(dfreg['FIRE_SIZE']).reshape((-1, 1))\n",
    "Y = np.array(dfreg[f'PALMZ']).reshape((-1, 1))\n",
    "# Y = np.log(Y)\n",
    "plt.scatter(X[:,1],Y) \n",
    "plt.show()\n",
    "lm = linreg\n",
    "lm.X = X\n",
    "lm.Y = Y\n",
    "lm.fit()\n",
    "lm.results()"
   ]
  },
  {
   "cell_type": "markdown",
   "metadata": {},
   "source": [
    "Linear regression save R2 for each state"
   ]
  },
  {
   "cell_type": "code",
   "execution_count": 153,
   "metadata": {},
   "outputs": [
    {
     "data": {
      "text/plain": [
       "array(['AL', 'AR', 'AZ', 'CA', 'CO', 'CT', 'DE', 'FL', 'GA', 'IA', 'ID',\n",
       "       'IL', 'IN', 'KS', 'KY', 'LA', 'MA', 'MD', 'ME', 'MI', 'MN', 'MO',\n",
       "       'MS', 'MT', 'NC', 'ND', 'NE', 'NH', 'NJ', 'NM', 'NV', 'NY', 'OH',\n",
       "       'OK', 'OR', 'PA', 'RI', 'SC', 'SD', 'TN', 'TX', 'UT', 'VA', 'VT',\n",
       "       'WA', 'WI', 'WV', 'WY'], dtype=object)"
      ]
     },
     "metadata": {},
     "output_type": "display_data"
    },
    {
     "data": {
      "text/plain": [
       "{'AL': 0.0,\n",
       " 'AR': 0.0,\n",
       " 'AZ': 0.0,\n",
       " 'CA': 0.0,\n",
       " 'CO': 0.0,\n",
       " 'CT': 0.0,\n",
       " 'DE': 0.0,\n",
       " 'FL': 0.0,\n",
       " 'GA': 0.0,\n",
       " 'IA': 0.0,\n",
       " 'ID': 0.0,\n",
       " 'IL': 0.0,\n",
       " 'IN': 0.0,\n",
       " 'KS': 0.0,\n",
       " 'KY': 0.0,\n",
       " 'LA': 0.0,\n",
       " 'MA': 0.0,\n",
       " 'MD': 0.0,\n",
       " 'ME': 0.0,\n",
       " 'MI': 0.0,\n",
       " 'MN': 0.0,\n",
       " 'MO': 0.0,\n",
       " 'MS': 0.0,\n",
       " 'MT': 0.0,\n",
       " 'NC': 0.0,\n",
       " 'ND': 0.0,\n",
       " 'NE': 0.0,\n",
       " 'NH': 0.0,\n",
       " 'NJ': 0.0,\n",
       " 'NM': 0.0,\n",
       " 'NV': 0.0,\n",
       " 'NY': 0.0,\n",
       " 'OH': 0.0,\n",
       " 'OK': 0.0,\n",
       " 'OR': 0.0,\n",
       " 'PA': 0.0,\n",
       " 'RI': 0.0,\n",
       " 'SC': 0.0,\n",
       " 'SD': 0.0,\n",
       " 'TN': 0.0,\n",
       " 'TX': 0.0,\n",
       " 'UT': 0.0,\n",
       " 'VA': 0.0,\n",
       " 'VT': 0.0,\n",
       " 'WA': 0.0,\n",
       " 'WI': 0.0,\n",
       " 'WV': 0.0,\n",
       " 'WY': 0.0}"
      ]
     },
     "metadata": {},
     "output_type": "display_data"
    },
    {
     "name": "stdout",
     "output_type": "stream",
     "text": [
      "AL\n"
     ]
    },
    {
     "data": {
      "text/plain": [
       "13381"
      ]
     },
     "metadata": {},
     "output_type": "display_data"
    },
    {
     "name": "stdout",
     "output_type": "stream",
     "text": [
      "AR\n"
     ]
    },
    {
     "data": {
      "text/plain": [
       "6213"
      ]
     },
     "metadata": {},
     "output_type": "display_data"
    },
    {
     "name": "stdout",
     "output_type": "stream",
     "text": [
      "AZ\n"
     ]
    },
    {
     "data": {
      "text/plain": [
       "14277"
      ]
     },
     "metadata": {},
     "output_type": "display_data"
    },
    {
     "name": "stdout",
     "output_type": "stream",
     "text": [
      "CA\n"
     ]
    },
    {
     "data": {
      "text/plain": [
       "37845"
      ]
     },
     "metadata": {},
     "output_type": "display_data"
    },
    {
     "name": "stdout",
     "output_type": "stream",
     "text": [
      "CO\n"
     ]
    },
    {
     "data": {
      "text/plain": [
       "7012"
      ]
     },
     "metadata": {},
     "output_type": "display_data"
    },
    {
     "name": "stdout",
     "output_type": "stream",
     "text": [
      "CT\n"
     ]
    },
    {
     "data": {
      "text/plain": [
       "1000"
      ]
     },
     "metadata": {},
     "output_type": "display_data"
    },
    {
     "name": "stdout",
     "output_type": "stream",
     "text": [
      "DE\n"
     ]
    },
    {
     "data": {
      "text/plain": [
       "22"
      ]
     },
     "metadata": {},
     "output_type": "display_data"
    },
    {
     "name": "stdout",
     "output_type": "stream",
     "text": [
      "FL\n"
     ]
    },
    {
     "data": {
      "text/plain": [
       "18080"
      ]
     },
     "metadata": {},
     "output_type": "display_data"
    },
    {
     "name": "stdout",
     "output_type": "stream",
     "text": [
      "GA\n"
     ]
    },
    {
     "data": {
      "text/plain": [
       "33761"
      ]
     },
     "metadata": {},
     "output_type": "display_data"
    },
    {
     "name": "stdout",
     "output_type": "stream",
     "text": [
      "IA\n"
     ]
    },
    {
     "data": {
      "text/plain": [
       "830"
      ]
     },
     "metadata": {},
     "output_type": "display_data"
    },
    {
     "name": "stdout",
     "output_type": "stream",
     "text": [
      "ID\n"
     ]
    },
    {
     "data": {
      "text/plain": [
       "7475"
      ]
     },
     "metadata": {},
     "output_type": "display_data"
    },
    {
     "name": "stdout",
     "output_type": "stream",
     "text": [
      "IL\n"
     ]
    },
    {
     "data": {
      "text/plain": [
       "482"
      ]
     },
     "metadata": {},
     "output_type": "display_data"
    },
    {
     "name": "stdout",
     "output_type": "stream",
     "text": [
      "IN\n"
     ]
    },
    {
     "data": {
      "text/plain": [
       "414"
      ]
     },
     "metadata": {},
     "output_type": "display_data"
    },
    {
     "name": "stdout",
     "output_type": "stream",
     "text": [
      "KS\n"
     ]
    },
    {
     "data": {
      "text/plain": [
       "1521"
      ]
     },
     "metadata": {},
     "output_type": "display_data"
    },
    {
     "name": "stdout",
     "output_type": "stream",
     "text": [
      "KY\n"
     ]
    },
    {
     "data": {
      "text/plain": [
       "5383"
      ]
     },
     "metadata": {},
     "output_type": "display_data"
    },
    {
     "name": "stdout",
     "output_type": "stream",
     "text": [
      "LA\n"
     ]
    },
    {
     "data": {
      "text/plain": [
       "6047"
      ]
     },
     "metadata": {},
     "output_type": "display_data"
    },
    {
     "name": "stdout",
     "output_type": "stream",
     "text": [
      "MA\n"
     ]
    },
    {
     "data": {
      "text/plain": [
       "544"
      ]
     },
     "metadata": {},
     "output_type": "display_data"
    },
    {
     "name": "stdout",
     "output_type": "stream",
     "text": [
      "MD\n"
     ]
    },
    {
     "data": {
      "text/plain": [
       "765"
      ]
     },
     "metadata": {},
     "output_type": "display_data"
    },
    {
     "name": "stdout",
     "output_type": "stream",
     "text": [
      "ME\n"
     ]
    },
    {
     "data": {
      "text/plain": [
       "2651"
      ]
     },
     "metadata": {},
     "output_type": "display_data"
    },
    {
     "name": "stdout",
     "output_type": "stream",
     "text": [
      "MI\n"
     ]
    },
    {
     "data": {
      "text/plain": [
       "2118"
      ]
     },
     "metadata": {},
     "output_type": "display_data"
    },
    {
     "name": "stdout",
     "output_type": "stream",
     "text": [
      "MN\n"
     ]
    },
    {
     "data": {
      "text/plain": [
       "8859"
      ]
     },
     "metadata": {},
     "output_type": "display_data"
    },
    {
     "name": "stdout",
     "output_type": "stream",
     "text": [
      "MO\n"
     ]
    },
    {
     "data": {
      "text/plain": [
       "3611"
      ]
     },
     "metadata": {},
     "output_type": "display_data"
    },
    {
     "name": "stdout",
     "output_type": "stream",
     "text": [
      "MS\n"
     ]
    },
    {
     "data": {
      "text/plain": [
       "15727"
      ]
     },
     "metadata": {},
     "output_type": "display_data"
    },
    {
     "name": "stdout",
     "output_type": "stream",
     "text": [
      "MT\n"
     ]
    },
    {
     "data": {
      "text/plain": [
       "8172"
      ]
     },
     "metadata": {},
     "output_type": "display_data"
    },
    {
     "name": "stdout",
     "output_type": "stream",
     "text": [
      "NC\n"
     ]
    },
    {
     "data": {
      "text/plain": [
       "22147"
      ]
     },
     "metadata": {},
     "output_type": "display_data"
    },
    {
     "name": "stdout",
     "output_type": "stream",
     "text": [
      "ND\n"
     ]
    },
    {
     "data": {
      "text/plain": [
       "3049"
      ]
     },
     "metadata": {},
     "output_type": "display_data"
    },
    {
     "name": "stdout",
     "output_type": "stream",
     "text": [
      "NE\n"
     ]
    },
    {
     "data": {
      "text/plain": [
       "1596"
      ]
     },
     "metadata": {},
     "output_type": "display_data"
    },
    {
     "name": "stdout",
     "output_type": "stream",
     "text": [
      "NH\n"
     ]
    },
    {
     "data": {
      "text/plain": [
       "498"
      ]
     },
     "metadata": {},
     "output_type": "display_data"
    },
    {
     "name": "stdout",
     "output_type": "stream",
     "text": [
      "NJ\n"
     ]
    },
    {
     "data": {
      "text/plain": [
       "5174"
      ]
     },
     "metadata": {},
     "output_type": "display_data"
    },
    {
     "name": "stdout",
     "output_type": "stream",
     "text": [
      "NM\n"
     ]
    },
    {
     "data": {
      "text/plain": [
       "7471"
      ]
     },
     "metadata": {},
     "output_type": "display_data"
    },
    {
     "name": "stdout",
     "output_type": "stream",
     "text": [
      "NV\n"
     ]
    },
    {
     "data": {
      "text/plain": [
       "3462"
      ]
     },
     "metadata": {},
     "output_type": "display_data"
    },
    {
     "name": "stdout",
     "output_type": "stream",
     "text": [
      "NY\n"
     ]
    },
    {
     "data": {
      "text/plain": [
       "16178"
      ]
     },
     "metadata": {},
     "output_type": "display_data"
    },
    {
     "name": "stdout",
     "output_type": "stream",
     "text": [
      "OH\n"
     ]
    },
    {
     "data": {
      "text/plain": [
       "678"
      ]
     },
     "metadata": {},
     "output_type": "display_data"
    },
    {
     "name": "stdout",
     "output_type": "stream",
     "text": [
      "OK\n"
     ]
    },
    {
     "data": {
      "text/plain": [
       "8527"
      ]
     },
     "metadata": {},
     "output_type": "display_data"
    },
    {
     "name": "stdout",
     "output_type": "stream",
     "text": [
      "OR\n"
     ]
    },
    {
     "data": {
      "text/plain": [
       "12045"
      ]
     },
     "metadata": {},
     "output_type": "display_data"
    },
    {
     "name": "stdout",
     "output_type": "stream",
     "text": [
      "PA\n"
     ]
    },
    {
     "data": {
      "text/plain": [
       "1712"
      ]
     },
     "metadata": {},
     "output_type": "display_data"
    },
    {
     "name": "stdout",
     "output_type": "stream",
     "text": [
      "RI\n"
     ]
    },
    {
     "data": {
      "text/plain": [
       "92"
      ]
     },
     "metadata": {},
     "output_type": "display_data"
    },
    {
     "name": "stdout",
     "output_type": "stream",
     "text": [
      "SC\n"
     ]
    },
    {
     "data": {
      "text/plain": [
       "16285"
      ]
     },
     "metadata": {},
     "output_type": "display_data"
    },
    {
     "name": "stdout",
     "output_type": "stream",
     "text": [
      "SD\n"
     ]
    },
    {
     "data": {
      "text/plain": [
       "6260"
      ]
     },
     "metadata": {},
     "output_type": "display_data"
    },
    {
     "name": "stdout",
     "output_type": "stream",
     "text": [
      "TN\n"
     ]
    },
    {
     "data": {
      "text/plain": [
       "6274"
      ]
     },
     "metadata": {},
     "output_type": "display_data"
    },
    {
     "name": "stdout",
     "output_type": "stream",
     "text": [
      "TX\n"
     ]
    },
    {
     "data": {
      "text/plain": [
       "28465"
      ]
     },
     "metadata": {},
     "output_type": "display_data"
    },
    {
     "name": "stdout",
     "output_type": "stream",
     "text": [
      "UT\n"
     ]
    },
    {
     "data": {
      "text/plain": [
       "6110"
      ]
     },
     "metadata": {},
     "output_type": "display_data"
    },
    {
     "name": "stdout",
     "output_type": "stream",
     "text": [
      "VA\n"
     ]
    },
    {
     "data": {
      "text/plain": [
       "4480"
      ]
     },
     "metadata": {},
     "output_type": "display_data"
    },
    {
     "name": "stdout",
     "output_type": "stream",
     "text": [
      "VT\n"
     ]
    },
    {
     "data": {
      "text/plain": [
       "106"
      ]
     },
     "metadata": {},
     "output_type": "display_data"
    },
    {
     "name": "stdout",
     "output_type": "stream",
     "text": [
      "WA\n"
     ]
    },
    {
     "data": {
      "text/plain": [
       "6613"
      ]
     },
     "metadata": {},
     "output_type": "display_data"
    },
    {
     "name": "stdout",
     "output_type": "stream",
     "text": [
      "WI\n"
     ]
    },
    {
     "data": {
      "text/plain": [
       "6399"
      ]
     },
     "metadata": {},
     "output_type": "display_data"
    },
    {
     "name": "stdout",
     "output_type": "stream",
     "text": [
      "WV\n"
     ]
    },
    {
     "data": {
      "text/plain": [
       "4302"
      ]
     },
     "metadata": {},
     "output_type": "display_data"
    },
    {
     "name": "stdout",
     "output_type": "stream",
     "text": [
      "WY\n"
     ]
    },
    {
     "data": {
      "text/plain": [
       "2875"
      ]
     },
     "metadata": {},
     "output_type": "display_data"
    }
   ],
   "source": [
    "import random\n",
    "random.seed(10)\n",
    "\n",
    "states = dfReg.STATE.unique()\n",
    "display(states)\n",
    "R2dict = dict(zip(states.T,np.zeros(len(states)).T))\n",
    "display(R2dict)\n",
    "\n",
    "for i in states:\n",
    "    print(i)\n",
    "    dfreg = dfReg.sample(frac=0.2)\n",
    "#     dfreg = dfreg[(dfreg['STAT_CAUSE_DESCR'] == 'Miscellaneous') |\\\n",
    "#                   (dfreg['STAT_CAUSE_DESCR'] == 'Lightning') |\\\n",
    "#                   (dfreg['STAT_CAUSE_DESCR'] == 'Missing/Undefined')]\n",
    "\n",
    "    dfreg = dfreg[dfreg['STATE'] == i] #|\\\n",
    "#     display(dfreg)\n",
    "#                   (dfreg['STATE'] == 'NV')] #|\\\n",
    "#                   (dfreg['STATE'] == 'CA')]\n",
    "#     dfreg = dfreg[dfreg['FIRE_SIZE_CLASS'] != 'A']\n",
    "#     dfreg = dfreg[dfreg['FIRE_SIZE_CLASS'] != 'B']\n",
    "    \n",
    "    display(len(dfreg))\n",
    "    X = np.vstack(( np.ones(len(dfreg)), np.array(dfreg[f'{2}MavgTemp']), np.array(dfreg[f'{2}MavgPalmZ']) )).T\n",
    "    # X = np.vstack((np.ones(len(dfreg)), np.array(dfreg[f'{2}MavgTemp']))).T\n",
    "    # Y = np.array(dfreg['FIRE_SIZE']).reshape((-1, 1))\n",
    "    Y = np.array(dfreg['COUNTS']).reshape((-1, 1))\n",
    "    Y = np.log(Y)\n",
    "#     plt.scatter(X[:,1],Y) \n",
    "#     plt.show()\n",
    "    lm = linreg\n",
    "    lm.X = X\n",
    "    lm.Y = Y\n",
    "    lm.fit()\n",
    "#     lm.results()\n",
    "    R2dict[i] = lm.R2\n",
    "    "
   ]
  },
  {
   "cell_type": "code",
   "execution_count": 180,
   "metadata": {},
   "outputs": [
    {
     "name": "stdout",
     "output_type": "stream",
     "text": [
      "Jarque_beraResult(statistic=3772.906089623435, pvalue=0.0)\n"
     ]
    }
   ],
   "source": [
    "from scipy import stats\n",
    "errors = pd.DataFrame(lm.errors)\n",
    "jb = stats.jarque_bera(errors)\n",
    "print(jb)"
   ]
  },
  {
   "cell_type": "code",
   "execution_count": 138,
   "metadata": {
    "scrolled": true
   },
   "outputs": [
    {
     "data": {
      "application/vnd.plotly.v1+json": {
       "config": {
        "plotlyServerURL": "https://plot.ly"
       },
       "data": [
        {
         "coloraxis": "coloraxis",
         "geo": "geo",
         "hovertemplate": "<b>%{hovertext}</b><br><br>STATE=%{location}<br>R2=%{z}<extra></extra>",
         "hovertext": [
          "AL",
          "AR",
          "AZ",
          "CA",
          "CO",
          "CT",
          "DE",
          "FL",
          "GA",
          "IA",
          "ID",
          "IL",
          "IN",
          "KS",
          "KY",
          "LA",
          "MA",
          "MD",
          "ME",
          "MI",
          "MN",
          "MO",
          "MS",
          "MT",
          "NC",
          "ND",
          "NE",
          "NH",
          "NJ",
          "NM",
          "NV",
          "NY",
          "OH",
          "OK",
          "OR",
          "PA",
          "RI",
          "SC",
          "SD",
          "TN",
          "TX",
          "UT",
          "VA",
          "VT",
          "WA",
          "WI",
          "WV",
          "WY"
         ],
         "locationmode": "USA-states",
         "locations": [
          "AL",
          "AR",
          "AZ",
          "CA",
          "CO",
          "CT",
          "DE",
          "FL",
          "GA",
          "IA",
          "ID",
          "IL",
          "IN",
          "KS",
          "KY",
          "LA",
          "MA",
          "MD",
          "ME",
          "MI",
          "MN",
          "MO",
          "MS",
          "MT",
          "NC",
          "ND",
          "NE",
          "NH",
          "NJ",
          "NM",
          "NV",
          "NY",
          "OH",
          "OK",
          "OR",
          "PA",
          "RI",
          "SC",
          "SD",
          "TN",
          "TX",
          "UT",
          "VA",
          "VT",
          "WA",
          "WI",
          "WV",
          "WY"
         ],
         "name": "",
         "type": "choropleth",
         "z": [
          0.266628796389086,
          0.33195914895065454,
          0.3950272039121884,
          0.6493083295214506,
          0.4055167836443216,
          0.12111871744753604,
          0.1164332132021642,
          0.3705274963228467,
          0.4307549729770686,
          0.18359853291287112,
          0.7633664465387878,
          0.05307661211443157,
          0.24658806562263577,
          0.22475212782061424,
          0.11528356913456106,
          0.2695019901450354,
          0.45181088805668806,
          0.2784778207376133,
          0.1721135284168769,
          0.17184854612619277,
          0.27745719874913544,
          0.27166576167838913,
          0.3776608513460413,
          0.7458862854353965,
          0.41883179227847994,
          0.2234693795820115,
          0.10605150133045976,
          0.23972478370387257,
          0.1983083732720945,
          0.4490765773383164,
          0.6803789946700153,
          0.07911817203754434,
          0.2113779035780773,
          0.2707680437742647,
          0.7289808178531707,
          0.2512126934353474,
          0.21443361601666272,
          0.3799772313591361,
          0.6210706174468543,
          0.3011366366215454,
          0.2681879314214366,
          0.7459454696396609,
          0.38165886934809706,
          0.15940960762813786,
          0.7319307856520122,
          0.19491850080449594,
          0.23286648607869964,
          0.6329632154527546
         ]
        }
       ],
       "layout": {
        "coloraxis": {
         "colorbar": {
          "title": {
           "text": "R2"
          }
         },
         "colorscale": [
          [
           0,
           "#0d0887"
          ],
          [
           0.1111111111111111,
           "#46039f"
          ],
          [
           0.2222222222222222,
           "#7201a8"
          ],
          [
           0.3333333333333333,
           "#9c179e"
          ],
          [
           0.4444444444444444,
           "#bd3786"
          ],
          [
           0.5555555555555556,
           "#d8576b"
          ],
          [
           0.6666666666666666,
           "#ed7953"
          ],
          [
           0.7777777777777778,
           "#fb9f3a"
          ],
          [
           0.8888888888888888,
           "#fdca26"
          ],
          [
           1,
           "#f0f921"
          ]
         ]
        },
        "geo": {
         "center": {},
         "domain": {
          "x": [
           0,
           1
          ],
          "y": [
           0,
           1
          ]
         },
         "scope": "usa"
        },
        "legend": {
         "tracegroupgap": 0
        },
        "margin": {
         "t": 60
        },
        "template": {
         "data": {
          "bar": [
           {
            "error_x": {
             "color": "#2a3f5f"
            },
            "error_y": {
             "color": "#2a3f5f"
            },
            "marker": {
             "line": {
              "color": "#E5ECF6",
              "width": 0.5
             }
            },
            "type": "bar"
           }
          ],
          "barpolar": [
           {
            "marker": {
             "line": {
              "color": "#E5ECF6",
              "width": 0.5
             }
            },
            "type": "barpolar"
           }
          ],
          "carpet": [
           {
            "aaxis": {
             "endlinecolor": "#2a3f5f",
             "gridcolor": "white",
             "linecolor": "white",
             "minorgridcolor": "white",
             "startlinecolor": "#2a3f5f"
            },
            "baxis": {
             "endlinecolor": "#2a3f5f",
             "gridcolor": "white",
             "linecolor": "white",
             "minorgridcolor": "white",
             "startlinecolor": "#2a3f5f"
            },
            "type": "carpet"
           }
          ],
          "choropleth": [
           {
            "colorbar": {
             "outlinewidth": 0,
             "ticks": ""
            },
            "type": "choropleth"
           }
          ],
          "contour": [
           {
            "colorbar": {
             "outlinewidth": 0,
             "ticks": ""
            },
            "colorscale": [
             [
              0,
              "#0d0887"
             ],
             [
              0.1111111111111111,
              "#46039f"
             ],
             [
              0.2222222222222222,
              "#7201a8"
             ],
             [
              0.3333333333333333,
              "#9c179e"
             ],
             [
              0.4444444444444444,
              "#bd3786"
             ],
             [
              0.5555555555555556,
              "#d8576b"
             ],
             [
              0.6666666666666666,
              "#ed7953"
             ],
             [
              0.7777777777777778,
              "#fb9f3a"
             ],
             [
              0.8888888888888888,
              "#fdca26"
             ],
             [
              1,
              "#f0f921"
             ]
            ],
            "type": "contour"
           }
          ],
          "contourcarpet": [
           {
            "colorbar": {
             "outlinewidth": 0,
             "ticks": ""
            },
            "type": "contourcarpet"
           }
          ],
          "heatmap": [
           {
            "colorbar": {
             "outlinewidth": 0,
             "ticks": ""
            },
            "colorscale": [
             [
              0,
              "#0d0887"
             ],
             [
              0.1111111111111111,
              "#46039f"
             ],
             [
              0.2222222222222222,
              "#7201a8"
             ],
             [
              0.3333333333333333,
              "#9c179e"
             ],
             [
              0.4444444444444444,
              "#bd3786"
             ],
             [
              0.5555555555555556,
              "#d8576b"
             ],
             [
              0.6666666666666666,
              "#ed7953"
             ],
             [
              0.7777777777777778,
              "#fb9f3a"
             ],
             [
              0.8888888888888888,
              "#fdca26"
             ],
             [
              1,
              "#f0f921"
             ]
            ],
            "type": "heatmap"
           }
          ],
          "heatmapgl": [
           {
            "colorbar": {
             "outlinewidth": 0,
             "ticks": ""
            },
            "colorscale": [
             [
              0,
              "#0d0887"
             ],
             [
              0.1111111111111111,
              "#46039f"
             ],
             [
              0.2222222222222222,
              "#7201a8"
             ],
             [
              0.3333333333333333,
              "#9c179e"
             ],
             [
              0.4444444444444444,
              "#bd3786"
             ],
             [
              0.5555555555555556,
              "#d8576b"
             ],
             [
              0.6666666666666666,
              "#ed7953"
             ],
             [
              0.7777777777777778,
              "#fb9f3a"
             ],
             [
              0.8888888888888888,
              "#fdca26"
             ],
             [
              1,
              "#f0f921"
             ]
            ],
            "type": "heatmapgl"
           }
          ],
          "histogram": [
           {
            "marker": {
             "colorbar": {
              "outlinewidth": 0,
              "ticks": ""
             }
            },
            "type": "histogram"
           }
          ],
          "histogram2d": [
           {
            "colorbar": {
             "outlinewidth": 0,
             "ticks": ""
            },
            "colorscale": [
             [
              0,
              "#0d0887"
             ],
             [
              0.1111111111111111,
              "#46039f"
             ],
             [
              0.2222222222222222,
              "#7201a8"
             ],
             [
              0.3333333333333333,
              "#9c179e"
             ],
             [
              0.4444444444444444,
              "#bd3786"
             ],
             [
              0.5555555555555556,
              "#d8576b"
             ],
             [
              0.6666666666666666,
              "#ed7953"
             ],
             [
              0.7777777777777778,
              "#fb9f3a"
             ],
             [
              0.8888888888888888,
              "#fdca26"
             ],
             [
              1,
              "#f0f921"
             ]
            ],
            "type": "histogram2d"
           }
          ],
          "histogram2dcontour": [
           {
            "colorbar": {
             "outlinewidth": 0,
             "ticks": ""
            },
            "colorscale": [
             [
              0,
              "#0d0887"
             ],
             [
              0.1111111111111111,
              "#46039f"
             ],
             [
              0.2222222222222222,
              "#7201a8"
             ],
             [
              0.3333333333333333,
              "#9c179e"
             ],
             [
              0.4444444444444444,
              "#bd3786"
             ],
             [
              0.5555555555555556,
              "#d8576b"
             ],
             [
              0.6666666666666666,
              "#ed7953"
             ],
             [
              0.7777777777777778,
              "#fb9f3a"
             ],
             [
              0.8888888888888888,
              "#fdca26"
             ],
             [
              1,
              "#f0f921"
             ]
            ],
            "type": "histogram2dcontour"
           }
          ],
          "mesh3d": [
           {
            "colorbar": {
             "outlinewidth": 0,
             "ticks": ""
            },
            "type": "mesh3d"
           }
          ],
          "parcoords": [
           {
            "line": {
             "colorbar": {
              "outlinewidth": 0,
              "ticks": ""
             }
            },
            "type": "parcoords"
           }
          ],
          "pie": [
           {
            "automargin": true,
            "type": "pie"
           }
          ],
          "scatter": [
           {
            "marker": {
             "colorbar": {
              "outlinewidth": 0,
              "ticks": ""
             }
            },
            "type": "scatter"
           }
          ],
          "scatter3d": [
           {
            "line": {
             "colorbar": {
              "outlinewidth": 0,
              "ticks": ""
             }
            },
            "marker": {
             "colorbar": {
              "outlinewidth": 0,
              "ticks": ""
             }
            },
            "type": "scatter3d"
           }
          ],
          "scattercarpet": [
           {
            "marker": {
             "colorbar": {
              "outlinewidth": 0,
              "ticks": ""
             }
            },
            "type": "scattercarpet"
           }
          ],
          "scattergeo": [
           {
            "marker": {
             "colorbar": {
              "outlinewidth": 0,
              "ticks": ""
             }
            },
            "type": "scattergeo"
           }
          ],
          "scattergl": [
           {
            "marker": {
             "colorbar": {
              "outlinewidth": 0,
              "ticks": ""
             }
            },
            "type": "scattergl"
           }
          ],
          "scattermapbox": [
           {
            "marker": {
             "colorbar": {
              "outlinewidth": 0,
              "ticks": ""
             }
            },
            "type": "scattermapbox"
           }
          ],
          "scatterpolar": [
           {
            "marker": {
             "colorbar": {
              "outlinewidth": 0,
              "ticks": ""
             }
            },
            "type": "scatterpolar"
           }
          ],
          "scatterpolargl": [
           {
            "marker": {
             "colorbar": {
              "outlinewidth": 0,
              "ticks": ""
             }
            },
            "type": "scatterpolargl"
           }
          ],
          "scatterternary": [
           {
            "marker": {
             "colorbar": {
              "outlinewidth": 0,
              "ticks": ""
             }
            },
            "type": "scatterternary"
           }
          ],
          "surface": [
           {
            "colorbar": {
             "outlinewidth": 0,
             "ticks": ""
            },
            "colorscale": [
             [
              0,
              "#0d0887"
             ],
             [
              0.1111111111111111,
              "#46039f"
             ],
             [
              0.2222222222222222,
              "#7201a8"
             ],
             [
              0.3333333333333333,
              "#9c179e"
             ],
             [
              0.4444444444444444,
              "#bd3786"
             ],
             [
              0.5555555555555556,
              "#d8576b"
             ],
             [
              0.6666666666666666,
              "#ed7953"
             ],
             [
              0.7777777777777778,
              "#fb9f3a"
             ],
             [
              0.8888888888888888,
              "#fdca26"
             ],
             [
              1,
              "#f0f921"
             ]
            ],
            "type": "surface"
           }
          ],
          "table": [
           {
            "cells": {
             "fill": {
              "color": "#EBF0F8"
             },
             "line": {
              "color": "white"
             }
            },
            "header": {
             "fill": {
              "color": "#C8D4E3"
             },
             "line": {
              "color": "white"
             }
            },
            "type": "table"
           }
          ]
         },
         "layout": {
          "annotationdefaults": {
           "arrowcolor": "#2a3f5f",
           "arrowhead": 0,
           "arrowwidth": 1
          },
          "autotypenumbers": "strict",
          "coloraxis": {
           "colorbar": {
            "outlinewidth": 0,
            "ticks": ""
           }
          },
          "colorscale": {
           "diverging": [
            [
             0,
             "#8e0152"
            ],
            [
             0.1,
             "#c51b7d"
            ],
            [
             0.2,
             "#de77ae"
            ],
            [
             0.3,
             "#f1b6da"
            ],
            [
             0.4,
             "#fde0ef"
            ],
            [
             0.5,
             "#f7f7f7"
            ],
            [
             0.6,
             "#e6f5d0"
            ],
            [
             0.7,
             "#b8e186"
            ],
            [
             0.8,
             "#7fbc41"
            ],
            [
             0.9,
             "#4d9221"
            ],
            [
             1,
             "#276419"
            ]
           ],
           "sequential": [
            [
             0,
             "#0d0887"
            ],
            [
             0.1111111111111111,
             "#46039f"
            ],
            [
             0.2222222222222222,
             "#7201a8"
            ],
            [
             0.3333333333333333,
             "#9c179e"
            ],
            [
             0.4444444444444444,
             "#bd3786"
            ],
            [
             0.5555555555555556,
             "#d8576b"
            ],
            [
             0.6666666666666666,
             "#ed7953"
            ],
            [
             0.7777777777777778,
             "#fb9f3a"
            ],
            [
             0.8888888888888888,
             "#fdca26"
            ],
            [
             1,
             "#f0f921"
            ]
           ],
           "sequentialminus": [
            [
             0,
             "#0d0887"
            ],
            [
             0.1111111111111111,
             "#46039f"
            ],
            [
             0.2222222222222222,
             "#7201a8"
            ],
            [
             0.3333333333333333,
             "#9c179e"
            ],
            [
             0.4444444444444444,
             "#bd3786"
            ],
            [
             0.5555555555555556,
             "#d8576b"
            ],
            [
             0.6666666666666666,
             "#ed7953"
            ],
            [
             0.7777777777777778,
             "#fb9f3a"
            ],
            [
             0.8888888888888888,
             "#fdca26"
            ],
            [
             1,
             "#f0f921"
            ]
           ]
          },
          "colorway": [
           "#636efa",
           "#EF553B",
           "#00cc96",
           "#ab63fa",
           "#FFA15A",
           "#19d3f3",
           "#FF6692",
           "#B6E880",
           "#FF97FF",
           "#FECB52"
          ],
          "font": {
           "color": "#2a3f5f"
          },
          "geo": {
           "bgcolor": "white",
           "lakecolor": "white",
           "landcolor": "#E5ECF6",
           "showlakes": true,
           "showland": true,
           "subunitcolor": "white"
          },
          "hoverlabel": {
           "align": "left"
          },
          "hovermode": "closest",
          "mapbox": {
           "style": "light"
          },
          "paper_bgcolor": "white",
          "plot_bgcolor": "#E5ECF6",
          "polar": {
           "angularaxis": {
            "gridcolor": "white",
            "linecolor": "white",
            "ticks": ""
           },
           "bgcolor": "#E5ECF6",
           "radialaxis": {
            "gridcolor": "white",
            "linecolor": "white",
            "ticks": ""
           }
          },
          "scene": {
           "xaxis": {
            "backgroundcolor": "#E5ECF6",
            "gridcolor": "white",
            "gridwidth": 2,
            "linecolor": "white",
            "showbackground": true,
            "ticks": "",
            "zerolinecolor": "white"
           },
           "yaxis": {
            "backgroundcolor": "#E5ECF6",
            "gridcolor": "white",
            "gridwidth": 2,
            "linecolor": "white",
            "showbackground": true,
            "ticks": "",
            "zerolinecolor": "white"
           },
           "zaxis": {
            "backgroundcolor": "#E5ECF6",
            "gridcolor": "white",
            "gridwidth": 2,
            "linecolor": "white",
            "showbackground": true,
            "ticks": "",
            "zerolinecolor": "white"
           }
          },
          "shapedefaults": {
           "line": {
            "color": "#2a3f5f"
           }
          },
          "ternary": {
           "aaxis": {
            "gridcolor": "white",
            "linecolor": "white",
            "ticks": ""
           },
           "baxis": {
            "gridcolor": "white",
            "linecolor": "white",
            "ticks": ""
           },
           "bgcolor": "#E5ECF6",
           "caxis": {
            "gridcolor": "white",
            "linecolor": "white",
            "ticks": ""
           }
          },
          "title": {
           "x": 0.05
          },
          "xaxis": {
           "automargin": true,
           "gridcolor": "white",
           "linecolor": "white",
           "ticks": "",
           "title": {
            "standoff": 15
           },
           "zerolinecolor": "white",
           "zerolinewidth": 2
          },
          "yaxis": {
           "automargin": true,
           "gridcolor": "white",
           "linecolor": "white",
           "ticks": "",
           "title": {
            "standoff": 15
           },
           "zerolinecolor": "white",
           "zerolinewidth": 2
          }
         }
        },
        "title": {
         "text": "State R2"
        }
       }
      },
      "text/html": [
       "<div>                            <div id=\"8bde7475-0de8-420a-b5f3-717f1c8f8c4f\" class=\"plotly-graph-div\" style=\"height:525px; width:100%;\"></div>            <script type=\"text/javascript\">                require([\"plotly\"], function(Plotly) {                    window.PLOTLYENV=window.PLOTLYENV || {};                                    if (document.getElementById(\"8bde7475-0de8-420a-b5f3-717f1c8f8c4f\")) {                    Plotly.newPlot(                        \"8bde7475-0de8-420a-b5f3-717f1c8f8c4f\",                        [{\"coloraxis\": \"coloraxis\", \"geo\": \"geo\", \"hovertemplate\": \"<b>%{hovertext}</b><br><br>STATE=%{location}<br>R2=%{z}<extra></extra>\", \"hovertext\": [\"AL\", \"AR\", \"AZ\", \"CA\", \"CO\", \"CT\", \"DE\", \"FL\", \"GA\", \"IA\", \"ID\", \"IL\", \"IN\", \"KS\", \"KY\", \"LA\", \"MA\", \"MD\", \"ME\", \"MI\", \"MN\", \"MO\", \"MS\", \"MT\", \"NC\", \"ND\", \"NE\", \"NH\", \"NJ\", \"NM\", \"NV\", \"NY\", \"OH\", \"OK\", \"OR\", \"PA\", \"RI\", \"SC\", \"SD\", \"TN\", \"TX\", \"UT\", \"VA\", \"VT\", \"WA\", \"WI\", \"WV\", \"WY\"], \"locationmode\": \"USA-states\", \"locations\": [\"AL\", \"AR\", \"AZ\", \"CA\", \"CO\", \"CT\", \"DE\", \"FL\", \"GA\", \"IA\", \"ID\", \"IL\", \"IN\", \"KS\", \"KY\", \"LA\", \"MA\", \"MD\", \"ME\", \"MI\", \"MN\", \"MO\", \"MS\", \"MT\", \"NC\", \"ND\", \"NE\", \"NH\", \"NJ\", \"NM\", \"NV\", \"NY\", \"OH\", \"OK\", \"OR\", \"PA\", \"RI\", \"SC\", \"SD\", \"TN\", \"TX\", \"UT\", \"VA\", \"VT\", \"WA\", \"WI\", \"WV\", \"WY\"], \"name\": \"\", \"type\": \"choropleth\", \"z\": [0.266628796389086, 0.33195914895065454, 0.3950272039121884, 0.6493083295214506, 0.4055167836443216, 0.12111871744753604, 0.1164332132021642, 0.3705274963228467, 0.4307549729770686, 0.18359853291287112, 0.7633664465387878, 0.05307661211443157, 0.24658806562263577, 0.22475212782061424, 0.11528356913456106, 0.2695019901450354, 0.45181088805668806, 0.2784778207376133, 0.1721135284168769, 0.17184854612619277, 0.27745719874913544, 0.27166576167838913, 0.3776608513460413, 0.7458862854353965, 0.41883179227847994, 0.2234693795820115, 0.10605150133045976, 0.23972478370387257, 0.1983083732720945, 0.4490765773383164, 0.6803789946700153, 0.07911817203754434, 0.2113779035780773, 0.2707680437742647, 0.7289808178531707, 0.2512126934353474, 0.21443361601666272, 0.3799772313591361, 0.6210706174468543, 0.3011366366215454, 0.2681879314214366, 0.7459454696396609, 0.38165886934809706, 0.15940960762813786, 0.7319307856520122, 0.19491850080449594, 0.23286648607869964, 0.6329632154527546]}],                        {\"coloraxis\": {\"colorbar\": {\"title\": {\"text\": \"R2\"}}, \"colorscale\": [[0.0, \"#0d0887\"], [0.1111111111111111, \"#46039f\"], [0.2222222222222222, \"#7201a8\"], [0.3333333333333333, \"#9c179e\"], [0.4444444444444444, \"#bd3786\"], [0.5555555555555556, \"#d8576b\"], [0.6666666666666666, \"#ed7953\"], [0.7777777777777778, \"#fb9f3a\"], [0.8888888888888888, \"#fdca26\"], [1.0, \"#f0f921\"]]}, \"geo\": {\"center\": {}, \"domain\": {\"x\": [0.0, 1.0], \"y\": [0.0, 1.0]}, \"scope\": \"usa\"}, \"legend\": {\"tracegroupgap\": 0}, \"margin\": {\"t\": 60}, \"template\": {\"data\": {\"bar\": [{\"error_x\": {\"color\": \"#2a3f5f\"}, \"error_y\": {\"color\": \"#2a3f5f\"}, \"marker\": {\"line\": {\"color\": \"#E5ECF6\", \"width\": 0.5}}, \"type\": \"bar\"}], \"barpolar\": [{\"marker\": {\"line\": {\"color\": \"#E5ECF6\", \"width\": 0.5}}, \"type\": \"barpolar\"}], \"carpet\": [{\"aaxis\": {\"endlinecolor\": \"#2a3f5f\", \"gridcolor\": \"white\", \"linecolor\": \"white\", \"minorgridcolor\": \"white\", \"startlinecolor\": \"#2a3f5f\"}, \"baxis\": {\"endlinecolor\": \"#2a3f5f\", \"gridcolor\": \"white\", \"linecolor\": \"white\", \"minorgridcolor\": \"white\", \"startlinecolor\": \"#2a3f5f\"}, \"type\": \"carpet\"}], \"choropleth\": [{\"colorbar\": {\"outlinewidth\": 0, \"ticks\": \"\"}, \"type\": \"choropleth\"}], \"contour\": [{\"colorbar\": {\"outlinewidth\": 0, \"ticks\": \"\"}, \"colorscale\": [[0.0, \"#0d0887\"], [0.1111111111111111, \"#46039f\"], [0.2222222222222222, \"#7201a8\"], [0.3333333333333333, \"#9c179e\"], [0.4444444444444444, \"#bd3786\"], [0.5555555555555556, \"#d8576b\"], [0.6666666666666666, \"#ed7953\"], [0.7777777777777778, \"#fb9f3a\"], [0.8888888888888888, \"#fdca26\"], [1.0, \"#f0f921\"]], \"type\": \"contour\"}], \"contourcarpet\": [{\"colorbar\": {\"outlinewidth\": 0, \"ticks\": \"\"}, \"type\": \"contourcarpet\"}], \"heatmap\": [{\"colorbar\": {\"outlinewidth\": 0, \"ticks\": \"\"}, \"colorscale\": [[0.0, \"#0d0887\"], [0.1111111111111111, \"#46039f\"], [0.2222222222222222, \"#7201a8\"], [0.3333333333333333, \"#9c179e\"], [0.4444444444444444, \"#bd3786\"], [0.5555555555555556, \"#d8576b\"], [0.6666666666666666, \"#ed7953\"], [0.7777777777777778, \"#fb9f3a\"], [0.8888888888888888, \"#fdca26\"], [1.0, \"#f0f921\"]], \"type\": \"heatmap\"}], \"heatmapgl\": [{\"colorbar\": {\"outlinewidth\": 0, \"ticks\": \"\"}, \"colorscale\": [[0.0, \"#0d0887\"], [0.1111111111111111, \"#46039f\"], [0.2222222222222222, \"#7201a8\"], [0.3333333333333333, \"#9c179e\"], [0.4444444444444444, \"#bd3786\"], [0.5555555555555556, \"#d8576b\"], [0.6666666666666666, \"#ed7953\"], [0.7777777777777778, \"#fb9f3a\"], [0.8888888888888888, \"#fdca26\"], [1.0, \"#f0f921\"]], \"type\": \"heatmapgl\"}], \"histogram\": [{\"marker\": {\"colorbar\": {\"outlinewidth\": 0, \"ticks\": \"\"}}, \"type\": \"histogram\"}], \"histogram2d\": [{\"colorbar\": {\"outlinewidth\": 0, \"ticks\": \"\"}, \"colorscale\": [[0.0, \"#0d0887\"], [0.1111111111111111, \"#46039f\"], [0.2222222222222222, \"#7201a8\"], [0.3333333333333333, \"#9c179e\"], [0.4444444444444444, \"#bd3786\"], [0.5555555555555556, \"#d8576b\"], [0.6666666666666666, \"#ed7953\"], [0.7777777777777778, \"#fb9f3a\"], [0.8888888888888888, \"#fdca26\"], [1.0, \"#f0f921\"]], \"type\": \"histogram2d\"}], \"histogram2dcontour\": [{\"colorbar\": {\"outlinewidth\": 0, \"ticks\": \"\"}, \"colorscale\": [[0.0, \"#0d0887\"], [0.1111111111111111, \"#46039f\"], [0.2222222222222222, \"#7201a8\"], [0.3333333333333333, \"#9c179e\"], [0.4444444444444444, \"#bd3786\"], [0.5555555555555556, \"#d8576b\"], [0.6666666666666666, \"#ed7953\"], [0.7777777777777778, \"#fb9f3a\"], [0.8888888888888888, \"#fdca26\"], [1.0, \"#f0f921\"]], \"type\": \"histogram2dcontour\"}], \"mesh3d\": [{\"colorbar\": {\"outlinewidth\": 0, \"ticks\": \"\"}, \"type\": \"mesh3d\"}], \"parcoords\": [{\"line\": {\"colorbar\": {\"outlinewidth\": 0, \"ticks\": \"\"}}, \"type\": \"parcoords\"}], \"pie\": [{\"automargin\": true, \"type\": \"pie\"}], \"scatter\": [{\"marker\": {\"colorbar\": {\"outlinewidth\": 0, \"ticks\": \"\"}}, \"type\": \"scatter\"}], \"scatter3d\": [{\"line\": {\"colorbar\": {\"outlinewidth\": 0, \"ticks\": \"\"}}, \"marker\": {\"colorbar\": {\"outlinewidth\": 0, \"ticks\": \"\"}}, \"type\": \"scatter3d\"}], \"scattercarpet\": [{\"marker\": {\"colorbar\": {\"outlinewidth\": 0, \"ticks\": \"\"}}, \"type\": \"scattercarpet\"}], \"scattergeo\": [{\"marker\": {\"colorbar\": {\"outlinewidth\": 0, \"ticks\": \"\"}}, \"type\": \"scattergeo\"}], \"scattergl\": [{\"marker\": {\"colorbar\": {\"outlinewidth\": 0, \"ticks\": \"\"}}, \"type\": \"scattergl\"}], \"scattermapbox\": [{\"marker\": {\"colorbar\": {\"outlinewidth\": 0, \"ticks\": \"\"}}, \"type\": \"scattermapbox\"}], \"scatterpolar\": [{\"marker\": {\"colorbar\": {\"outlinewidth\": 0, \"ticks\": \"\"}}, \"type\": \"scatterpolar\"}], \"scatterpolargl\": [{\"marker\": {\"colorbar\": {\"outlinewidth\": 0, \"ticks\": \"\"}}, \"type\": \"scatterpolargl\"}], \"scatterternary\": [{\"marker\": {\"colorbar\": {\"outlinewidth\": 0, \"ticks\": \"\"}}, \"type\": \"scatterternary\"}], \"surface\": [{\"colorbar\": {\"outlinewidth\": 0, \"ticks\": \"\"}, \"colorscale\": [[0.0, \"#0d0887\"], [0.1111111111111111, \"#46039f\"], [0.2222222222222222, \"#7201a8\"], [0.3333333333333333, \"#9c179e\"], [0.4444444444444444, \"#bd3786\"], [0.5555555555555556, \"#d8576b\"], [0.6666666666666666, \"#ed7953\"], [0.7777777777777778, \"#fb9f3a\"], [0.8888888888888888, \"#fdca26\"], [1.0, \"#f0f921\"]], \"type\": \"surface\"}], \"table\": [{\"cells\": {\"fill\": {\"color\": \"#EBF0F8\"}, \"line\": {\"color\": \"white\"}}, \"header\": {\"fill\": {\"color\": \"#C8D4E3\"}, \"line\": {\"color\": \"white\"}}, \"type\": \"table\"}]}, \"layout\": {\"annotationdefaults\": {\"arrowcolor\": \"#2a3f5f\", \"arrowhead\": 0, \"arrowwidth\": 1}, \"autotypenumbers\": \"strict\", \"coloraxis\": {\"colorbar\": {\"outlinewidth\": 0, \"ticks\": \"\"}}, \"colorscale\": {\"diverging\": [[0, \"#8e0152\"], [0.1, \"#c51b7d\"], [0.2, \"#de77ae\"], [0.3, \"#f1b6da\"], [0.4, \"#fde0ef\"], [0.5, \"#f7f7f7\"], [0.6, \"#e6f5d0\"], [0.7, \"#b8e186\"], [0.8, \"#7fbc41\"], [0.9, \"#4d9221\"], [1, \"#276419\"]], \"sequential\": [[0.0, \"#0d0887\"], [0.1111111111111111, \"#46039f\"], [0.2222222222222222, \"#7201a8\"], [0.3333333333333333, \"#9c179e\"], [0.4444444444444444, \"#bd3786\"], [0.5555555555555556, \"#d8576b\"], [0.6666666666666666, \"#ed7953\"], [0.7777777777777778, \"#fb9f3a\"], [0.8888888888888888, \"#fdca26\"], [1.0, \"#f0f921\"]], \"sequentialminus\": [[0.0, \"#0d0887\"], [0.1111111111111111, \"#46039f\"], [0.2222222222222222, \"#7201a8\"], [0.3333333333333333, \"#9c179e\"], [0.4444444444444444, \"#bd3786\"], [0.5555555555555556, \"#d8576b\"], [0.6666666666666666, \"#ed7953\"], [0.7777777777777778, \"#fb9f3a\"], [0.8888888888888888, \"#fdca26\"], [1.0, \"#f0f921\"]]}, \"colorway\": [\"#636efa\", \"#EF553B\", \"#00cc96\", \"#ab63fa\", \"#FFA15A\", \"#19d3f3\", \"#FF6692\", \"#B6E880\", \"#FF97FF\", \"#FECB52\"], \"font\": {\"color\": \"#2a3f5f\"}, \"geo\": {\"bgcolor\": \"white\", \"lakecolor\": \"white\", \"landcolor\": \"#E5ECF6\", \"showlakes\": true, \"showland\": true, \"subunitcolor\": \"white\"}, \"hoverlabel\": {\"align\": \"left\"}, \"hovermode\": \"closest\", \"mapbox\": {\"style\": \"light\"}, \"paper_bgcolor\": \"white\", \"plot_bgcolor\": \"#E5ECF6\", \"polar\": {\"angularaxis\": {\"gridcolor\": \"white\", \"linecolor\": \"white\", \"ticks\": \"\"}, \"bgcolor\": \"#E5ECF6\", \"radialaxis\": {\"gridcolor\": \"white\", \"linecolor\": \"white\", \"ticks\": \"\"}}, \"scene\": {\"xaxis\": {\"backgroundcolor\": \"#E5ECF6\", \"gridcolor\": \"white\", \"gridwidth\": 2, \"linecolor\": \"white\", \"showbackground\": true, \"ticks\": \"\", \"zerolinecolor\": \"white\"}, \"yaxis\": {\"backgroundcolor\": \"#E5ECF6\", \"gridcolor\": \"white\", \"gridwidth\": 2, \"linecolor\": \"white\", \"showbackground\": true, \"ticks\": \"\", \"zerolinecolor\": \"white\"}, \"zaxis\": {\"backgroundcolor\": \"#E5ECF6\", \"gridcolor\": \"white\", \"gridwidth\": 2, \"linecolor\": \"white\", \"showbackground\": true, \"ticks\": \"\", \"zerolinecolor\": \"white\"}}, \"shapedefaults\": {\"line\": {\"color\": \"#2a3f5f\"}}, \"ternary\": {\"aaxis\": {\"gridcolor\": \"white\", \"linecolor\": \"white\", \"ticks\": \"\"}, \"baxis\": {\"gridcolor\": \"white\", \"linecolor\": \"white\", \"ticks\": \"\"}, \"bgcolor\": \"#E5ECF6\", \"caxis\": {\"gridcolor\": \"white\", \"linecolor\": \"white\", \"ticks\": \"\"}}, \"title\": {\"x\": 0.05}, \"xaxis\": {\"automargin\": true, \"gridcolor\": \"white\", \"linecolor\": \"white\", \"ticks\": \"\", \"title\": {\"standoff\": 15}, \"zerolinecolor\": \"white\", \"zerolinewidth\": 2}, \"yaxis\": {\"automargin\": true, \"gridcolor\": \"white\", \"linecolor\": \"white\", \"ticks\": \"\", \"title\": {\"standoff\": 15}, \"zerolinecolor\": \"white\", \"zerolinewidth\": 2}}}, \"title\": {\"text\": \"State R2\"}},                        {\"responsive\": true}                    ).then(function(){\n",
       "                            \n",
       "var gd = document.getElementById('8bde7475-0de8-420a-b5f3-717f1c8f8c4f');\n",
       "var x = new MutationObserver(function (mutations, observer) {{\n",
       "        var display = window.getComputedStyle(gd).display;\n",
       "        if (!display || display === 'none') {{\n",
       "            console.log([gd, 'removed!']);\n",
       "            Plotly.purge(gd);\n",
       "            observer.disconnect();\n",
       "        }}\n",
       "}});\n",
       "\n",
       "// Listen for the removal of the full notebook cells\n",
       "var notebookContainer = gd.closest('#notebook-container');\n",
       "if (notebookContainer) {{\n",
       "    x.observe(notebookContainer, {childList: true});\n",
       "}}\n",
       "\n",
       "// Listen for the clearing of the current output cell\n",
       "var outputEl = gd.closest('.output');\n",
       "if (outputEl) {{\n",
       "    x.observe(outputEl, {childList: true});\n",
       "}}\n",
       "\n",
       "                        })                };                });            </script>        </div>"
      ]
     },
     "metadata": {},
     "output_type": "display_data"
    }
   ],
   "source": [
    "dfstates = pd.DataFrame(R2dict.items(), columns=['STATE', 'R2'])\n",
    "import plotly.express as px  # Be sure to import express\n",
    "\n",
    "fig = px.choropleth(dfstates,  # Input Pandas DataFrame\n",
    "                    locations=\"STATE\",  # DataFrame column with locations\n",
    "                    color=\"R2\",  # DataFrame column with color values\n",
    "                    hover_name=\"STATE\", # DataFrame column hover info\n",
    "                    locationmode = 'USA-states') # Set to plot as US States\n",
    "fig.update_layout(\n",
    "    title_text = 'State R2', # Create a Title\n",
    "    geo_scope='usa',  # Plot only the USA instead of globe\n",
    ")\n",
    "fig.show()  # Output"
   ]
  },
  {
   "cell_type": "code",
   "execution_count": 115,
   "metadata": {
    "collapsed": true
   },
   "outputs": [
    {
     "data": {
      "application/vnd.plotly.v1+json": {
       "config": {
        "plotlyServerURL": "https://plot.ly"
       },
       "data": [
        {
         "coloraxis": "coloraxis",
         "geo": "geo",
         "hovertemplate": "<b>%{hovertext}</b><br><br>STATE=%{location}<br>COUNTS=%{z}<extra></extra>",
         "hovertext": [
          "DC",
          "DE",
          "VT",
          "RI",
          "IN",
          "IL",
          "NH",
          "MA",
          "OH",
          "MD",
          "IA",
          "CT",
          "KS",
          "NE",
          "PA",
          "HI",
          "MI",
          "AK",
          "ME",
          "WY",
          "ND",
          "NV",
          "MO",
          "VA",
          "WV",
          "PR",
          "NJ",
          "KY",
          "LA",
          "UT",
          "SD",
          "TN",
          "AR",
          "WI",
          "WA",
          "CO",
          "ID",
          "NM",
          "MT",
          "OK",
          "MN",
          "OR",
          "AL",
          "AZ",
          "MS",
          "NY",
          "SC",
          "FL",
          "NC",
          "TX",
          "GA",
          "CA"
         ],
         "locationmode": "USA-states",
         "locations": [
          "DC",
          "DE",
          "VT",
          "RI",
          "IN",
          "IL",
          "NH",
          "MA",
          "OH",
          "MD",
          "IA",
          "CT",
          "KS",
          "NE",
          "PA",
          "HI",
          "MI",
          "AK",
          "ME",
          "WY",
          "ND",
          "NV",
          "MO",
          "VA",
          "WV",
          "PR",
          "NJ",
          "KY",
          "LA",
          "UT",
          "SD",
          "TN",
          "AR",
          "WI",
          "WA",
          "CO",
          "ID",
          "NM",
          "MT",
          "OK",
          "MN",
          "OR",
          "AL",
          "AZ",
          "MS",
          "NY",
          "SC",
          "FL",
          "NC",
          "TX",
          "GA",
          "CA"
         ],
         "name": "",
         "type": "choropleth",
         "z": [
          3.5097701898200714e-05,
          9.093495491806547e-05,
          0.00024249321311484127,
          0.0002552560138050961,
          0.0011156814936731075,
          0.001237459883592622,
          0.0013039328038543657,
          0.0013964631088587132,
          0.0018500743167248527,
          0.0019261193375042875,
          0.00219839241889639,
          0.002646154009779496,
          0.00408037373734688,
          0.004239908745975064,
          0.004632896650562494,
          0.005261996367919637,
          0.005584788868710664,
          0.006829693719372602,
          0.006992951211535444,
          0.007533243107422898,
          0.008083638887190136,
          0.00901691868766502,
          0.009547106699672687,
          0.011610426144597214,
          0.011681685115117803,
          0.011742308418396514,
          0.013799246462975912,
          0.014405479495763016,
          0.015960414046525727,
          0.016339043800336617,
          0.01646560824051498,
          0.016567178862674923,
          0.016837856593980745,
          0.016943149699675347,
          0.017821655813854552,
          0.018164124299043054,
          0.019515385822123782,
          0.019930176844557064,
          0.021679212322484067,
          0.02299378079358031,
          0.023807409337584056,
          0.03248558202359523,
          0.03540081841459426,
          0.03806824375885751,
          0.04213319577870367,
          0.04300532049253775,
          0.04324196408866956,
          0.047999298045962036,
          0.05917525718372849,
          0.0755244048679449,
          0.08980066100671909,
          0.10079953628490826
         ]
        }
       ],
       "layout": {
        "coloraxis": {
         "colorbar": {
          "title": {
           "text": "COUNTS"
          }
         },
         "colorscale": [
          [
           0,
           "#0d0887"
          ],
          [
           0.1111111111111111,
           "#46039f"
          ],
          [
           0.2222222222222222,
           "#7201a8"
          ],
          [
           0.3333333333333333,
           "#9c179e"
          ],
          [
           0.4444444444444444,
           "#bd3786"
          ],
          [
           0.5555555555555556,
           "#d8576b"
          ],
          [
           0.6666666666666666,
           "#ed7953"
          ],
          [
           0.7777777777777778,
           "#fb9f3a"
          ],
          [
           0.8888888888888888,
           "#fdca26"
          ],
          [
           1,
           "#f0f921"
          ]
         ]
        },
        "geo": {
         "center": {},
         "domain": {
          "x": [
           0,
           1
          ],
          "y": [
           0,
           1
          ]
         },
         "scope": "usa"
        },
        "legend": {
         "tracegroupgap": 0
        },
        "margin": {
         "t": 60
        },
        "template": {
         "data": {
          "bar": [
           {
            "error_x": {
             "color": "#2a3f5f"
            },
            "error_y": {
             "color": "#2a3f5f"
            },
            "marker": {
             "line": {
              "color": "#E5ECF6",
              "width": 0.5
             }
            },
            "type": "bar"
           }
          ],
          "barpolar": [
           {
            "marker": {
             "line": {
              "color": "#E5ECF6",
              "width": 0.5
             }
            },
            "type": "barpolar"
           }
          ],
          "carpet": [
           {
            "aaxis": {
             "endlinecolor": "#2a3f5f",
             "gridcolor": "white",
             "linecolor": "white",
             "minorgridcolor": "white",
             "startlinecolor": "#2a3f5f"
            },
            "baxis": {
             "endlinecolor": "#2a3f5f",
             "gridcolor": "white",
             "linecolor": "white",
             "minorgridcolor": "white",
             "startlinecolor": "#2a3f5f"
            },
            "type": "carpet"
           }
          ],
          "choropleth": [
           {
            "colorbar": {
             "outlinewidth": 0,
             "ticks": ""
            },
            "type": "choropleth"
           }
          ],
          "contour": [
           {
            "colorbar": {
             "outlinewidth": 0,
             "ticks": ""
            },
            "colorscale": [
             [
              0,
              "#0d0887"
             ],
             [
              0.1111111111111111,
              "#46039f"
             ],
             [
              0.2222222222222222,
              "#7201a8"
             ],
             [
              0.3333333333333333,
              "#9c179e"
             ],
             [
              0.4444444444444444,
              "#bd3786"
             ],
             [
              0.5555555555555556,
              "#d8576b"
             ],
             [
              0.6666666666666666,
              "#ed7953"
             ],
             [
              0.7777777777777778,
              "#fb9f3a"
             ],
             [
              0.8888888888888888,
              "#fdca26"
             ],
             [
              1,
              "#f0f921"
             ]
            ],
            "type": "contour"
           }
          ],
          "contourcarpet": [
           {
            "colorbar": {
             "outlinewidth": 0,
             "ticks": ""
            },
            "type": "contourcarpet"
           }
          ],
          "heatmap": [
           {
            "colorbar": {
             "outlinewidth": 0,
             "ticks": ""
            },
            "colorscale": [
             [
              0,
              "#0d0887"
             ],
             [
              0.1111111111111111,
              "#46039f"
             ],
             [
              0.2222222222222222,
              "#7201a8"
             ],
             [
              0.3333333333333333,
              "#9c179e"
             ],
             [
              0.4444444444444444,
              "#bd3786"
             ],
             [
              0.5555555555555556,
              "#d8576b"
             ],
             [
              0.6666666666666666,
              "#ed7953"
             ],
             [
              0.7777777777777778,
              "#fb9f3a"
             ],
             [
              0.8888888888888888,
              "#fdca26"
             ],
             [
              1,
              "#f0f921"
             ]
            ],
            "type": "heatmap"
           }
          ],
          "heatmapgl": [
           {
            "colorbar": {
             "outlinewidth": 0,
             "ticks": ""
            },
            "colorscale": [
             [
              0,
              "#0d0887"
             ],
             [
              0.1111111111111111,
              "#46039f"
             ],
             [
              0.2222222222222222,
              "#7201a8"
             ],
             [
              0.3333333333333333,
              "#9c179e"
             ],
             [
              0.4444444444444444,
              "#bd3786"
             ],
             [
              0.5555555555555556,
              "#d8576b"
             ],
             [
              0.6666666666666666,
              "#ed7953"
             ],
             [
              0.7777777777777778,
              "#fb9f3a"
             ],
             [
              0.8888888888888888,
              "#fdca26"
             ],
             [
              1,
              "#f0f921"
             ]
            ],
            "type": "heatmapgl"
           }
          ],
          "histogram": [
           {
            "marker": {
             "colorbar": {
              "outlinewidth": 0,
              "ticks": ""
             }
            },
            "type": "histogram"
           }
          ],
          "histogram2d": [
           {
            "colorbar": {
             "outlinewidth": 0,
             "ticks": ""
            },
            "colorscale": [
             [
              0,
              "#0d0887"
             ],
             [
              0.1111111111111111,
              "#46039f"
             ],
             [
              0.2222222222222222,
              "#7201a8"
             ],
             [
              0.3333333333333333,
              "#9c179e"
             ],
             [
              0.4444444444444444,
              "#bd3786"
             ],
             [
              0.5555555555555556,
              "#d8576b"
             ],
             [
              0.6666666666666666,
              "#ed7953"
             ],
             [
              0.7777777777777778,
              "#fb9f3a"
             ],
             [
              0.8888888888888888,
              "#fdca26"
             ],
             [
              1,
              "#f0f921"
             ]
            ],
            "type": "histogram2d"
           }
          ],
          "histogram2dcontour": [
           {
            "colorbar": {
             "outlinewidth": 0,
             "ticks": ""
            },
            "colorscale": [
             [
              0,
              "#0d0887"
             ],
             [
              0.1111111111111111,
              "#46039f"
             ],
             [
              0.2222222222222222,
              "#7201a8"
             ],
             [
              0.3333333333333333,
              "#9c179e"
             ],
             [
              0.4444444444444444,
              "#bd3786"
             ],
             [
              0.5555555555555556,
              "#d8576b"
             ],
             [
              0.6666666666666666,
              "#ed7953"
             ],
             [
              0.7777777777777778,
              "#fb9f3a"
             ],
             [
              0.8888888888888888,
              "#fdca26"
             ],
             [
              1,
              "#f0f921"
             ]
            ],
            "type": "histogram2dcontour"
           }
          ],
          "mesh3d": [
           {
            "colorbar": {
             "outlinewidth": 0,
             "ticks": ""
            },
            "type": "mesh3d"
           }
          ],
          "parcoords": [
           {
            "line": {
             "colorbar": {
              "outlinewidth": 0,
              "ticks": ""
             }
            },
            "type": "parcoords"
           }
          ],
          "pie": [
           {
            "automargin": true,
            "type": "pie"
           }
          ],
          "scatter": [
           {
            "marker": {
             "colorbar": {
              "outlinewidth": 0,
              "ticks": ""
             }
            },
            "type": "scatter"
           }
          ],
          "scatter3d": [
           {
            "line": {
             "colorbar": {
              "outlinewidth": 0,
              "ticks": ""
             }
            },
            "marker": {
             "colorbar": {
              "outlinewidth": 0,
              "ticks": ""
             }
            },
            "type": "scatter3d"
           }
          ],
          "scattercarpet": [
           {
            "marker": {
             "colorbar": {
              "outlinewidth": 0,
              "ticks": ""
             }
            },
            "type": "scattercarpet"
           }
          ],
          "scattergeo": [
           {
            "marker": {
             "colorbar": {
              "outlinewidth": 0,
              "ticks": ""
             }
            },
            "type": "scattergeo"
           }
          ],
          "scattergl": [
           {
            "marker": {
             "colorbar": {
              "outlinewidth": 0,
              "ticks": ""
             }
            },
            "type": "scattergl"
           }
          ],
          "scattermapbox": [
           {
            "marker": {
             "colorbar": {
              "outlinewidth": 0,
              "ticks": ""
             }
            },
            "type": "scattermapbox"
           }
          ],
          "scatterpolar": [
           {
            "marker": {
             "colorbar": {
              "outlinewidth": 0,
              "ticks": ""
             }
            },
            "type": "scatterpolar"
           }
          ],
          "scatterpolargl": [
           {
            "marker": {
             "colorbar": {
              "outlinewidth": 0,
              "ticks": ""
             }
            },
            "type": "scatterpolargl"
           }
          ],
          "scatterternary": [
           {
            "marker": {
             "colorbar": {
              "outlinewidth": 0,
              "ticks": ""
             }
            },
            "type": "scatterternary"
           }
          ],
          "surface": [
           {
            "colorbar": {
             "outlinewidth": 0,
             "ticks": ""
            },
            "colorscale": [
             [
              0,
              "#0d0887"
             ],
             [
              0.1111111111111111,
              "#46039f"
             ],
             [
              0.2222222222222222,
              "#7201a8"
             ],
             [
              0.3333333333333333,
              "#9c179e"
             ],
             [
              0.4444444444444444,
              "#bd3786"
             ],
             [
              0.5555555555555556,
              "#d8576b"
             ],
             [
              0.6666666666666666,
              "#ed7953"
             ],
             [
              0.7777777777777778,
              "#fb9f3a"
             ],
             [
              0.8888888888888888,
              "#fdca26"
             ],
             [
              1,
              "#f0f921"
             ]
            ],
            "type": "surface"
           }
          ],
          "table": [
           {
            "cells": {
             "fill": {
              "color": "#EBF0F8"
             },
             "line": {
              "color": "white"
             }
            },
            "header": {
             "fill": {
              "color": "#C8D4E3"
             },
             "line": {
              "color": "white"
             }
            },
            "type": "table"
           }
          ]
         },
         "layout": {
          "annotationdefaults": {
           "arrowcolor": "#2a3f5f",
           "arrowhead": 0,
           "arrowwidth": 1
          },
          "autotypenumbers": "strict",
          "coloraxis": {
           "colorbar": {
            "outlinewidth": 0,
            "ticks": ""
           }
          },
          "colorscale": {
           "diverging": [
            [
             0,
             "#8e0152"
            ],
            [
             0.1,
             "#c51b7d"
            ],
            [
             0.2,
             "#de77ae"
            ],
            [
             0.3,
             "#f1b6da"
            ],
            [
             0.4,
             "#fde0ef"
            ],
            [
             0.5,
             "#f7f7f7"
            ],
            [
             0.6,
             "#e6f5d0"
            ],
            [
             0.7,
             "#b8e186"
            ],
            [
             0.8,
             "#7fbc41"
            ],
            [
             0.9,
             "#4d9221"
            ],
            [
             1,
             "#276419"
            ]
           ],
           "sequential": [
            [
             0,
             "#0d0887"
            ],
            [
             0.1111111111111111,
             "#46039f"
            ],
            [
             0.2222222222222222,
             "#7201a8"
            ],
            [
             0.3333333333333333,
             "#9c179e"
            ],
            [
             0.4444444444444444,
             "#bd3786"
            ],
            [
             0.5555555555555556,
             "#d8576b"
            ],
            [
             0.6666666666666666,
             "#ed7953"
            ],
            [
             0.7777777777777778,
             "#fb9f3a"
            ],
            [
             0.8888888888888888,
             "#fdca26"
            ],
            [
             1,
             "#f0f921"
            ]
           ],
           "sequentialminus": [
            [
             0,
             "#0d0887"
            ],
            [
             0.1111111111111111,
             "#46039f"
            ],
            [
             0.2222222222222222,
             "#7201a8"
            ],
            [
             0.3333333333333333,
             "#9c179e"
            ],
            [
             0.4444444444444444,
             "#bd3786"
            ],
            [
             0.5555555555555556,
             "#d8576b"
            ],
            [
             0.6666666666666666,
             "#ed7953"
            ],
            [
             0.7777777777777778,
             "#fb9f3a"
            ],
            [
             0.8888888888888888,
             "#fdca26"
            ],
            [
             1,
             "#f0f921"
            ]
           ]
          },
          "colorway": [
           "#636efa",
           "#EF553B",
           "#00cc96",
           "#ab63fa",
           "#FFA15A",
           "#19d3f3",
           "#FF6692",
           "#B6E880",
           "#FF97FF",
           "#FECB52"
          ],
          "font": {
           "color": "#2a3f5f"
          },
          "geo": {
           "bgcolor": "white",
           "lakecolor": "white",
           "landcolor": "#E5ECF6",
           "showlakes": true,
           "showland": true,
           "subunitcolor": "white"
          },
          "hoverlabel": {
           "align": "left"
          },
          "hovermode": "closest",
          "mapbox": {
           "style": "light"
          },
          "paper_bgcolor": "white",
          "plot_bgcolor": "#E5ECF6",
          "polar": {
           "angularaxis": {
            "gridcolor": "white",
            "linecolor": "white",
            "ticks": ""
           },
           "bgcolor": "#E5ECF6",
           "radialaxis": {
            "gridcolor": "white",
            "linecolor": "white",
            "ticks": ""
           }
          },
          "scene": {
           "xaxis": {
            "backgroundcolor": "#E5ECF6",
            "gridcolor": "white",
            "gridwidth": 2,
            "linecolor": "white",
            "showbackground": true,
            "ticks": "",
            "zerolinecolor": "white"
           },
           "yaxis": {
            "backgroundcolor": "#E5ECF6",
            "gridcolor": "white",
            "gridwidth": 2,
            "linecolor": "white",
            "showbackground": true,
            "ticks": "",
            "zerolinecolor": "white"
           },
           "zaxis": {
            "backgroundcolor": "#E5ECF6",
            "gridcolor": "white",
            "gridwidth": 2,
            "linecolor": "white",
            "showbackground": true,
            "ticks": "",
            "zerolinecolor": "white"
           }
          },
          "shapedefaults": {
           "line": {
            "color": "#2a3f5f"
           }
          },
          "ternary": {
           "aaxis": {
            "gridcolor": "white",
            "linecolor": "white",
            "ticks": ""
           },
           "baxis": {
            "gridcolor": "white",
            "linecolor": "white",
            "ticks": ""
           },
           "bgcolor": "#E5ECF6",
           "caxis": {
            "gridcolor": "white",
            "linecolor": "white",
            "ticks": ""
           }
          },
          "title": {
           "x": 0.05
          },
          "xaxis": {
           "automargin": true,
           "gridcolor": "white",
           "linecolor": "white",
           "ticks": "",
           "title": {
            "standoff": 15
           },
           "zerolinecolor": "white",
           "zerolinewidth": 2
          },
          "yaxis": {
           "automargin": true,
           "gridcolor": "white",
           "linecolor": "white",
           "ticks": "",
           "title": {
            "standoff": 15
           },
           "zerolinecolor": "white",
           "zerolinewidth": 2
          }
         }
        },
        "title": {
         "text": "State R2"
        }
       }
      },
      "text/html": [
       "<div>                            <div id=\"360b8099-bd50-42a1-8844-48384cfb6fbe\" class=\"plotly-graph-div\" style=\"height:525px; width:100%;\"></div>            <script type=\"text/javascript\">                require([\"plotly\"], function(Plotly) {                    window.PLOTLYENV=window.PLOTLYENV || {};                                    if (document.getElementById(\"360b8099-bd50-42a1-8844-48384cfb6fbe\")) {                    Plotly.newPlot(                        \"360b8099-bd50-42a1-8844-48384cfb6fbe\",                        [{\"coloraxis\": \"coloraxis\", \"geo\": \"geo\", \"hovertemplate\": \"<b>%{hovertext}</b><br><br>STATE=%{location}<br>COUNTS=%{z}<extra></extra>\", \"hovertext\": [\"DC\", \"DE\", \"VT\", \"RI\", \"IN\", \"IL\", \"NH\", \"MA\", \"OH\", \"MD\", \"IA\", \"CT\", \"KS\", \"NE\", \"PA\", \"HI\", \"MI\", \"AK\", \"ME\", \"WY\", \"ND\", \"NV\", \"MO\", \"VA\", \"WV\", \"PR\", \"NJ\", \"KY\", \"LA\", \"UT\", \"SD\", \"TN\", \"AR\", \"WI\", \"WA\", \"CO\", \"ID\", \"NM\", \"MT\", \"OK\", \"MN\", \"OR\", \"AL\", \"AZ\", \"MS\", \"NY\", \"SC\", \"FL\", \"NC\", \"TX\", \"GA\", \"CA\"], \"locationmode\": \"USA-states\", \"locations\": [\"DC\", \"DE\", \"VT\", \"RI\", \"IN\", \"IL\", \"NH\", \"MA\", \"OH\", \"MD\", \"IA\", \"CT\", \"KS\", \"NE\", \"PA\", \"HI\", \"MI\", \"AK\", \"ME\", \"WY\", \"ND\", \"NV\", \"MO\", \"VA\", \"WV\", \"PR\", \"NJ\", \"KY\", \"LA\", \"UT\", \"SD\", \"TN\", \"AR\", \"WI\", \"WA\", \"CO\", \"ID\", \"NM\", \"MT\", \"OK\", \"MN\", \"OR\", \"AL\", \"AZ\", \"MS\", \"NY\", \"SC\", \"FL\", \"NC\", \"TX\", \"GA\", \"CA\"], \"name\": \"\", \"type\": \"choropleth\", \"z\": [3.5097701898200714e-05, 9.093495491806547e-05, 0.00024249321311484127, 0.0002552560138050961, 0.0011156814936731075, 0.001237459883592622, 0.0013039328038543657, 0.0013964631088587132, 0.0018500743167248527, 0.0019261193375042875, 0.00219839241889639, 0.002646154009779496, 0.00408037373734688, 0.004239908745975064, 0.004632896650562494, 0.005261996367919637, 0.005584788868710664, 0.006829693719372602, 0.006992951211535444, 0.007533243107422898, 0.008083638887190136, 0.00901691868766502, 0.009547106699672687, 0.011610426144597214, 0.011681685115117803, 0.011742308418396514, 0.013799246462975912, 0.014405479495763016, 0.015960414046525727, 0.016339043800336617, 0.01646560824051498, 0.016567178862674923, 0.016837856593980745, 0.016943149699675347, 0.017821655813854552, 0.018164124299043054, 0.019515385822123782, 0.019930176844557064, 0.021679212322484067, 0.02299378079358031, 0.023807409337584056, 0.03248558202359523, 0.03540081841459426, 0.03806824375885751, 0.04213319577870367, 0.04300532049253775, 0.04324196408866956, 0.047999298045962036, 0.05917525718372849, 0.0755244048679449, 0.08980066100671909, 0.10079953628490826]}],                        {\"coloraxis\": {\"colorbar\": {\"title\": {\"text\": \"COUNTS\"}}, \"colorscale\": [[0.0, \"#0d0887\"], [0.1111111111111111, \"#46039f\"], [0.2222222222222222, \"#7201a8\"], [0.3333333333333333, \"#9c179e\"], [0.4444444444444444, \"#bd3786\"], [0.5555555555555556, \"#d8576b\"], [0.6666666666666666, \"#ed7953\"], [0.7777777777777778, \"#fb9f3a\"], [0.8888888888888888, \"#fdca26\"], [1.0, \"#f0f921\"]]}, \"geo\": {\"center\": {}, \"domain\": {\"x\": [0.0, 1.0], \"y\": [0.0, 1.0]}, \"scope\": \"usa\"}, \"legend\": {\"tracegroupgap\": 0}, \"margin\": {\"t\": 60}, \"template\": {\"data\": {\"bar\": [{\"error_x\": {\"color\": \"#2a3f5f\"}, \"error_y\": {\"color\": \"#2a3f5f\"}, \"marker\": {\"line\": {\"color\": \"#E5ECF6\", \"width\": 0.5}}, \"type\": \"bar\"}], \"barpolar\": [{\"marker\": {\"line\": {\"color\": \"#E5ECF6\", \"width\": 0.5}}, \"type\": \"barpolar\"}], \"carpet\": [{\"aaxis\": {\"endlinecolor\": \"#2a3f5f\", \"gridcolor\": \"white\", \"linecolor\": \"white\", \"minorgridcolor\": \"white\", \"startlinecolor\": \"#2a3f5f\"}, \"baxis\": {\"endlinecolor\": \"#2a3f5f\", \"gridcolor\": \"white\", \"linecolor\": \"white\", \"minorgridcolor\": \"white\", \"startlinecolor\": \"#2a3f5f\"}, \"type\": \"carpet\"}], \"choropleth\": [{\"colorbar\": {\"outlinewidth\": 0, \"ticks\": \"\"}, \"type\": \"choropleth\"}], \"contour\": [{\"colorbar\": {\"outlinewidth\": 0, \"ticks\": \"\"}, \"colorscale\": [[0.0, \"#0d0887\"], [0.1111111111111111, \"#46039f\"], [0.2222222222222222, \"#7201a8\"], [0.3333333333333333, \"#9c179e\"], [0.4444444444444444, \"#bd3786\"], [0.5555555555555556, \"#d8576b\"], [0.6666666666666666, \"#ed7953\"], [0.7777777777777778, \"#fb9f3a\"], [0.8888888888888888, \"#fdca26\"], [1.0, \"#f0f921\"]], \"type\": \"contour\"}], \"contourcarpet\": [{\"colorbar\": {\"outlinewidth\": 0, \"ticks\": \"\"}, \"type\": \"contourcarpet\"}], \"heatmap\": [{\"colorbar\": {\"outlinewidth\": 0, \"ticks\": \"\"}, \"colorscale\": [[0.0, \"#0d0887\"], [0.1111111111111111, \"#46039f\"], [0.2222222222222222, \"#7201a8\"], [0.3333333333333333, \"#9c179e\"], [0.4444444444444444, \"#bd3786\"], [0.5555555555555556, \"#d8576b\"], [0.6666666666666666, \"#ed7953\"], [0.7777777777777778, \"#fb9f3a\"], [0.8888888888888888, \"#fdca26\"], [1.0, \"#f0f921\"]], \"type\": \"heatmap\"}], \"heatmapgl\": [{\"colorbar\": {\"outlinewidth\": 0, \"ticks\": \"\"}, \"colorscale\": [[0.0, \"#0d0887\"], [0.1111111111111111, \"#46039f\"], [0.2222222222222222, \"#7201a8\"], [0.3333333333333333, \"#9c179e\"], [0.4444444444444444, \"#bd3786\"], [0.5555555555555556, \"#d8576b\"], [0.6666666666666666, \"#ed7953\"], [0.7777777777777778, \"#fb9f3a\"], [0.8888888888888888, \"#fdca26\"], [1.0, \"#f0f921\"]], \"type\": \"heatmapgl\"}], \"histogram\": [{\"marker\": {\"colorbar\": {\"outlinewidth\": 0, \"ticks\": \"\"}}, \"type\": \"histogram\"}], \"histogram2d\": [{\"colorbar\": {\"outlinewidth\": 0, \"ticks\": \"\"}, \"colorscale\": [[0.0, \"#0d0887\"], [0.1111111111111111, \"#46039f\"], [0.2222222222222222, \"#7201a8\"], [0.3333333333333333, \"#9c179e\"], [0.4444444444444444, \"#bd3786\"], [0.5555555555555556, \"#d8576b\"], [0.6666666666666666, \"#ed7953\"], [0.7777777777777778, \"#fb9f3a\"], [0.8888888888888888, \"#fdca26\"], [1.0, \"#f0f921\"]], \"type\": \"histogram2d\"}], \"histogram2dcontour\": [{\"colorbar\": {\"outlinewidth\": 0, \"ticks\": \"\"}, \"colorscale\": [[0.0, \"#0d0887\"], [0.1111111111111111, \"#46039f\"], [0.2222222222222222, \"#7201a8\"], [0.3333333333333333, \"#9c179e\"], [0.4444444444444444, \"#bd3786\"], [0.5555555555555556, \"#d8576b\"], [0.6666666666666666, \"#ed7953\"], [0.7777777777777778, \"#fb9f3a\"], [0.8888888888888888, \"#fdca26\"], [1.0, \"#f0f921\"]], \"type\": \"histogram2dcontour\"}], \"mesh3d\": [{\"colorbar\": {\"outlinewidth\": 0, \"ticks\": \"\"}, \"type\": \"mesh3d\"}], \"parcoords\": [{\"line\": {\"colorbar\": {\"outlinewidth\": 0, \"ticks\": \"\"}}, \"type\": \"parcoords\"}], \"pie\": [{\"automargin\": true, \"type\": \"pie\"}], \"scatter\": [{\"marker\": {\"colorbar\": {\"outlinewidth\": 0, \"ticks\": \"\"}}, \"type\": \"scatter\"}], \"scatter3d\": [{\"line\": {\"colorbar\": {\"outlinewidth\": 0, \"ticks\": \"\"}}, \"marker\": {\"colorbar\": {\"outlinewidth\": 0, \"ticks\": \"\"}}, \"type\": \"scatter3d\"}], \"scattercarpet\": [{\"marker\": {\"colorbar\": {\"outlinewidth\": 0, \"ticks\": \"\"}}, \"type\": \"scattercarpet\"}], \"scattergeo\": [{\"marker\": {\"colorbar\": {\"outlinewidth\": 0, \"ticks\": \"\"}}, \"type\": \"scattergeo\"}], \"scattergl\": [{\"marker\": {\"colorbar\": {\"outlinewidth\": 0, \"ticks\": \"\"}}, \"type\": \"scattergl\"}], \"scattermapbox\": [{\"marker\": {\"colorbar\": {\"outlinewidth\": 0, \"ticks\": \"\"}}, \"type\": \"scattermapbox\"}], \"scatterpolar\": [{\"marker\": {\"colorbar\": {\"outlinewidth\": 0, \"ticks\": \"\"}}, \"type\": \"scatterpolar\"}], \"scatterpolargl\": [{\"marker\": {\"colorbar\": {\"outlinewidth\": 0, \"ticks\": \"\"}}, \"type\": \"scatterpolargl\"}], \"scatterternary\": [{\"marker\": {\"colorbar\": {\"outlinewidth\": 0, \"ticks\": \"\"}}, \"type\": \"scatterternary\"}], \"surface\": [{\"colorbar\": {\"outlinewidth\": 0, \"ticks\": \"\"}, \"colorscale\": [[0.0, \"#0d0887\"], [0.1111111111111111, \"#46039f\"], [0.2222222222222222, \"#7201a8\"], [0.3333333333333333, \"#9c179e\"], [0.4444444444444444, \"#bd3786\"], [0.5555555555555556, \"#d8576b\"], [0.6666666666666666, \"#ed7953\"], [0.7777777777777778, \"#fb9f3a\"], [0.8888888888888888, \"#fdca26\"], [1.0, \"#f0f921\"]], \"type\": \"surface\"}], \"table\": [{\"cells\": {\"fill\": {\"color\": \"#EBF0F8\"}, \"line\": {\"color\": \"white\"}}, \"header\": {\"fill\": {\"color\": \"#C8D4E3\"}, \"line\": {\"color\": \"white\"}}, \"type\": \"table\"}]}, \"layout\": {\"annotationdefaults\": {\"arrowcolor\": \"#2a3f5f\", \"arrowhead\": 0, \"arrowwidth\": 1}, \"autotypenumbers\": \"strict\", \"coloraxis\": {\"colorbar\": {\"outlinewidth\": 0, \"ticks\": \"\"}}, \"colorscale\": {\"diverging\": [[0, \"#8e0152\"], [0.1, \"#c51b7d\"], [0.2, \"#de77ae\"], [0.3, \"#f1b6da\"], [0.4, \"#fde0ef\"], [0.5, \"#f7f7f7\"], [0.6, \"#e6f5d0\"], [0.7, \"#b8e186\"], [0.8, \"#7fbc41\"], [0.9, \"#4d9221\"], [1, \"#276419\"]], \"sequential\": [[0.0, \"#0d0887\"], [0.1111111111111111, \"#46039f\"], [0.2222222222222222, \"#7201a8\"], [0.3333333333333333, \"#9c179e\"], [0.4444444444444444, \"#bd3786\"], [0.5555555555555556, \"#d8576b\"], [0.6666666666666666, \"#ed7953\"], [0.7777777777777778, \"#fb9f3a\"], [0.8888888888888888, \"#fdca26\"], [1.0, \"#f0f921\"]], \"sequentialminus\": [[0.0, \"#0d0887\"], [0.1111111111111111, \"#46039f\"], [0.2222222222222222, \"#7201a8\"], [0.3333333333333333, \"#9c179e\"], [0.4444444444444444, \"#bd3786\"], [0.5555555555555556, \"#d8576b\"], [0.6666666666666666, \"#ed7953\"], [0.7777777777777778, \"#fb9f3a\"], [0.8888888888888888, \"#fdca26\"], [1.0, \"#f0f921\"]]}, \"colorway\": [\"#636efa\", \"#EF553B\", \"#00cc96\", \"#ab63fa\", \"#FFA15A\", \"#19d3f3\", \"#FF6692\", \"#B6E880\", \"#FF97FF\", \"#FECB52\"], \"font\": {\"color\": \"#2a3f5f\"}, \"geo\": {\"bgcolor\": \"white\", \"lakecolor\": \"white\", \"landcolor\": \"#E5ECF6\", \"showlakes\": true, \"showland\": true, \"subunitcolor\": \"white\"}, \"hoverlabel\": {\"align\": \"left\"}, \"hovermode\": \"closest\", \"mapbox\": {\"style\": \"light\"}, \"paper_bgcolor\": \"white\", \"plot_bgcolor\": \"#E5ECF6\", \"polar\": {\"angularaxis\": {\"gridcolor\": \"white\", \"linecolor\": \"white\", \"ticks\": \"\"}, \"bgcolor\": \"#E5ECF6\", \"radialaxis\": {\"gridcolor\": \"white\", \"linecolor\": \"white\", \"ticks\": \"\"}}, \"scene\": {\"xaxis\": {\"backgroundcolor\": \"#E5ECF6\", \"gridcolor\": \"white\", \"gridwidth\": 2, \"linecolor\": \"white\", \"showbackground\": true, \"ticks\": \"\", \"zerolinecolor\": \"white\"}, \"yaxis\": {\"backgroundcolor\": \"#E5ECF6\", \"gridcolor\": \"white\", \"gridwidth\": 2, \"linecolor\": \"white\", \"showbackground\": true, \"ticks\": \"\", \"zerolinecolor\": \"white\"}, \"zaxis\": {\"backgroundcolor\": \"#E5ECF6\", \"gridcolor\": \"white\", \"gridwidth\": 2, \"linecolor\": \"white\", \"showbackground\": true, \"ticks\": \"\", \"zerolinecolor\": \"white\"}}, \"shapedefaults\": {\"line\": {\"color\": \"#2a3f5f\"}}, \"ternary\": {\"aaxis\": {\"gridcolor\": \"white\", \"linecolor\": \"white\", \"ticks\": \"\"}, \"baxis\": {\"gridcolor\": \"white\", \"linecolor\": \"white\", \"ticks\": \"\"}, \"bgcolor\": \"#E5ECF6\", \"caxis\": {\"gridcolor\": \"white\", \"linecolor\": \"white\", \"ticks\": \"\"}}, \"title\": {\"x\": 0.05}, \"xaxis\": {\"automargin\": true, \"gridcolor\": \"white\", \"linecolor\": \"white\", \"ticks\": \"\", \"title\": {\"standoff\": 15}, \"zerolinecolor\": \"white\", \"zerolinewidth\": 2}, \"yaxis\": {\"automargin\": true, \"gridcolor\": \"white\", \"linecolor\": \"white\", \"ticks\": \"\", \"title\": {\"standoff\": 15}, \"zerolinecolor\": \"white\", \"zerolinewidth\": 2}}}, \"title\": {\"text\": \"State R2\"}},                        {\"responsive\": true}                    ).then(function(){\n",
       "                            \n",
       "var gd = document.getElementById('360b8099-bd50-42a1-8844-48384cfb6fbe');\n",
       "var x = new MutationObserver(function (mutations, observer) {{\n",
       "        var display = window.getComputedStyle(gd).display;\n",
       "        if (!display || display === 'none') {{\n",
       "            console.log([gd, 'removed!']);\n",
       "            Plotly.purge(gd);\n",
       "            observer.disconnect();\n",
       "        }}\n",
       "}});\n",
       "\n",
       "// Listen for the removal of the full notebook cells\n",
       "var notebookContainer = gd.closest('#notebook-container');\n",
       "if (notebookContainer) {{\n",
       "    x.observe(notebookContainer, {childList: true});\n",
       "}}\n",
       "\n",
       "// Listen for the clearing of the current output cell\n",
       "var outputEl = gd.closest('.output');\n",
       "if (outputEl) {{\n",
       "    x.observe(outputEl, {childList: true});\n",
       "}}\n",
       "\n",
       "                        })                };                });            </script>        </div>"
      ]
     },
     "metadata": {},
     "output_type": "display_data"
    }
   ],
   "source": [
    "wildCountPlot = dfWild.groupby(['STATE'])['FIRE_SIZE'].count()\n",
    "wildCountPlot = pd.DataFrame(wildCountPlot)\n",
    "wildCountPlot = wildCountPlot.rename(columns={'FIRE_SIZE':'COUNTS'})\n",
    "wildFrac = (wildCountPlot/wildCountPlot.sum()).sort_values(by='COUNTS')\n",
    "wildFrac = wildFrac.reset_index()\n",
    "\n",
    "fig = px.choropleth(wildFrac,  # Input Pandas DataFrame\n",
    "                    locations=\"STATE\",  # DataFrame column with locations\n",
    "                    color=\"COUNTS\",  # DataFrame column with color values\n",
    "                    hover_name=\"STATE\", # DataFrame column hover info\n",
    "                    locationmode = 'USA-states') # Set to plot as US States\n",
    "fig.update_layout(\n",
    "    title_text = 'State fraction of wildfires', # Create a Title\n",
    "    geo_scope='usa',  # Plot only the USA instead of globe\n",
    ")\n",
    "fig.show()  # Output"
   ]
  },
  {
   "cell_type": "code",
   "execution_count": 120,
   "metadata": {
    "scrolled": true
   },
   "outputs": [
    {
     "data": {
      "application/vnd.plotly.v1+json": {
       "config": {
        "plotlyServerURL": "https://plot.ly"
       },
       "data": [
        {
         "coloraxis": "coloraxis",
         "geo": "geo",
         "hovertemplate": "<b>%{hovertext}</b><br><br>STATE=%{location}<br>FIRE_SIZE=%{z}<extra></extra>",
         "hovertext": [
          "AL",
          "AR",
          "AZ",
          "CA",
          "CO",
          "CT",
          "DC",
          "DE",
          "FL",
          "GA",
          "HI",
          "IA",
          "ID",
          "IL",
          "IN",
          "KS",
          "KY",
          "LA",
          "MA",
          "MD",
          "ME",
          "MI",
          "MN",
          "MO",
          "MS",
          "MT",
          "NC",
          "ND",
          "NE",
          "NH",
          "NJ",
          "NM",
          "NV",
          "NY",
          "OH",
          "OK",
          "OR",
          "PA",
          "PR",
          "RI",
          "SC",
          "SD",
          "TN",
          "TX",
          "UT",
          "VA",
          "VT",
          "WA",
          "WI",
          "WV",
          "WY"
         ],
         "locationmode": "USA-states",
         "locations": [
          "AL",
          "AR",
          "AZ",
          "CA",
          "CO",
          "CT",
          "DC",
          "DE",
          "FL",
          "GA",
          "HI",
          "IA",
          "ID",
          "IL",
          "IN",
          "KS",
          "KY",
          "LA",
          "MA",
          "MD",
          "ME",
          "MI",
          "MN",
          "MO",
          "MS",
          "MT",
          "NC",
          "ND",
          "NE",
          "NH",
          "NJ",
          "NM",
          "NV",
          "NY",
          "OH",
          "OK",
          "OR",
          "PA",
          "PR",
          "RI",
          "SC",
          "SD",
          "TN",
          "TX",
          "UT",
          "VA",
          "VT",
          "WA",
          "WI",
          "WV",
          "WY"
         ],
         "name": "",
         "type": "choropleth",
         "z": [
          13.828229758148016,
          16.07276095158365,
          77.90183742614816,
          67.24272525448188,
          53.93650174197569,
          2.259507636656081,
          0.4924242424242429,
          28.26695906432758,
          49.154653281602435,
          9.415452279369292,
          25.5443153107669,
          17.293653507498785,
          372.89048234227675,
          9.801252685861625,
          8.256858913250756,
          120.24160054737581,
          37.465051681346125,
          22.024586445107257,
          2.3323419649657597,
          18.57524295969031,
          1.8673490494294753,
          13.352640830318604,
          27.041153923699408,
          25.59604194285019,
          14.331488072698084,
          154.03454068678718,
          6.564891756694177,
          27.14342674823903,
          121.33434816254524,
          1.5750436378466672,
          5.085496011406996,
          170.23431776000535,
          531.7206499173284,
          1.1595396663300013,
          6.879521414199445,
          74.75867411364997,
          137.71610414478232,
          6.2822274482321765,
          6.280893981250855,
          1.1716875000000038,
          6.66133118096214,
          50.733636931832,
          15.620864094818304,
          68.90683990379546,
          133.9276276325798,
          15.64813905510042,
          3.413346491228068,
          142.6974102587114,
          2.783191552588017,
          26.249877088357245,
          169.5235552873241
         ]
        }
       ],
       "layout": {
        "coloraxis": {
         "colorbar": {
          "title": {
           "text": "FIRE_SIZE"
          }
         },
         "colorscale": [
          [
           0,
           "#0d0887"
          ],
          [
           0.1111111111111111,
           "#46039f"
          ],
          [
           0.2222222222222222,
           "#7201a8"
          ],
          [
           0.3333333333333333,
           "#9c179e"
          ],
          [
           0.4444444444444444,
           "#bd3786"
          ],
          [
           0.5555555555555556,
           "#d8576b"
          ],
          [
           0.6666666666666666,
           "#ed7953"
          ],
          [
           0.7777777777777778,
           "#fb9f3a"
          ],
          [
           0.8888888888888888,
           "#fdca26"
          ],
          [
           1,
           "#f0f921"
          ]
         ]
        },
        "geo": {
         "center": {},
         "domain": {
          "x": [
           0,
           1
          ],
          "y": [
           0,
           1
          ]
         },
         "scope": "usa"
        },
        "legend": {
         "tracegroupgap": 0
        },
        "margin": {
         "t": 60
        },
        "template": {
         "data": {
          "bar": [
           {
            "error_x": {
             "color": "#2a3f5f"
            },
            "error_y": {
             "color": "#2a3f5f"
            },
            "marker": {
             "line": {
              "color": "#E5ECF6",
              "width": 0.5
             }
            },
            "type": "bar"
           }
          ],
          "barpolar": [
           {
            "marker": {
             "line": {
              "color": "#E5ECF6",
              "width": 0.5
             }
            },
            "type": "barpolar"
           }
          ],
          "carpet": [
           {
            "aaxis": {
             "endlinecolor": "#2a3f5f",
             "gridcolor": "white",
             "linecolor": "white",
             "minorgridcolor": "white",
             "startlinecolor": "#2a3f5f"
            },
            "baxis": {
             "endlinecolor": "#2a3f5f",
             "gridcolor": "white",
             "linecolor": "white",
             "minorgridcolor": "white",
             "startlinecolor": "#2a3f5f"
            },
            "type": "carpet"
           }
          ],
          "choropleth": [
           {
            "colorbar": {
             "outlinewidth": 0,
             "ticks": ""
            },
            "type": "choropleth"
           }
          ],
          "contour": [
           {
            "colorbar": {
             "outlinewidth": 0,
             "ticks": ""
            },
            "colorscale": [
             [
              0,
              "#0d0887"
             ],
             [
              0.1111111111111111,
              "#46039f"
             ],
             [
              0.2222222222222222,
              "#7201a8"
             ],
             [
              0.3333333333333333,
              "#9c179e"
             ],
             [
              0.4444444444444444,
              "#bd3786"
             ],
             [
              0.5555555555555556,
              "#d8576b"
             ],
             [
              0.6666666666666666,
              "#ed7953"
             ],
             [
              0.7777777777777778,
              "#fb9f3a"
             ],
             [
              0.8888888888888888,
              "#fdca26"
             ],
             [
              1,
              "#f0f921"
             ]
            ],
            "type": "contour"
           }
          ],
          "contourcarpet": [
           {
            "colorbar": {
             "outlinewidth": 0,
             "ticks": ""
            },
            "type": "contourcarpet"
           }
          ],
          "heatmap": [
           {
            "colorbar": {
             "outlinewidth": 0,
             "ticks": ""
            },
            "colorscale": [
             [
              0,
              "#0d0887"
             ],
             [
              0.1111111111111111,
              "#46039f"
             ],
             [
              0.2222222222222222,
              "#7201a8"
             ],
             [
              0.3333333333333333,
              "#9c179e"
             ],
             [
              0.4444444444444444,
              "#bd3786"
             ],
             [
              0.5555555555555556,
              "#d8576b"
             ],
             [
              0.6666666666666666,
              "#ed7953"
             ],
             [
              0.7777777777777778,
              "#fb9f3a"
             ],
             [
              0.8888888888888888,
              "#fdca26"
             ],
             [
              1,
              "#f0f921"
             ]
            ],
            "type": "heatmap"
           }
          ],
          "heatmapgl": [
           {
            "colorbar": {
             "outlinewidth": 0,
             "ticks": ""
            },
            "colorscale": [
             [
              0,
              "#0d0887"
             ],
             [
              0.1111111111111111,
              "#46039f"
             ],
             [
              0.2222222222222222,
              "#7201a8"
             ],
             [
              0.3333333333333333,
              "#9c179e"
             ],
             [
              0.4444444444444444,
              "#bd3786"
             ],
             [
              0.5555555555555556,
              "#d8576b"
             ],
             [
              0.6666666666666666,
              "#ed7953"
             ],
             [
              0.7777777777777778,
              "#fb9f3a"
             ],
             [
              0.8888888888888888,
              "#fdca26"
             ],
             [
              1,
              "#f0f921"
             ]
            ],
            "type": "heatmapgl"
           }
          ],
          "histogram": [
           {
            "marker": {
             "colorbar": {
              "outlinewidth": 0,
              "ticks": ""
             }
            },
            "type": "histogram"
           }
          ],
          "histogram2d": [
           {
            "colorbar": {
             "outlinewidth": 0,
             "ticks": ""
            },
            "colorscale": [
             [
              0,
              "#0d0887"
             ],
             [
              0.1111111111111111,
              "#46039f"
             ],
             [
              0.2222222222222222,
              "#7201a8"
             ],
             [
              0.3333333333333333,
              "#9c179e"
             ],
             [
              0.4444444444444444,
              "#bd3786"
             ],
             [
              0.5555555555555556,
              "#d8576b"
             ],
             [
              0.6666666666666666,
              "#ed7953"
             ],
             [
              0.7777777777777778,
              "#fb9f3a"
             ],
             [
              0.8888888888888888,
              "#fdca26"
             ],
             [
              1,
              "#f0f921"
             ]
            ],
            "type": "histogram2d"
           }
          ],
          "histogram2dcontour": [
           {
            "colorbar": {
             "outlinewidth": 0,
             "ticks": ""
            },
            "colorscale": [
             [
              0,
              "#0d0887"
             ],
             [
              0.1111111111111111,
              "#46039f"
             ],
             [
              0.2222222222222222,
              "#7201a8"
             ],
             [
              0.3333333333333333,
              "#9c179e"
             ],
             [
              0.4444444444444444,
              "#bd3786"
             ],
             [
              0.5555555555555556,
              "#d8576b"
             ],
             [
              0.6666666666666666,
              "#ed7953"
             ],
             [
              0.7777777777777778,
              "#fb9f3a"
             ],
             [
              0.8888888888888888,
              "#fdca26"
             ],
             [
              1,
              "#f0f921"
             ]
            ],
            "type": "histogram2dcontour"
           }
          ],
          "mesh3d": [
           {
            "colorbar": {
             "outlinewidth": 0,
             "ticks": ""
            },
            "type": "mesh3d"
           }
          ],
          "parcoords": [
           {
            "line": {
             "colorbar": {
              "outlinewidth": 0,
              "ticks": ""
             }
            },
            "type": "parcoords"
           }
          ],
          "pie": [
           {
            "automargin": true,
            "type": "pie"
           }
          ],
          "scatter": [
           {
            "marker": {
             "colorbar": {
              "outlinewidth": 0,
              "ticks": ""
             }
            },
            "type": "scatter"
           }
          ],
          "scatter3d": [
           {
            "line": {
             "colorbar": {
              "outlinewidth": 0,
              "ticks": ""
             }
            },
            "marker": {
             "colorbar": {
              "outlinewidth": 0,
              "ticks": ""
             }
            },
            "type": "scatter3d"
           }
          ],
          "scattercarpet": [
           {
            "marker": {
             "colorbar": {
              "outlinewidth": 0,
              "ticks": ""
             }
            },
            "type": "scattercarpet"
           }
          ],
          "scattergeo": [
           {
            "marker": {
             "colorbar": {
              "outlinewidth": 0,
              "ticks": ""
             }
            },
            "type": "scattergeo"
           }
          ],
          "scattergl": [
           {
            "marker": {
             "colorbar": {
              "outlinewidth": 0,
              "ticks": ""
             }
            },
            "type": "scattergl"
           }
          ],
          "scattermapbox": [
           {
            "marker": {
             "colorbar": {
              "outlinewidth": 0,
              "ticks": ""
             }
            },
            "type": "scattermapbox"
           }
          ],
          "scatterpolar": [
           {
            "marker": {
             "colorbar": {
              "outlinewidth": 0,
              "ticks": ""
             }
            },
            "type": "scatterpolar"
           }
          ],
          "scatterpolargl": [
           {
            "marker": {
             "colorbar": {
              "outlinewidth": 0,
              "ticks": ""
             }
            },
            "type": "scatterpolargl"
           }
          ],
          "scatterternary": [
           {
            "marker": {
             "colorbar": {
              "outlinewidth": 0,
              "ticks": ""
             }
            },
            "type": "scatterternary"
           }
          ],
          "surface": [
           {
            "colorbar": {
             "outlinewidth": 0,
             "ticks": ""
            },
            "colorscale": [
             [
              0,
              "#0d0887"
             ],
             [
              0.1111111111111111,
              "#46039f"
             ],
             [
              0.2222222222222222,
              "#7201a8"
             ],
             [
              0.3333333333333333,
              "#9c179e"
             ],
             [
              0.4444444444444444,
              "#bd3786"
             ],
             [
              0.5555555555555556,
              "#d8576b"
             ],
             [
              0.6666666666666666,
              "#ed7953"
             ],
             [
              0.7777777777777778,
              "#fb9f3a"
             ],
             [
              0.8888888888888888,
              "#fdca26"
             ],
             [
              1,
              "#f0f921"
             ]
            ],
            "type": "surface"
           }
          ],
          "table": [
           {
            "cells": {
             "fill": {
              "color": "#EBF0F8"
             },
             "line": {
              "color": "white"
             }
            },
            "header": {
             "fill": {
              "color": "#C8D4E3"
             },
             "line": {
              "color": "white"
             }
            },
            "type": "table"
           }
          ]
         },
         "layout": {
          "annotationdefaults": {
           "arrowcolor": "#2a3f5f",
           "arrowhead": 0,
           "arrowwidth": 1
          },
          "autotypenumbers": "strict",
          "coloraxis": {
           "colorbar": {
            "outlinewidth": 0,
            "ticks": ""
           }
          },
          "colorscale": {
           "diverging": [
            [
             0,
             "#8e0152"
            ],
            [
             0.1,
             "#c51b7d"
            ],
            [
             0.2,
             "#de77ae"
            ],
            [
             0.3,
             "#f1b6da"
            ],
            [
             0.4,
             "#fde0ef"
            ],
            [
             0.5,
             "#f7f7f7"
            ],
            [
             0.6,
             "#e6f5d0"
            ],
            [
             0.7,
             "#b8e186"
            ],
            [
             0.8,
             "#7fbc41"
            ],
            [
             0.9,
             "#4d9221"
            ],
            [
             1,
             "#276419"
            ]
           ],
           "sequential": [
            [
             0,
             "#0d0887"
            ],
            [
             0.1111111111111111,
             "#46039f"
            ],
            [
             0.2222222222222222,
             "#7201a8"
            ],
            [
             0.3333333333333333,
             "#9c179e"
            ],
            [
             0.4444444444444444,
             "#bd3786"
            ],
            [
             0.5555555555555556,
             "#d8576b"
            ],
            [
             0.6666666666666666,
             "#ed7953"
            ],
            [
             0.7777777777777778,
             "#fb9f3a"
            ],
            [
             0.8888888888888888,
             "#fdca26"
            ],
            [
             1,
             "#f0f921"
            ]
           ],
           "sequentialminus": [
            [
             0,
             "#0d0887"
            ],
            [
             0.1111111111111111,
             "#46039f"
            ],
            [
             0.2222222222222222,
             "#7201a8"
            ],
            [
             0.3333333333333333,
             "#9c179e"
            ],
            [
             0.4444444444444444,
             "#bd3786"
            ],
            [
             0.5555555555555556,
             "#d8576b"
            ],
            [
             0.6666666666666666,
             "#ed7953"
            ],
            [
             0.7777777777777778,
             "#fb9f3a"
            ],
            [
             0.8888888888888888,
             "#fdca26"
            ],
            [
             1,
             "#f0f921"
            ]
           ]
          },
          "colorway": [
           "#636efa",
           "#EF553B",
           "#00cc96",
           "#ab63fa",
           "#FFA15A",
           "#19d3f3",
           "#FF6692",
           "#B6E880",
           "#FF97FF",
           "#FECB52"
          ],
          "font": {
           "color": "#2a3f5f"
          },
          "geo": {
           "bgcolor": "white",
           "lakecolor": "white",
           "landcolor": "#E5ECF6",
           "showlakes": true,
           "showland": true,
           "subunitcolor": "white"
          },
          "hoverlabel": {
           "align": "left"
          },
          "hovermode": "closest",
          "mapbox": {
           "style": "light"
          },
          "paper_bgcolor": "white",
          "plot_bgcolor": "#E5ECF6",
          "polar": {
           "angularaxis": {
            "gridcolor": "white",
            "linecolor": "white",
            "ticks": ""
           },
           "bgcolor": "#E5ECF6",
           "radialaxis": {
            "gridcolor": "white",
            "linecolor": "white",
            "ticks": ""
           }
          },
          "scene": {
           "xaxis": {
            "backgroundcolor": "#E5ECF6",
            "gridcolor": "white",
            "gridwidth": 2,
            "linecolor": "white",
            "showbackground": true,
            "ticks": "",
            "zerolinecolor": "white"
           },
           "yaxis": {
            "backgroundcolor": "#E5ECF6",
            "gridcolor": "white",
            "gridwidth": 2,
            "linecolor": "white",
            "showbackground": true,
            "ticks": "",
            "zerolinecolor": "white"
           },
           "zaxis": {
            "backgroundcolor": "#E5ECF6",
            "gridcolor": "white",
            "gridwidth": 2,
            "linecolor": "white",
            "showbackground": true,
            "ticks": "",
            "zerolinecolor": "white"
           }
          },
          "shapedefaults": {
           "line": {
            "color": "#2a3f5f"
           }
          },
          "ternary": {
           "aaxis": {
            "gridcolor": "white",
            "linecolor": "white",
            "ticks": ""
           },
           "baxis": {
            "gridcolor": "white",
            "linecolor": "white",
            "ticks": ""
           },
           "bgcolor": "#E5ECF6",
           "caxis": {
            "gridcolor": "white",
            "linecolor": "white",
            "ticks": ""
           }
          },
          "title": {
           "x": 0.05
          },
          "xaxis": {
           "automargin": true,
           "gridcolor": "white",
           "linecolor": "white",
           "ticks": "",
           "title": {
            "standoff": 15
           },
           "zerolinecolor": "white",
           "zerolinewidth": 2
          },
          "yaxis": {
           "automargin": true,
           "gridcolor": "white",
           "linecolor": "white",
           "ticks": "",
           "title": {
            "standoff": 15
           },
           "zerolinecolor": "white",
           "zerolinewidth": 2
          }
         }
        },
        "title": {
         "text": "State fraction of wildfires"
        }
       }
      },
      "text/html": [
       "<div>                            <div id=\"75f79c3f-517f-41af-9e37-97b5b5f9b9ba\" class=\"plotly-graph-div\" style=\"height:525px; width:100%;\"></div>            <script type=\"text/javascript\">                require([\"plotly\"], function(Plotly) {                    window.PLOTLYENV=window.PLOTLYENV || {};                                    if (document.getElementById(\"75f79c3f-517f-41af-9e37-97b5b5f9b9ba\")) {                    Plotly.newPlot(                        \"75f79c3f-517f-41af-9e37-97b5b5f9b9ba\",                        [{\"coloraxis\": \"coloraxis\", \"geo\": \"geo\", \"hovertemplate\": \"<b>%{hovertext}</b><br><br>STATE=%{location}<br>FIRE_SIZE=%{z}<extra></extra>\", \"hovertext\": [\"AL\", \"AR\", \"AZ\", \"CA\", \"CO\", \"CT\", \"DC\", \"DE\", \"FL\", \"GA\", \"HI\", \"IA\", \"ID\", \"IL\", \"IN\", \"KS\", \"KY\", \"LA\", \"MA\", \"MD\", \"ME\", \"MI\", \"MN\", \"MO\", \"MS\", \"MT\", \"NC\", \"ND\", \"NE\", \"NH\", \"NJ\", \"NM\", \"NV\", \"NY\", \"OH\", \"OK\", \"OR\", \"PA\", \"PR\", \"RI\", \"SC\", \"SD\", \"TN\", \"TX\", \"UT\", \"VA\", \"VT\", \"WA\", \"WI\", \"WV\", \"WY\"], \"locationmode\": \"USA-states\", \"locations\": [\"AL\", \"AR\", \"AZ\", \"CA\", \"CO\", \"CT\", \"DC\", \"DE\", \"FL\", \"GA\", \"HI\", \"IA\", \"ID\", \"IL\", \"IN\", \"KS\", \"KY\", \"LA\", \"MA\", \"MD\", \"ME\", \"MI\", \"MN\", \"MO\", \"MS\", \"MT\", \"NC\", \"ND\", \"NE\", \"NH\", \"NJ\", \"NM\", \"NV\", \"NY\", \"OH\", \"OK\", \"OR\", \"PA\", \"PR\", \"RI\", \"SC\", \"SD\", \"TN\", \"TX\", \"UT\", \"VA\", \"VT\", \"WA\", \"WI\", \"WV\", \"WY\"], \"name\": \"\", \"type\": \"choropleth\", \"z\": [13.828229758148016, 16.07276095158365, 77.90183742614816, 67.24272525448188, 53.93650174197569, 2.259507636656081, 0.4924242424242429, 28.26695906432758, 49.154653281602435, 9.415452279369292, 25.5443153107669, 17.293653507498785, 372.89048234227675, 9.801252685861625, 8.256858913250756, 120.24160054737581, 37.465051681346125, 22.024586445107257, 2.3323419649657597, 18.57524295969031, 1.8673490494294753, 13.352640830318604, 27.041153923699408, 25.59604194285019, 14.331488072698084, 154.03454068678718, 6.564891756694177, 27.14342674823903, 121.33434816254524, 1.5750436378466672, 5.085496011406996, 170.23431776000535, 531.7206499173284, 1.1595396663300013, 6.879521414199445, 74.75867411364997, 137.71610414478232, 6.2822274482321765, 6.280893981250855, 1.1716875000000038, 6.66133118096214, 50.733636931832, 15.620864094818304, 68.90683990379546, 133.9276276325798, 15.64813905510042, 3.413346491228068, 142.6974102587114, 2.783191552588017, 26.249877088357245, 169.5235552873241]}],                        {\"coloraxis\": {\"colorbar\": {\"title\": {\"text\": \"FIRE_SIZE\"}}, \"colorscale\": [[0.0, \"#0d0887\"], [0.1111111111111111, \"#46039f\"], [0.2222222222222222, \"#7201a8\"], [0.3333333333333333, \"#9c179e\"], [0.4444444444444444, \"#bd3786\"], [0.5555555555555556, \"#d8576b\"], [0.6666666666666666, \"#ed7953\"], [0.7777777777777778, \"#fb9f3a\"], [0.8888888888888888, \"#fdca26\"], [1.0, \"#f0f921\"]]}, \"geo\": {\"center\": {}, \"domain\": {\"x\": [0.0, 1.0], \"y\": [0.0, 1.0]}, \"scope\": \"usa\"}, \"legend\": {\"tracegroupgap\": 0}, \"margin\": {\"t\": 60}, \"template\": {\"data\": {\"bar\": [{\"error_x\": {\"color\": \"#2a3f5f\"}, \"error_y\": {\"color\": \"#2a3f5f\"}, \"marker\": {\"line\": {\"color\": \"#E5ECF6\", \"width\": 0.5}}, \"type\": \"bar\"}], \"barpolar\": [{\"marker\": {\"line\": {\"color\": \"#E5ECF6\", \"width\": 0.5}}, \"type\": \"barpolar\"}], \"carpet\": [{\"aaxis\": {\"endlinecolor\": \"#2a3f5f\", \"gridcolor\": \"white\", \"linecolor\": \"white\", \"minorgridcolor\": \"white\", \"startlinecolor\": \"#2a3f5f\"}, \"baxis\": {\"endlinecolor\": \"#2a3f5f\", \"gridcolor\": \"white\", \"linecolor\": \"white\", \"minorgridcolor\": \"white\", \"startlinecolor\": \"#2a3f5f\"}, \"type\": \"carpet\"}], \"choropleth\": [{\"colorbar\": {\"outlinewidth\": 0, \"ticks\": \"\"}, \"type\": \"choropleth\"}], \"contour\": [{\"colorbar\": {\"outlinewidth\": 0, \"ticks\": \"\"}, \"colorscale\": [[0.0, \"#0d0887\"], [0.1111111111111111, \"#46039f\"], [0.2222222222222222, \"#7201a8\"], [0.3333333333333333, \"#9c179e\"], [0.4444444444444444, \"#bd3786\"], [0.5555555555555556, \"#d8576b\"], [0.6666666666666666, \"#ed7953\"], [0.7777777777777778, \"#fb9f3a\"], [0.8888888888888888, \"#fdca26\"], [1.0, \"#f0f921\"]], \"type\": \"contour\"}], \"contourcarpet\": [{\"colorbar\": {\"outlinewidth\": 0, \"ticks\": \"\"}, \"type\": \"contourcarpet\"}], \"heatmap\": [{\"colorbar\": {\"outlinewidth\": 0, \"ticks\": \"\"}, \"colorscale\": [[0.0, \"#0d0887\"], [0.1111111111111111, \"#46039f\"], [0.2222222222222222, \"#7201a8\"], [0.3333333333333333, \"#9c179e\"], [0.4444444444444444, \"#bd3786\"], [0.5555555555555556, \"#d8576b\"], [0.6666666666666666, \"#ed7953\"], [0.7777777777777778, \"#fb9f3a\"], [0.8888888888888888, \"#fdca26\"], [1.0, \"#f0f921\"]], \"type\": \"heatmap\"}], \"heatmapgl\": [{\"colorbar\": {\"outlinewidth\": 0, \"ticks\": \"\"}, \"colorscale\": [[0.0, \"#0d0887\"], [0.1111111111111111, \"#46039f\"], [0.2222222222222222, \"#7201a8\"], [0.3333333333333333, \"#9c179e\"], [0.4444444444444444, \"#bd3786\"], [0.5555555555555556, \"#d8576b\"], [0.6666666666666666, \"#ed7953\"], [0.7777777777777778, \"#fb9f3a\"], [0.8888888888888888, \"#fdca26\"], [1.0, \"#f0f921\"]], \"type\": \"heatmapgl\"}], \"histogram\": [{\"marker\": {\"colorbar\": {\"outlinewidth\": 0, \"ticks\": \"\"}}, \"type\": \"histogram\"}], \"histogram2d\": [{\"colorbar\": {\"outlinewidth\": 0, \"ticks\": \"\"}, \"colorscale\": [[0.0, \"#0d0887\"], [0.1111111111111111, \"#46039f\"], [0.2222222222222222, \"#7201a8\"], [0.3333333333333333, \"#9c179e\"], [0.4444444444444444, \"#bd3786\"], [0.5555555555555556, \"#d8576b\"], [0.6666666666666666, \"#ed7953\"], [0.7777777777777778, \"#fb9f3a\"], [0.8888888888888888, \"#fdca26\"], [1.0, \"#f0f921\"]], \"type\": \"histogram2d\"}], \"histogram2dcontour\": [{\"colorbar\": {\"outlinewidth\": 0, \"ticks\": \"\"}, \"colorscale\": [[0.0, \"#0d0887\"], [0.1111111111111111, \"#46039f\"], [0.2222222222222222, \"#7201a8\"], [0.3333333333333333, \"#9c179e\"], [0.4444444444444444, \"#bd3786\"], [0.5555555555555556, \"#d8576b\"], [0.6666666666666666, \"#ed7953\"], [0.7777777777777778, \"#fb9f3a\"], [0.8888888888888888, \"#fdca26\"], [1.0, \"#f0f921\"]], \"type\": \"histogram2dcontour\"}], \"mesh3d\": [{\"colorbar\": {\"outlinewidth\": 0, \"ticks\": \"\"}, \"type\": \"mesh3d\"}], \"parcoords\": [{\"line\": {\"colorbar\": {\"outlinewidth\": 0, \"ticks\": \"\"}}, \"type\": \"parcoords\"}], \"pie\": [{\"automargin\": true, \"type\": \"pie\"}], \"scatter\": [{\"marker\": {\"colorbar\": {\"outlinewidth\": 0, \"ticks\": \"\"}}, \"type\": \"scatter\"}], \"scatter3d\": [{\"line\": {\"colorbar\": {\"outlinewidth\": 0, \"ticks\": \"\"}}, \"marker\": {\"colorbar\": {\"outlinewidth\": 0, \"ticks\": \"\"}}, \"type\": \"scatter3d\"}], \"scattercarpet\": [{\"marker\": {\"colorbar\": {\"outlinewidth\": 0, \"ticks\": \"\"}}, \"type\": \"scattercarpet\"}], \"scattergeo\": [{\"marker\": {\"colorbar\": {\"outlinewidth\": 0, \"ticks\": \"\"}}, \"type\": \"scattergeo\"}], \"scattergl\": [{\"marker\": {\"colorbar\": {\"outlinewidth\": 0, \"ticks\": \"\"}}, \"type\": \"scattergl\"}], \"scattermapbox\": [{\"marker\": {\"colorbar\": {\"outlinewidth\": 0, \"ticks\": \"\"}}, \"type\": \"scattermapbox\"}], \"scatterpolar\": [{\"marker\": {\"colorbar\": {\"outlinewidth\": 0, \"ticks\": \"\"}}, \"type\": \"scatterpolar\"}], \"scatterpolargl\": [{\"marker\": {\"colorbar\": {\"outlinewidth\": 0, \"ticks\": \"\"}}, \"type\": \"scatterpolargl\"}], \"scatterternary\": [{\"marker\": {\"colorbar\": {\"outlinewidth\": 0, \"ticks\": \"\"}}, \"type\": \"scatterternary\"}], \"surface\": [{\"colorbar\": {\"outlinewidth\": 0, \"ticks\": \"\"}, \"colorscale\": [[0.0, \"#0d0887\"], [0.1111111111111111, \"#46039f\"], [0.2222222222222222, \"#7201a8\"], [0.3333333333333333, \"#9c179e\"], [0.4444444444444444, \"#bd3786\"], [0.5555555555555556, \"#d8576b\"], [0.6666666666666666, \"#ed7953\"], [0.7777777777777778, \"#fb9f3a\"], [0.8888888888888888, \"#fdca26\"], [1.0, \"#f0f921\"]], \"type\": \"surface\"}], \"table\": [{\"cells\": {\"fill\": {\"color\": \"#EBF0F8\"}, \"line\": {\"color\": \"white\"}}, \"header\": {\"fill\": {\"color\": \"#C8D4E3\"}, \"line\": {\"color\": \"white\"}}, \"type\": \"table\"}]}, \"layout\": {\"annotationdefaults\": {\"arrowcolor\": \"#2a3f5f\", \"arrowhead\": 0, \"arrowwidth\": 1}, \"autotypenumbers\": \"strict\", \"coloraxis\": {\"colorbar\": {\"outlinewidth\": 0, \"ticks\": \"\"}}, \"colorscale\": {\"diverging\": [[0, \"#8e0152\"], [0.1, \"#c51b7d\"], [0.2, \"#de77ae\"], [0.3, \"#f1b6da\"], [0.4, \"#fde0ef\"], [0.5, \"#f7f7f7\"], [0.6, \"#e6f5d0\"], [0.7, \"#b8e186\"], [0.8, \"#7fbc41\"], [0.9, \"#4d9221\"], [1, \"#276419\"]], \"sequential\": [[0.0, \"#0d0887\"], [0.1111111111111111, \"#46039f\"], [0.2222222222222222, \"#7201a8\"], [0.3333333333333333, \"#9c179e\"], [0.4444444444444444, \"#bd3786\"], [0.5555555555555556, \"#d8576b\"], [0.6666666666666666, \"#ed7953\"], [0.7777777777777778, \"#fb9f3a\"], [0.8888888888888888, \"#fdca26\"], [1.0, \"#f0f921\"]], \"sequentialminus\": [[0.0, \"#0d0887\"], [0.1111111111111111, \"#46039f\"], [0.2222222222222222, \"#7201a8\"], [0.3333333333333333, \"#9c179e\"], [0.4444444444444444, \"#bd3786\"], [0.5555555555555556, \"#d8576b\"], [0.6666666666666666, \"#ed7953\"], [0.7777777777777778, \"#fb9f3a\"], [0.8888888888888888, \"#fdca26\"], [1.0, \"#f0f921\"]]}, \"colorway\": [\"#636efa\", \"#EF553B\", \"#00cc96\", \"#ab63fa\", \"#FFA15A\", \"#19d3f3\", \"#FF6692\", \"#B6E880\", \"#FF97FF\", \"#FECB52\"], \"font\": {\"color\": \"#2a3f5f\"}, \"geo\": {\"bgcolor\": \"white\", \"lakecolor\": \"white\", \"landcolor\": \"#E5ECF6\", \"showlakes\": true, \"showland\": true, \"subunitcolor\": \"white\"}, \"hoverlabel\": {\"align\": \"left\"}, \"hovermode\": \"closest\", \"mapbox\": {\"style\": \"light\"}, \"paper_bgcolor\": \"white\", \"plot_bgcolor\": \"#E5ECF6\", \"polar\": {\"angularaxis\": {\"gridcolor\": \"white\", \"linecolor\": \"white\", \"ticks\": \"\"}, \"bgcolor\": \"#E5ECF6\", \"radialaxis\": {\"gridcolor\": \"white\", \"linecolor\": \"white\", \"ticks\": \"\"}}, \"scene\": {\"xaxis\": {\"backgroundcolor\": \"#E5ECF6\", \"gridcolor\": \"white\", \"gridwidth\": 2, \"linecolor\": \"white\", \"showbackground\": true, \"ticks\": \"\", \"zerolinecolor\": \"white\"}, \"yaxis\": {\"backgroundcolor\": \"#E5ECF6\", \"gridcolor\": \"white\", \"gridwidth\": 2, \"linecolor\": \"white\", \"showbackground\": true, \"ticks\": \"\", \"zerolinecolor\": \"white\"}, \"zaxis\": {\"backgroundcolor\": \"#E5ECF6\", \"gridcolor\": \"white\", \"gridwidth\": 2, \"linecolor\": \"white\", \"showbackground\": true, \"ticks\": \"\", \"zerolinecolor\": \"white\"}}, \"shapedefaults\": {\"line\": {\"color\": \"#2a3f5f\"}}, \"ternary\": {\"aaxis\": {\"gridcolor\": \"white\", \"linecolor\": \"white\", \"ticks\": \"\"}, \"baxis\": {\"gridcolor\": \"white\", \"linecolor\": \"white\", \"ticks\": \"\"}, \"bgcolor\": \"#E5ECF6\", \"caxis\": {\"gridcolor\": \"white\", \"linecolor\": \"white\", \"ticks\": \"\"}}, \"title\": {\"x\": 0.05}, \"xaxis\": {\"automargin\": true, \"gridcolor\": \"white\", \"linecolor\": \"white\", \"ticks\": \"\", \"title\": {\"standoff\": 15}, \"zerolinecolor\": \"white\", \"zerolinewidth\": 2}, \"yaxis\": {\"automargin\": true, \"gridcolor\": \"white\", \"linecolor\": \"white\", \"ticks\": \"\", \"title\": {\"standoff\": 15}, \"zerolinecolor\": \"white\", \"zerolinewidth\": 2}}}, \"title\": {\"text\": \"State fraction of wildfires\"}},                        {\"responsive\": true}                    ).then(function(){\n",
       "                            \n",
       "var gd = document.getElementById('75f79c3f-517f-41af-9e37-97b5b5f9b9ba');\n",
       "var x = new MutationObserver(function (mutations, observer) {{\n",
       "        var display = window.getComputedStyle(gd).display;\n",
       "        if (!display || display === 'none') {{\n",
       "            console.log([gd, 'removed!']);\n",
       "            Plotly.purge(gd);\n",
       "            observer.disconnect();\n",
       "        }}\n",
       "}});\n",
       "\n",
       "// Listen for the removal of the full notebook cells\n",
       "var notebookContainer = gd.closest('#notebook-container');\n",
       "if (notebookContainer) {{\n",
       "    x.observe(notebookContainer, {childList: true});\n",
       "}}\n",
       "\n",
       "// Listen for the clearing of the current output cell\n",
       "var outputEl = gd.closest('.output');\n",
       "if (outputEl) {{\n",
       "    x.observe(outputEl, {childList: true});\n",
       "}}\n",
       "\n",
       "                        })                };                });            </script>        </div>"
      ]
     },
     "metadata": {},
     "output_type": "display_data"
    }
   ],
   "source": [
    "wildCountPlot = dfWild.groupby(['STATE'])['FIRE_SIZE'].mean()\n",
    "wildCountPlot = pd.DataFrame(wildCountPlot).reset_index()\n",
    "wildCountPlot = wildCountPlot[wildCountPlot.STATE != 'AK']\n",
    "fig = px.choropleth(wildCountPlot,  # Input Pandas DataFrame\n",
    "                    locations=\"STATE\",  # DataFrame column with locations\n",
    "                    color=\"FIRE_SIZE\",  # DataFrame column with color values\n",
    "                    hover_name=\"STATE\", # DataFrame column hover info\n",
    "                    locationmode = 'USA-states') # Set to plot as US States\n",
    "fig.update_layout(\n",
    "    title_text = 'State fraction of wildfires', # Create a Title\n",
    "    geo_scope='usa',  # Plot only the USA instead of globe\n",
    ")\n",
    "fig.show()  # Output"
   ]
  },
  {
   "cell_type": "code",
   "execution_count": 137,
   "metadata": {},
   "outputs": [
    {
     "data": {
      "application/vnd.plotly.v1+json": {
       "config": {
        "plotlyServerURL": "https://plot.ly"
       },
       "data": [
        {
         "coloraxis": "coloraxis",
         "geo": "geo",
         "hovertemplate": "<b>%{hovertext}</b><br><br>STATE=%{location}<br>PALMZ=%{z}<extra></extra>",
         "hovertext": [
          "AL",
          "AR",
          "AZ",
          "CA",
          "CO",
          "CT",
          "DE",
          "FL",
          "GA",
          "IA",
          "ID",
          "IL",
          "IN",
          "KS",
          "KY",
          "LA",
          "MA",
          "MD",
          "ME",
          "MI",
          "MN",
          "MO",
          "MS",
          "MT",
          "NC",
          "ND",
          "NE",
          "NH",
          "NJ",
          "NM",
          "NV",
          "NY",
          "OH",
          "OK",
          "OR",
          "PA",
          "RI",
          "SC",
          "SD",
          "TN",
          "TX",
          "UT",
          "VA",
          "VT",
          "WA",
          "WI",
          "WV",
          "WY"
         ],
         "locationmode": "USA-states",
         "locations": [
          "AL",
          "AR",
          "AZ",
          "CA",
          "CO",
          "CT",
          "DE",
          "FL",
          "GA",
          "IA",
          "ID",
          "IL",
          "IN",
          "KS",
          "KY",
          "LA",
          "MA",
          "MD",
          "ME",
          "MI",
          "MN",
          "MO",
          "MS",
          "MT",
          "NC",
          "ND",
          "NE",
          "NH",
          "NJ",
          "NM",
          "NV",
          "NY",
          "OH",
          "OK",
          "OR",
          "PA",
          "RI",
          "SC",
          "SD",
          "TN",
          "TX",
          "UT",
          "VA",
          "VT",
          "WA",
          "WI",
          "WV",
          "WY"
         ],
         "name": "",
         "type": "choropleth",
         "z": [
          -0.7263035526515783,
          -0.7831252390627615,
          -0.48000001995599656,
          -0.461952481440832,
          -0.4038301958602326,
          -0.6917195873526215,
          -0.18795321637426912,
          -0.7065278311942603,
          -0.7700069811680054,
          0.17898054077298797,
          -0.6147983268842183,
          -0.05656543952633254,
          -0.3234053596017367,
          -0.4760948202209808,
          -0.46968418915423177,
          -0.9388453151781853,
          -1.635327494287919,
          -0.94738783821091,
          -0.4324808618504478,
          -0.15484679108741453,
          -0.020680257420166402,
          -0.2708413635603977,
          -0.6690515587529688,
          -0.6132033612620523,
          -0.6865998701438752,
          -0.04090608074029865,
          -0.1527422237551696,
          -0.4448796900489397,
          -0.7856099785476807,
          -0.6918044252628296,
          -0.6270511913187062,
          -0.09620699888710353,
          -0.1493641851106582,
          -0.43013388119267654,
          -0.5185012513823438,
          -0.6178900367309396,
          -0.576062499999999,
          -0.8326622745759331,
          -0.08473109481926269,
          -0.7499434262051387,
          -0.8853600312630927,
          -0.564294920376619,
          -0.777223850745849,
          -0.6044371345029274,
          -0.45651824665061824,
          -0.07237793331450441,
          -0.6405927831141064,
          -0.7996200056473242
         ]
        }
       ],
       "layout": {
        "coloraxis": {
         "colorbar": {
          "title": {
           "text": "PALMZ"
          }
         },
         "colorscale": [
          [
           0,
           "#0d0887"
          ],
          [
           0.1111111111111111,
           "#46039f"
          ],
          [
           0.2222222222222222,
           "#7201a8"
          ],
          [
           0.3333333333333333,
           "#9c179e"
          ],
          [
           0.4444444444444444,
           "#bd3786"
          ],
          [
           0.5555555555555556,
           "#d8576b"
          ],
          [
           0.6666666666666666,
           "#ed7953"
          ],
          [
           0.7777777777777778,
           "#fb9f3a"
          ],
          [
           0.8888888888888888,
           "#fdca26"
          ],
          [
           1,
           "#f0f921"
          ]
         ]
        },
        "geo": {
         "center": {},
         "domain": {
          "x": [
           0,
           1
          ],
          "y": [
           0,
           1
          ]
         },
         "scope": "usa"
        },
        "legend": {
         "tracegroupgap": 0
        },
        "margin": {
         "t": 60
        },
        "template": {
         "data": {
          "bar": [
           {
            "error_x": {
             "color": "#2a3f5f"
            },
            "error_y": {
             "color": "#2a3f5f"
            },
            "marker": {
             "line": {
              "color": "#E5ECF6",
              "width": 0.5
             }
            },
            "type": "bar"
           }
          ],
          "barpolar": [
           {
            "marker": {
             "line": {
              "color": "#E5ECF6",
              "width": 0.5
             }
            },
            "type": "barpolar"
           }
          ],
          "carpet": [
           {
            "aaxis": {
             "endlinecolor": "#2a3f5f",
             "gridcolor": "white",
             "linecolor": "white",
             "minorgridcolor": "white",
             "startlinecolor": "#2a3f5f"
            },
            "baxis": {
             "endlinecolor": "#2a3f5f",
             "gridcolor": "white",
             "linecolor": "white",
             "minorgridcolor": "white",
             "startlinecolor": "#2a3f5f"
            },
            "type": "carpet"
           }
          ],
          "choropleth": [
           {
            "colorbar": {
             "outlinewidth": 0,
             "ticks": ""
            },
            "type": "choropleth"
           }
          ],
          "contour": [
           {
            "colorbar": {
             "outlinewidth": 0,
             "ticks": ""
            },
            "colorscale": [
             [
              0,
              "#0d0887"
             ],
             [
              0.1111111111111111,
              "#46039f"
             ],
             [
              0.2222222222222222,
              "#7201a8"
             ],
             [
              0.3333333333333333,
              "#9c179e"
             ],
             [
              0.4444444444444444,
              "#bd3786"
             ],
             [
              0.5555555555555556,
              "#d8576b"
             ],
             [
              0.6666666666666666,
              "#ed7953"
             ],
             [
              0.7777777777777778,
              "#fb9f3a"
             ],
             [
              0.8888888888888888,
              "#fdca26"
             ],
             [
              1,
              "#f0f921"
             ]
            ],
            "type": "contour"
           }
          ],
          "contourcarpet": [
           {
            "colorbar": {
             "outlinewidth": 0,
             "ticks": ""
            },
            "type": "contourcarpet"
           }
          ],
          "heatmap": [
           {
            "colorbar": {
             "outlinewidth": 0,
             "ticks": ""
            },
            "colorscale": [
             [
              0,
              "#0d0887"
             ],
             [
              0.1111111111111111,
              "#46039f"
             ],
             [
              0.2222222222222222,
              "#7201a8"
             ],
             [
              0.3333333333333333,
              "#9c179e"
             ],
             [
              0.4444444444444444,
              "#bd3786"
             ],
             [
              0.5555555555555556,
              "#d8576b"
             ],
             [
              0.6666666666666666,
              "#ed7953"
             ],
             [
              0.7777777777777778,
              "#fb9f3a"
             ],
             [
              0.8888888888888888,
              "#fdca26"
             ],
             [
              1,
              "#f0f921"
             ]
            ],
            "type": "heatmap"
           }
          ],
          "heatmapgl": [
           {
            "colorbar": {
             "outlinewidth": 0,
             "ticks": ""
            },
            "colorscale": [
             [
              0,
              "#0d0887"
             ],
             [
              0.1111111111111111,
              "#46039f"
             ],
             [
              0.2222222222222222,
              "#7201a8"
             ],
             [
              0.3333333333333333,
              "#9c179e"
             ],
             [
              0.4444444444444444,
              "#bd3786"
             ],
             [
              0.5555555555555556,
              "#d8576b"
             ],
             [
              0.6666666666666666,
              "#ed7953"
             ],
             [
              0.7777777777777778,
              "#fb9f3a"
             ],
             [
              0.8888888888888888,
              "#fdca26"
             ],
             [
              1,
              "#f0f921"
             ]
            ],
            "type": "heatmapgl"
           }
          ],
          "histogram": [
           {
            "marker": {
             "colorbar": {
              "outlinewidth": 0,
              "ticks": ""
             }
            },
            "type": "histogram"
           }
          ],
          "histogram2d": [
           {
            "colorbar": {
             "outlinewidth": 0,
             "ticks": ""
            },
            "colorscale": [
             [
              0,
              "#0d0887"
             ],
             [
              0.1111111111111111,
              "#46039f"
             ],
             [
              0.2222222222222222,
              "#7201a8"
             ],
             [
              0.3333333333333333,
              "#9c179e"
             ],
             [
              0.4444444444444444,
              "#bd3786"
             ],
             [
              0.5555555555555556,
              "#d8576b"
             ],
             [
              0.6666666666666666,
              "#ed7953"
             ],
             [
              0.7777777777777778,
              "#fb9f3a"
             ],
             [
              0.8888888888888888,
              "#fdca26"
             ],
             [
              1,
              "#f0f921"
             ]
            ],
            "type": "histogram2d"
           }
          ],
          "histogram2dcontour": [
           {
            "colorbar": {
             "outlinewidth": 0,
             "ticks": ""
            },
            "colorscale": [
             [
              0,
              "#0d0887"
             ],
             [
              0.1111111111111111,
              "#46039f"
             ],
             [
              0.2222222222222222,
              "#7201a8"
             ],
             [
              0.3333333333333333,
              "#9c179e"
             ],
             [
              0.4444444444444444,
              "#bd3786"
             ],
             [
              0.5555555555555556,
              "#d8576b"
             ],
             [
              0.6666666666666666,
              "#ed7953"
             ],
             [
              0.7777777777777778,
              "#fb9f3a"
             ],
             [
              0.8888888888888888,
              "#fdca26"
             ],
             [
              1,
              "#f0f921"
             ]
            ],
            "type": "histogram2dcontour"
           }
          ],
          "mesh3d": [
           {
            "colorbar": {
             "outlinewidth": 0,
             "ticks": ""
            },
            "type": "mesh3d"
           }
          ],
          "parcoords": [
           {
            "line": {
             "colorbar": {
              "outlinewidth": 0,
              "ticks": ""
             }
            },
            "type": "parcoords"
           }
          ],
          "pie": [
           {
            "automargin": true,
            "type": "pie"
           }
          ],
          "scatter": [
           {
            "marker": {
             "colorbar": {
              "outlinewidth": 0,
              "ticks": ""
             }
            },
            "type": "scatter"
           }
          ],
          "scatter3d": [
           {
            "line": {
             "colorbar": {
              "outlinewidth": 0,
              "ticks": ""
             }
            },
            "marker": {
             "colorbar": {
              "outlinewidth": 0,
              "ticks": ""
             }
            },
            "type": "scatter3d"
           }
          ],
          "scattercarpet": [
           {
            "marker": {
             "colorbar": {
              "outlinewidth": 0,
              "ticks": ""
             }
            },
            "type": "scattercarpet"
           }
          ],
          "scattergeo": [
           {
            "marker": {
             "colorbar": {
              "outlinewidth": 0,
              "ticks": ""
             }
            },
            "type": "scattergeo"
           }
          ],
          "scattergl": [
           {
            "marker": {
             "colorbar": {
              "outlinewidth": 0,
              "ticks": ""
             }
            },
            "type": "scattergl"
           }
          ],
          "scattermapbox": [
           {
            "marker": {
             "colorbar": {
              "outlinewidth": 0,
              "ticks": ""
             }
            },
            "type": "scattermapbox"
           }
          ],
          "scatterpolar": [
           {
            "marker": {
             "colorbar": {
              "outlinewidth": 0,
              "ticks": ""
             }
            },
            "type": "scatterpolar"
           }
          ],
          "scatterpolargl": [
           {
            "marker": {
             "colorbar": {
              "outlinewidth": 0,
              "ticks": ""
             }
            },
            "type": "scatterpolargl"
           }
          ],
          "scatterternary": [
           {
            "marker": {
             "colorbar": {
              "outlinewidth": 0,
              "ticks": ""
             }
            },
            "type": "scatterternary"
           }
          ],
          "surface": [
           {
            "colorbar": {
             "outlinewidth": 0,
             "ticks": ""
            },
            "colorscale": [
             [
              0,
              "#0d0887"
             ],
             [
              0.1111111111111111,
              "#46039f"
             ],
             [
              0.2222222222222222,
              "#7201a8"
             ],
             [
              0.3333333333333333,
              "#9c179e"
             ],
             [
              0.4444444444444444,
              "#bd3786"
             ],
             [
              0.5555555555555556,
              "#d8576b"
             ],
             [
              0.6666666666666666,
              "#ed7953"
             ],
             [
              0.7777777777777778,
              "#fb9f3a"
             ],
             [
              0.8888888888888888,
              "#fdca26"
             ],
             [
              1,
              "#f0f921"
             ]
            ],
            "type": "surface"
           }
          ],
          "table": [
           {
            "cells": {
             "fill": {
              "color": "#EBF0F8"
             },
             "line": {
              "color": "white"
             }
            },
            "header": {
             "fill": {
              "color": "#C8D4E3"
             },
             "line": {
              "color": "white"
             }
            },
            "type": "table"
           }
          ]
         },
         "layout": {
          "annotationdefaults": {
           "arrowcolor": "#2a3f5f",
           "arrowhead": 0,
           "arrowwidth": 1
          },
          "autotypenumbers": "strict",
          "coloraxis": {
           "colorbar": {
            "outlinewidth": 0,
            "ticks": ""
           }
          },
          "colorscale": {
           "diverging": [
            [
             0,
             "#8e0152"
            ],
            [
             0.1,
             "#c51b7d"
            ],
            [
             0.2,
             "#de77ae"
            ],
            [
             0.3,
             "#f1b6da"
            ],
            [
             0.4,
             "#fde0ef"
            ],
            [
             0.5,
             "#f7f7f7"
            ],
            [
             0.6,
             "#e6f5d0"
            ],
            [
             0.7,
             "#b8e186"
            ],
            [
             0.8,
             "#7fbc41"
            ],
            [
             0.9,
             "#4d9221"
            ],
            [
             1,
             "#276419"
            ]
           ],
           "sequential": [
            [
             0,
             "#0d0887"
            ],
            [
             0.1111111111111111,
             "#46039f"
            ],
            [
             0.2222222222222222,
             "#7201a8"
            ],
            [
             0.3333333333333333,
             "#9c179e"
            ],
            [
             0.4444444444444444,
             "#bd3786"
            ],
            [
             0.5555555555555556,
             "#d8576b"
            ],
            [
             0.6666666666666666,
             "#ed7953"
            ],
            [
             0.7777777777777778,
             "#fb9f3a"
            ],
            [
             0.8888888888888888,
             "#fdca26"
            ],
            [
             1,
             "#f0f921"
            ]
           ],
           "sequentialminus": [
            [
             0,
             "#0d0887"
            ],
            [
             0.1111111111111111,
             "#46039f"
            ],
            [
             0.2222222222222222,
             "#7201a8"
            ],
            [
             0.3333333333333333,
             "#9c179e"
            ],
            [
             0.4444444444444444,
             "#bd3786"
            ],
            [
             0.5555555555555556,
             "#d8576b"
            ],
            [
             0.6666666666666666,
             "#ed7953"
            ],
            [
             0.7777777777777778,
             "#fb9f3a"
            ],
            [
             0.8888888888888888,
             "#fdca26"
            ],
            [
             1,
             "#f0f921"
            ]
           ]
          },
          "colorway": [
           "#636efa",
           "#EF553B",
           "#00cc96",
           "#ab63fa",
           "#FFA15A",
           "#19d3f3",
           "#FF6692",
           "#B6E880",
           "#FF97FF",
           "#FECB52"
          ],
          "font": {
           "color": "#2a3f5f"
          },
          "geo": {
           "bgcolor": "white",
           "lakecolor": "white",
           "landcolor": "#E5ECF6",
           "showlakes": true,
           "showland": true,
           "subunitcolor": "white"
          },
          "hoverlabel": {
           "align": "left"
          },
          "hovermode": "closest",
          "mapbox": {
           "style": "light"
          },
          "paper_bgcolor": "white",
          "plot_bgcolor": "#E5ECF6",
          "polar": {
           "angularaxis": {
            "gridcolor": "white",
            "linecolor": "white",
            "ticks": ""
           },
           "bgcolor": "#E5ECF6",
           "radialaxis": {
            "gridcolor": "white",
            "linecolor": "white",
            "ticks": ""
           }
          },
          "scene": {
           "xaxis": {
            "backgroundcolor": "#E5ECF6",
            "gridcolor": "white",
            "gridwidth": 2,
            "linecolor": "white",
            "showbackground": true,
            "ticks": "",
            "zerolinecolor": "white"
           },
           "yaxis": {
            "backgroundcolor": "#E5ECF6",
            "gridcolor": "white",
            "gridwidth": 2,
            "linecolor": "white",
            "showbackground": true,
            "ticks": "",
            "zerolinecolor": "white"
           },
           "zaxis": {
            "backgroundcolor": "#E5ECF6",
            "gridcolor": "white",
            "gridwidth": 2,
            "linecolor": "white",
            "showbackground": true,
            "ticks": "",
            "zerolinecolor": "white"
           }
          },
          "shapedefaults": {
           "line": {
            "color": "#2a3f5f"
           }
          },
          "ternary": {
           "aaxis": {
            "gridcolor": "white",
            "linecolor": "white",
            "ticks": ""
           },
           "baxis": {
            "gridcolor": "white",
            "linecolor": "white",
            "ticks": ""
           },
           "bgcolor": "#E5ECF6",
           "caxis": {
            "gridcolor": "white",
            "linecolor": "white",
            "ticks": ""
           }
          },
          "title": {
           "x": 0.05
          },
          "xaxis": {
           "automargin": true,
           "gridcolor": "white",
           "linecolor": "white",
           "ticks": "",
           "title": {
            "standoff": 15
           },
           "zerolinecolor": "white",
           "zerolinewidth": 2
          },
          "yaxis": {
           "automargin": true,
           "gridcolor": "white",
           "linecolor": "white",
           "ticks": "",
           "title": {
            "standoff": 15
           },
           "zerolinecolor": "white",
           "zerolinewidth": 2
          }
         }
        },
        "title": {
         "text": "State fraction of wildfires"
        }
       }
      },
      "text/html": [
       "<div>                            <div id=\"2048798a-6f6e-4111-bf4a-02476df3ffce\" class=\"plotly-graph-div\" style=\"height:525px; width:100%;\"></div>            <script type=\"text/javascript\">                require([\"plotly\"], function(Plotly) {                    window.PLOTLYENV=window.PLOTLYENV || {};                                    if (document.getElementById(\"2048798a-6f6e-4111-bf4a-02476df3ffce\")) {                    Plotly.newPlot(                        \"2048798a-6f6e-4111-bf4a-02476df3ffce\",                        [{\"coloraxis\": \"coloraxis\", \"geo\": \"geo\", \"hovertemplate\": \"<b>%{hovertext}</b><br><br>STATE=%{location}<br>PALMZ=%{z}<extra></extra>\", \"hovertext\": [\"AL\", \"AR\", \"AZ\", \"CA\", \"CO\", \"CT\", \"DE\", \"FL\", \"GA\", \"IA\", \"ID\", \"IL\", \"IN\", \"KS\", \"KY\", \"LA\", \"MA\", \"MD\", \"ME\", \"MI\", \"MN\", \"MO\", \"MS\", \"MT\", \"NC\", \"ND\", \"NE\", \"NH\", \"NJ\", \"NM\", \"NV\", \"NY\", \"OH\", \"OK\", \"OR\", \"PA\", \"RI\", \"SC\", \"SD\", \"TN\", \"TX\", \"UT\", \"VA\", \"VT\", \"WA\", \"WI\", \"WV\", \"WY\"], \"locationmode\": \"USA-states\", \"locations\": [\"AL\", \"AR\", \"AZ\", \"CA\", \"CO\", \"CT\", \"DE\", \"FL\", \"GA\", \"IA\", \"ID\", \"IL\", \"IN\", \"KS\", \"KY\", \"LA\", \"MA\", \"MD\", \"ME\", \"MI\", \"MN\", \"MO\", \"MS\", \"MT\", \"NC\", \"ND\", \"NE\", \"NH\", \"NJ\", \"NM\", \"NV\", \"NY\", \"OH\", \"OK\", \"OR\", \"PA\", \"RI\", \"SC\", \"SD\", \"TN\", \"TX\", \"UT\", \"VA\", \"VT\", \"WA\", \"WI\", \"WV\", \"WY\"], \"name\": \"\", \"type\": \"choropleth\", \"z\": [-0.7263035526515783, -0.7831252390627615, -0.48000001995599656, -0.461952481440832, -0.4038301958602326, -0.6917195873526215, -0.18795321637426912, -0.7065278311942603, -0.7700069811680054, 0.17898054077298797, -0.6147983268842183, -0.05656543952633254, -0.3234053596017367, -0.4760948202209808, -0.46968418915423177, -0.9388453151781853, -1.635327494287919, -0.94738783821091, -0.4324808618504478, -0.15484679108741453, -0.020680257420166402, -0.2708413635603977, -0.6690515587529688, -0.6132033612620523, -0.6865998701438752, -0.04090608074029865, -0.1527422237551696, -0.4448796900489397, -0.7856099785476807, -0.6918044252628296, -0.6270511913187062, -0.09620699888710353, -0.1493641851106582, -0.43013388119267654, -0.5185012513823438, -0.6178900367309396, -0.576062499999999, -0.8326622745759331, -0.08473109481926269, -0.7499434262051387, -0.8853600312630927, -0.564294920376619, -0.777223850745849, -0.6044371345029274, -0.45651824665061824, -0.07237793331450441, -0.6405927831141064, -0.7996200056473242]}],                        {\"coloraxis\": {\"colorbar\": {\"title\": {\"text\": \"PALMZ\"}}, \"colorscale\": [[0.0, \"#0d0887\"], [0.1111111111111111, \"#46039f\"], [0.2222222222222222, \"#7201a8\"], [0.3333333333333333, \"#9c179e\"], [0.4444444444444444, \"#bd3786\"], [0.5555555555555556, \"#d8576b\"], [0.6666666666666666, \"#ed7953\"], [0.7777777777777778, \"#fb9f3a\"], [0.8888888888888888, \"#fdca26\"], [1.0, \"#f0f921\"]]}, \"geo\": {\"center\": {}, \"domain\": {\"x\": [0.0, 1.0], \"y\": [0.0, 1.0]}, \"scope\": \"usa\"}, \"legend\": {\"tracegroupgap\": 0}, \"margin\": {\"t\": 60}, \"template\": {\"data\": {\"bar\": [{\"error_x\": {\"color\": \"#2a3f5f\"}, \"error_y\": {\"color\": \"#2a3f5f\"}, \"marker\": {\"line\": {\"color\": \"#E5ECF6\", \"width\": 0.5}}, \"type\": \"bar\"}], \"barpolar\": [{\"marker\": {\"line\": {\"color\": \"#E5ECF6\", \"width\": 0.5}}, \"type\": \"barpolar\"}], \"carpet\": [{\"aaxis\": {\"endlinecolor\": \"#2a3f5f\", \"gridcolor\": \"white\", \"linecolor\": \"white\", \"minorgridcolor\": \"white\", \"startlinecolor\": \"#2a3f5f\"}, \"baxis\": {\"endlinecolor\": \"#2a3f5f\", \"gridcolor\": \"white\", \"linecolor\": \"white\", \"minorgridcolor\": \"white\", \"startlinecolor\": \"#2a3f5f\"}, \"type\": \"carpet\"}], \"choropleth\": [{\"colorbar\": {\"outlinewidth\": 0, \"ticks\": \"\"}, \"type\": \"choropleth\"}], \"contour\": [{\"colorbar\": {\"outlinewidth\": 0, \"ticks\": \"\"}, \"colorscale\": [[0.0, \"#0d0887\"], [0.1111111111111111, \"#46039f\"], [0.2222222222222222, \"#7201a8\"], [0.3333333333333333, \"#9c179e\"], [0.4444444444444444, \"#bd3786\"], [0.5555555555555556, \"#d8576b\"], [0.6666666666666666, \"#ed7953\"], [0.7777777777777778, \"#fb9f3a\"], [0.8888888888888888, \"#fdca26\"], [1.0, \"#f0f921\"]], \"type\": \"contour\"}], \"contourcarpet\": [{\"colorbar\": {\"outlinewidth\": 0, \"ticks\": \"\"}, \"type\": \"contourcarpet\"}], \"heatmap\": [{\"colorbar\": {\"outlinewidth\": 0, \"ticks\": \"\"}, \"colorscale\": [[0.0, \"#0d0887\"], [0.1111111111111111, \"#46039f\"], [0.2222222222222222, \"#7201a8\"], [0.3333333333333333, \"#9c179e\"], [0.4444444444444444, \"#bd3786\"], [0.5555555555555556, \"#d8576b\"], [0.6666666666666666, \"#ed7953\"], [0.7777777777777778, \"#fb9f3a\"], [0.8888888888888888, \"#fdca26\"], [1.0, \"#f0f921\"]], \"type\": \"heatmap\"}], \"heatmapgl\": [{\"colorbar\": {\"outlinewidth\": 0, \"ticks\": \"\"}, \"colorscale\": [[0.0, \"#0d0887\"], [0.1111111111111111, \"#46039f\"], [0.2222222222222222, \"#7201a8\"], [0.3333333333333333, \"#9c179e\"], [0.4444444444444444, \"#bd3786\"], [0.5555555555555556, \"#d8576b\"], [0.6666666666666666, \"#ed7953\"], [0.7777777777777778, \"#fb9f3a\"], [0.8888888888888888, \"#fdca26\"], [1.0, \"#f0f921\"]], \"type\": \"heatmapgl\"}], \"histogram\": [{\"marker\": {\"colorbar\": {\"outlinewidth\": 0, \"ticks\": \"\"}}, \"type\": \"histogram\"}], \"histogram2d\": [{\"colorbar\": {\"outlinewidth\": 0, \"ticks\": \"\"}, \"colorscale\": [[0.0, \"#0d0887\"], [0.1111111111111111, \"#46039f\"], [0.2222222222222222, \"#7201a8\"], [0.3333333333333333, \"#9c179e\"], [0.4444444444444444, \"#bd3786\"], [0.5555555555555556, \"#d8576b\"], [0.6666666666666666, \"#ed7953\"], [0.7777777777777778, \"#fb9f3a\"], [0.8888888888888888, \"#fdca26\"], [1.0, \"#f0f921\"]], \"type\": \"histogram2d\"}], \"histogram2dcontour\": [{\"colorbar\": {\"outlinewidth\": 0, \"ticks\": \"\"}, \"colorscale\": [[0.0, \"#0d0887\"], [0.1111111111111111, \"#46039f\"], [0.2222222222222222, \"#7201a8\"], [0.3333333333333333, \"#9c179e\"], [0.4444444444444444, \"#bd3786\"], [0.5555555555555556, \"#d8576b\"], [0.6666666666666666, \"#ed7953\"], [0.7777777777777778, \"#fb9f3a\"], [0.8888888888888888, \"#fdca26\"], [1.0, \"#f0f921\"]], \"type\": \"histogram2dcontour\"}], \"mesh3d\": [{\"colorbar\": {\"outlinewidth\": 0, \"ticks\": \"\"}, \"type\": \"mesh3d\"}], \"parcoords\": [{\"line\": {\"colorbar\": {\"outlinewidth\": 0, \"ticks\": \"\"}}, \"type\": \"parcoords\"}], \"pie\": [{\"automargin\": true, \"type\": \"pie\"}], \"scatter\": [{\"marker\": {\"colorbar\": {\"outlinewidth\": 0, \"ticks\": \"\"}}, \"type\": \"scatter\"}], \"scatter3d\": [{\"line\": {\"colorbar\": {\"outlinewidth\": 0, \"ticks\": \"\"}}, \"marker\": {\"colorbar\": {\"outlinewidth\": 0, \"ticks\": \"\"}}, \"type\": \"scatter3d\"}], \"scattercarpet\": [{\"marker\": {\"colorbar\": {\"outlinewidth\": 0, \"ticks\": \"\"}}, \"type\": \"scattercarpet\"}], \"scattergeo\": [{\"marker\": {\"colorbar\": {\"outlinewidth\": 0, \"ticks\": \"\"}}, \"type\": \"scattergeo\"}], \"scattergl\": [{\"marker\": {\"colorbar\": {\"outlinewidth\": 0, \"ticks\": \"\"}}, \"type\": \"scattergl\"}], \"scattermapbox\": [{\"marker\": {\"colorbar\": {\"outlinewidth\": 0, \"ticks\": \"\"}}, \"type\": \"scattermapbox\"}], \"scatterpolar\": [{\"marker\": {\"colorbar\": {\"outlinewidth\": 0, \"ticks\": \"\"}}, \"type\": \"scatterpolar\"}], \"scatterpolargl\": [{\"marker\": {\"colorbar\": {\"outlinewidth\": 0, \"ticks\": \"\"}}, \"type\": \"scatterpolargl\"}], \"scatterternary\": [{\"marker\": {\"colorbar\": {\"outlinewidth\": 0, \"ticks\": \"\"}}, \"type\": \"scatterternary\"}], \"surface\": [{\"colorbar\": {\"outlinewidth\": 0, \"ticks\": \"\"}, \"colorscale\": [[0.0, \"#0d0887\"], [0.1111111111111111, \"#46039f\"], [0.2222222222222222, \"#7201a8\"], [0.3333333333333333, \"#9c179e\"], [0.4444444444444444, \"#bd3786\"], [0.5555555555555556, \"#d8576b\"], [0.6666666666666666, \"#ed7953\"], [0.7777777777777778, \"#fb9f3a\"], [0.8888888888888888, \"#fdca26\"], [1.0, \"#f0f921\"]], \"type\": \"surface\"}], \"table\": [{\"cells\": {\"fill\": {\"color\": \"#EBF0F8\"}, \"line\": {\"color\": \"white\"}}, \"header\": {\"fill\": {\"color\": \"#C8D4E3\"}, \"line\": {\"color\": \"white\"}}, \"type\": \"table\"}]}, \"layout\": {\"annotationdefaults\": {\"arrowcolor\": \"#2a3f5f\", \"arrowhead\": 0, \"arrowwidth\": 1}, \"autotypenumbers\": \"strict\", \"coloraxis\": {\"colorbar\": {\"outlinewidth\": 0, \"ticks\": \"\"}}, \"colorscale\": {\"diverging\": [[0, \"#8e0152\"], [0.1, \"#c51b7d\"], [0.2, \"#de77ae\"], [0.3, \"#f1b6da\"], [0.4, \"#fde0ef\"], [0.5, \"#f7f7f7\"], [0.6, \"#e6f5d0\"], [0.7, \"#b8e186\"], [0.8, \"#7fbc41\"], [0.9, \"#4d9221\"], [1, \"#276419\"]], \"sequential\": [[0.0, \"#0d0887\"], [0.1111111111111111, \"#46039f\"], [0.2222222222222222, \"#7201a8\"], [0.3333333333333333, \"#9c179e\"], [0.4444444444444444, \"#bd3786\"], [0.5555555555555556, \"#d8576b\"], [0.6666666666666666, \"#ed7953\"], [0.7777777777777778, \"#fb9f3a\"], [0.8888888888888888, \"#fdca26\"], [1.0, \"#f0f921\"]], \"sequentialminus\": [[0.0, \"#0d0887\"], [0.1111111111111111, \"#46039f\"], [0.2222222222222222, \"#7201a8\"], [0.3333333333333333, \"#9c179e\"], [0.4444444444444444, \"#bd3786\"], [0.5555555555555556, \"#d8576b\"], [0.6666666666666666, \"#ed7953\"], [0.7777777777777778, \"#fb9f3a\"], [0.8888888888888888, \"#fdca26\"], [1.0, \"#f0f921\"]]}, \"colorway\": [\"#636efa\", \"#EF553B\", \"#00cc96\", \"#ab63fa\", \"#FFA15A\", \"#19d3f3\", \"#FF6692\", \"#B6E880\", \"#FF97FF\", \"#FECB52\"], \"font\": {\"color\": \"#2a3f5f\"}, \"geo\": {\"bgcolor\": \"white\", \"lakecolor\": \"white\", \"landcolor\": \"#E5ECF6\", \"showlakes\": true, \"showland\": true, \"subunitcolor\": \"white\"}, \"hoverlabel\": {\"align\": \"left\"}, \"hovermode\": \"closest\", \"mapbox\": {\"style\": \"light\"}, \"paper_bgcolor\": \"white\", \"plot_bgcolor\": \"#E5ECF6\", \"polar\": {\"angularaxis\": {\"gridcolor\": \"white\", \"linecolor\": \"white\", \"ticks\": \"\"}, \"bgcolor\": \"#E5ECF6\", \"radialaxis\": {\"gridcolor\": \"white\", \"linecolor\": \"white\", \"ticks\": \"\"}}, \"scene\": {\"xaxis\": {\"backgroundcolor\": \"#E5ECF6\", \"gridcolor\": \"white\", \"gridwidth\": 2, \"linecolor\": \"white\", \"showbackground\": true, \"ticks\": \"\", \"zerolinecolor\": \"white\"}, \"yaxis\": {\"backgroundcolor\": \"#E5ECF6\", \"gridcolor\": \"white\", \"gridwidth\": 2, \"linecolor\": \"white\", \"showbackground\": true, \"ticks\": \"\", \"zerolinecolor\": \"white\"}, \"zaxis\": {\"backgroundcolor\": \"#E5ECF6\", \"gridcolor\": \"white\", \"gridwidth\": 2, \"linecolor\": \"white\", \"showbackground\": true, \"ticks\": \"\", \"zerolinecolor\": \"white\"}}, \"shapedefaults\": {\"line\": {\"color\": \"#2a3f5f\"}}, \"ternary\": {\"aaxis\": {\"gridcolor\": \"white\", \"linecolor\": \"white\", \"ticks\": \"\"}, \"baxis\": {\"gridcolor\": \"white\", \"linecolor\": \"white\", \"ticks\": \"\"}, \"bgcolor\": \"#E5ECF6\", \"caxis\": {\"gridcolor\": \"white\", \"linecolor\": \"white\", \"ticks\": \"\"}}, \"title\": {\"x\": 0.05}, \"xaxis\": {\"automargin\": true, \"gridcolor\": \"white\", \"linecolor\": \"white\", \"ticks\": \"\", \"title\": {\"standoff\": 15}, \"zerolinecolor\": \"white\", \"zerolinewidth\": 2}, \"yaxis\": {\"automargin\": true, \"gridcolor\": \"white\", \"linecolor\": \"white\", \"ticks\": \"\", \"title\": {\"standoff\": 15}, \"zerolinecolor\": \"white\", \"zerolinewidth\": 2}}}, \"title\": {\"text\": \"State fraction of wildfires\"}},                        {\"responsive\": true}                    ).then(function(){\n",
       "                            \n",
       "var gd = document.getElementById('2048798a-6f6e-4111-bf4a-02476df3ffce');\n",
       "var x = new MutationObserver(function (mutations, observer) {{\n",
       "        var display = window.getComputedStyle(gd).display;\n",
       "        if (!display || display === 'none') {{\n",
       "            console.log([gd, 'removed!']);\n",
       "            Plotly.purge(gd);\n",
       "            observer.disconnect();\n",
       "        }}\n",
       "}});\n",
       "\n",
       "// Listen for the removal of the full notebook cells\n",
       "var notebookContainer = gd.closest('#notebook-container');\n",
       "if (notebookContainer) {{\n",
       "    x.observe(notebookContainer, {childList: true});\n",
       "}}\n",
       "\n",
       "// Listen for the clearing of the current output cell\n",
       "var outputEl = gd.closest('.output');\n",
       "if (outputEl) {{\n",
       "    x.observe(outputEl, {childList: true});\n",
       "}}\n",
       "\n",
       "                        })                };                });            </script>        </div>"
      ]
     },
     "metadata": {},
     "output_type": "display_data"
    }
   ],
   "source": [
    "wildCountPlot = dfReg.groupby(['STATE'])['PALMZ'].mean()\n",
    "wildCountPlot = pd.DataFrame(wildCountPlot).reset_index()\n",
    "wildCountPlot = wildCountPlot[wildCountPlot.STATE != 'AK']\n",
    "fig = px.choropleth(wildCountPlot,  # Input Pandas DataFrame\n",
    "                    locations=\"STATE\",  # DataFrame column with locations\n",
    "                    color=\"PALMZ\", # DataFrame column with color values\n",
    "                    hover_name=\"STATE\", # DataFrame column hover info\n",
    "                    locationmode = 'USA-states') # Set to plot as US States\n",
    "fig.update_layout(\n",
    "    title_text = 'State fraction of wildfires', # Create a Title\n",
    "    geo_scope='usa',  # Plot only the USA instead of globe\n",
    ")\n",
    "fig.show()  # Output"
   ]
  },
  {
   "cell_type": "code",
   "execution_count": 48,
   "metadata": {},
   "outputs": [
    {
     "data": {
      "text/html": [
       "<div>\n",
       "<style scoped>\n",
       "    .dataframe tbody tr th:only-of-type {\n",
       "        vertical-align: middle;\n",
       "    }\n",
       "\n",
       "    .dataframe tbody tr th {\n",
       "        vertical-align: top;\n",
       "    }\n",
       "\n",
       "    .dataframe thead th {\n",
       "        text-align: right;\n",
       "    }\n",
       "</style>\n",
       "<table border=\"1\" class=\"dataframe\">\n",
       "  <thead>\n",
       "    <tr style=\"text-align: right;\">\n",
       "      <th></th>\n",
       "      <th>STATE</th>\n",
       "      <th>AK</th>\n",
       "      <th>AL</th>\n",
       "      <th>AR</th>\n",
       "      <th>AZ</th>\n",
       "      <th>CA</th>\n",
       "      <th>CO</th>\n",
       "      <th>CT</th>\n",
       "      <th>DC</th>\n",
       "      <th>DE</th>\n",
       "      <th>FL</th>\n",
       "      <th>...</th>\n",
       "      <th>SD</th>\n",
       "      <th>TN</th>\n",
       "      <th>TX</th>\n",
       "      <th>UT</th>\n",
       "      <th>VA</th>\n",
       "      <th>VT</th>\n",
       "      <th>WA</th>\n",
       "      <th>WI</th>\n",
       "      <th>WV</th>\n",
       "      <th>WY</th>\n",
       "    </tr>\n",
       "    <tr>\n",
       "      <th>YEAR</th>\n",
       "      <th>MONTH</th>\n",
       "      <th></th>\n",
       "      <th></th>\n",
       "      <th></th>\n",
       "      <th></th>\n",
       "      <th></th>\n",
       "      <th></th>\n",
       "      <th></th>\n",
       "      <th></th>\n",
       "      <th></th>\n",
       "      <th></th>\n",
       "      <th></th>\n",
       "      <th></th>\n",
       "      <th></th>\n",
       "      <th></th>\n",
       "      <th></th>\n",
       "      <th></th>\n",
       "      <th></th>\n",
       "      <th></th>\n",
       "      <th></th>\n",
       "      <th></th>\n",
       "      <th></th>\n",
       "    </tr>\n",
       "  </thead>\n",
       "  <tbody>\n",
       "    <tr>\n",
       "      <td rowspan=\"5\" valign=\"top\">1992</td>\n",
       "      <td>1</td>\n",
       "      <td>0.000000</td>\n",
       "      <td>0.002498</td>\n",
       "      <td>0.001388</td>\n",
       "      <td>0.004718</td>\n",
       "      <td>0.025534</td>\n",
       "      <td>0.002498</td>\n",
       "      <td>0.002775</td>\n",
       "      <td>0.000000</td>\n",
       "      <td>0.000000</td>\n",
       "      <td>0.161255</td>\n",
       "      <td>...</td>\n",
       "      <td>0.006106</td>\n",
       "      <td>0.001110</td>\n",
       "      <td>0.013322</td>\n",
       "      <td>0.000000</td>\n",
       "      <td>0.000278</td>\n",
       "      <td>0.000000</td>\n",
       "      <td>0.001110</td>\n",
       "      <td>0.000833</td>\n",
       "      <td>0.004163</td>\n",
       "      <td>0.011657</td>\n",
       "    </tr>\n",
       "    <tr>\n",
       "      <td>2</td>\n",
       "      <td>0.000000</td>\n",
       "      <td>0.003795</td>\n",
       "      <td>0.003655</td>\n",
       "      <td>0.002811</td>\n",
       "      <td>0.007591</td>\n",
       "      <td>0.005201</td>\n",
       "      <td>0.003233</td>\n",
       "      <td>0.000141</td>\n",
       "      <td>0.000000</td>\n",
       "      <td>0.074501</td>\n",
       "      <td>...</td>\n",
       "      <td>0.004358</td>\n",
       "      <td>0.002530</td>\n",
       "      <td>0.015462</td>\n",
       "      <td>0.000000</td>\n",
       "      <td>0.000843</td>\n",
       "      <td>0.000000</td>\n",
       "      <td>0.000562</td>\n",
       "      <td>0.002109</td>\n",
       "      <td>0.016306</td>\n",
       "      <td>0.003655</td>\n",
       "    </tr>\n",
       "    <tr>\n",
       "      <td>3</td>\n",
       "      <td>0.000000</td>\n",
       "      <td>0.001608</td>\n",
       "      <td>0.002986</td>\n",
       "      <td>0.001608</td>\n",
       "      <td>0.005513</td>\n",
       "      <td>0.003561</td>\n",
       "      <td>0.003216</td>\n",
       "      <td>0.000115</td>\n",
       "      <td>0.000000</td>\n",
       "      <td>0.068229</td>\n",
       "      <td>...</td>\n",
       "      <td>0.007926</td>\n",
       "      <td>0.000919</td>\n",
       "      <td>0.011831</td>\n",
       "      <td>0.000574</td>\n",
       "      <td>0.001608</td>\n",
       "      <td>0.000000</td>\n",
       "      <td>0.007007</td>\n",
       "      <td>0.007351</td>\n",
       "      <td>0.020216</td>\n",
       "      <td>0.003331</td>\n",
       "    </tr>\n",
       "    <tr>\n",
       "      <td>4</td>\n",
       "      <td>0.002561</td>\n",
       "      <td>0.002305</td>\n",
       "      <td>0.003073</td>\n",
       "      <td>0.032266</td>\n",
       "      <td>0.033163</td>\n",
       "      <td>0.015621</td>\n",
       "      <td>0.008323</td>\n",
       "      <td>0.000000</td>\n",
       "      <td>0.000256</td>\n",
       "      <td>0.063508</td>\n",
       "      <td>...</td>\n",
       "      <td>0.008707</td>\n",
       "      <td>0.000768</td>\n",
       "      <td>0.004738</td>\n",
       "      <td>0.002561</td>\n",
       "      <td>0.001024</td>\n",
       "      <td>0.000000</td>\n",
       "      <td>0.006786</td>\n",
       "      <td>0.039821</td>\n",
       "      <td>0.019334</td>\n",
       "      <td>0.007170</td>\n",
       "    </tr>\n",
       "    <tr>\n",
       "      <td>5</td>\n",
       "      <td>0.018195</td>\n",
       "      <td>0.001166</td>\n",
       "      <td>0.000700</td>\n",
       "      <td>0.070679</td>\n",
       "      <td>0.156170</td>\n",
       "      <td>0.012946</td>\n",
       "      <td>0.006998</td>\n",
       "      <td>0.000000</td>\n",
       "      <td>0.000117</td>\n",
       "      <td>0.082342</td>\n",
       "      <td>...</td>\n",
       "      <td>0.007698</td>\n",
       "      <td>0.000583</td>\n",
       "      <td>0.003266</td>\n",
       "      <td>0.005248</td>\n",
       "      <td>0.000350</td>\n",
       "      <td>0.000117</td>\n",
       "      <td>0.021460</td>\n",
       "      <td>0.057733</td>\n",
       "      <td>0.006415</td>\n",
       "      <td>0.005948</td>\n",
       "    </tr>\n",
       "    <tr>\n",
       "      <td>...</td>\n",
       "      <td>...</td>\n",
       "      <td>...</td>\n",
       "      <td>...</td>\n",
       "      <td>...</td>\n",
       "      <td>...</td>\n",
       "      <td>...</td>\n",
       "      <td>...</td>\n",
       "      <td>...</td>\n",
       "      <td>...</td>\n",
       "      <td>...</td>\n",
       "      <td>...</td>\n",
       "      <td>...</td>\n",
       "      <td>...</td>\n",
       "      <td>...</td>\n",
       "      <td>...</td>\n",
       "      <td>...</td>\n",
       "      <td>...</td>\n",
       "      <td>...</td>\n",
       "      <td>...</td>\n",
       "      <td>...</td>\n",
       "      <td>...</td>\n",
       "      <td>...</td>\n",
       "    </tr>\n",
       "    <tr>\n",
       "      <td rowspan=\"5\" valign=\"top\">2015</td>\n",
       "      <td>8</td>\n",
       "      <td>0.003687</td>\n",
       "      <td>0.013679</td>\n",
       "      <td>0.016653</td>\n",
       "      <td>0.048769</td>\n",
       "      <td>0.110622</td>\n",
       "      <td>0.017961</td>\n",
       "      <td>0.002974</td>\n",
       "      <td>0.000000</td>\n",
       "      <td>0.000238</td>\n",
       "      <td>0.012133</td>\n",
       "      <td>...</td>\n",
       "      <td>0.013560</td>\n",
       "      <td>0.001665</td>\n",
       "      <td>0.189604</td>\n",
       "      <td>0.014512</td>\n",
       "      <td>0.002022</td>\n",
       "      <td>0.000000</td>\n",
       "      <td>0.054359</td>\n",
       "      <td>0.005353</td>\n",
       "      <td>0.000476</td>\n",
       "      <td>0.017842</td>\n",
       "    </tr>\n",
       "    <tr>\n",
       "      <td>9</td>\n",
       "      <td>0.001630</td>\n",
       "      <td>0.024624</td>\n",
       "      <td>0.030780</td>\n",
       "      <td>0.037661</td>\n",
       "      <td>0.126924</td>\n",
       "      <td>0.014847</td>\n",
       "      <td>0.004345</td>\n",
       "      <td>0.000181</td>\n",
       "      <td>0.000724</td>\n",
       "      <td>0.010320</td>\n",
       "      <td>...</td>\n",
       "      <td>0.018468</td>\n",
       "      <td>0.003621</td>\n",
       "      <td>0.227413</td>\n",
       "      <td>0.013942</td>\n",
       "      <td>0.003983</td>\n",
       "      <td>0.000362</td>\n",
       "      <td>0.018468</td>\n",
       "      <td>0.003621</td>\n",
       "      <td>0.002535</td>\n",
       "      <td>0.022452</td>\n",
       "    </tr>\n",
       "    <tr>\n",
       "      <td>10</td>\n",
       "      <td>0.000334</td>\n",
       "      <td>0.046562</td>\n",
       "      <td>0.049399</td>\n",
       "      <td>0.025534</td>\n",
       "      <td>0.094292</td>\n",
       "      <td>0.007677</td>\n",
       "      <td>0.001168</td>\n",
       "      <td>0.000000</td>\n",
       "      <td>0.000000</td>\n",
       "      <td>0.015688</td>\n",
       "      <td>...</td>\n",
       "      <td>0.014019</td>\n",
       "      <td>0.010013</td>\n",
       "      <td>0.225134</td>\n",
       "      <td>0.005174</td>\n",
       "      <td>0.001168</td>\n",
       "      <td>0.000000</td>\n",
       "      <td>0.010514</td>\n",
       "      <td>0.008011</td>\n",
       "      <td>0.004673</td>\n",
       "      <td>0.006676</td>\n",
       "    </tr>\n",
       "    <tr>\n",
       "      <td>11</td>\n",
       "      <td>0.000000</td>\n",
       "      <td>0.025485</td>\n",
       "      <td>0.007282</td>\n",
       "      <td>0.055825</td>\n",
       "      <td>0.079794</td>\n",
       "      <td>0.001517</td>\n",
       "      <td>0.003641</td>\n",
       "      <td>0.000000</td>\n",
       "      <td>0.000000</td>\n",
       "      <td>0.017597</td>\n",
       "      <td>...</td>\n",
       "      <td>0.014867</td>\n",
       "      <td>0.026092</td>\n",
       "      <td>0.055218</td>\n",
       "      <td>0.000910</td>\n",
       "      <td>0.013956</td>\n",
       "      <td>0.001214</td>\n",
       "      <td>0.002427</td>\n",
       "      <td>0.007282</td>\n",
       "      <td>0.069175</td>\n",
       "      <td>0.005158</td>\n",
       "    </tr>\n",
       "    <tr>\n",
       "      <td>12</td>\n",
       "      <td>0.000639</td>\n",
       "      <td>0.036445</td>\n",
       "      <td>0.019182</td>\n",
       "      <td>0.137468</td>\n",
       "      <td>0.070972</td>\n",
       "      <td>0.000000</td>\n",
       "      <td>0.003197</td>\n",
       "      <td>0.000000</td>\n",
       "      <td>0.000000</td>\n",
       "      <td>0.037084</td>\n",
       "      <td>...</td>\n",
       "      <td>0.002558</td>\n",
       "      <td>0.012148</td>\n",
       "      <td>0.157289</td>\n",
       "      <td>0.000639</td>\n",
       "      <td>0.001279</td>\n",
       "      <td>0.000000</td>\n",
       "      <td>0.000000</td>\n",
       "      <td>0.001918</td>\n",
       "      <td>0.007033</td>\n",
       "      <td>0.003836</td>\n",
       "    </tr>\n",
       "  </tbody>\n",
       "</table>\n",
       "<p>288 rows × 52 columns</p>\n",
       "</div>"
      ],
      "text/plain": [
       "STATE             AK        AL        AR        AZ        CA        CO  \\\n",
       "YEAR MONTH                                                               \n",
       "1992 1      0.000000  0.002498  0.001388  0.004718  0.025534  0.002498   \n",
       "     2      0.000000  0.003795  0.003655  0.002811  0.007591  0.005201   \n",
       "     3      0.000000  0.001608  0.002986  0.001608  0.005513  0.003561   \n",
       "     4      0.002561  0.002305  0.003073  0.032266  0.033163  0.015621   \n",
       "     5      0.018195  0.001166  0.000700  0.070679  0.156170  0.012946   \n",
       "...              ...       ...       ...       ...       ...       ...   \n",
       "2015 8      0.003687  0.013679  0.016653  0.048769  0.110622  0.017961   \n",
       "     9      0.001630  0.024624  0.030780  0.037661  0.126924  0.014847   \n",
       "     10     0.000334  0.046562  0.049399  0.025534  0.094292  0.007677   \n",
       "     11     0.000000  0.025485  0.007282  0.055825  0.079794  0.001517   \n",
       "     12     0.000639  0.036445  0.019182  0.137468  0.070972  0.000000   \n",
       "\n",
       "STATE             CT        DC        DE        FL  ...        SD        TN  \\\n",
       "YEAR MONTH                                          ...                       \n",
       "1992 1      0.002775  0.000000  0.000000  0.161255  ...  0.006106  0.001110   \n",
       "     2      0.003233  0.000141  0.000000  0.074501  ...  0.004358  0.002530   \n",
       "     3      0.003216  0.000115  0.000000  0.068229  ...  0.007926  0.000919   \n",
       "     4      0.008323  0.000000  0.000256  0.063508  ...  0.008707  0.000768   \n",
       "     5      0.006998  0.000000  0.000117  0.082342  ...  0.007698  0.000583   \n",
       "...              ...       ...       ...       ...  ...       ...       ...   \n",
       "2015 8      0.002974  0.000000  0.000238  0.012133  ...  0.013560  0.001665   \n",
       "     9      0.004345  0.000181  0.000724  0.010320  ...  0.018468  0.003621   \n",
       "     10     0.001168  0.000000  0.000000  0.015688  ...  0.014019  0.010013   \n",
       "     11     0.003641  0.000000  0.000000  0.017597  ...  0.014867  0.026092   \n",
       "     12     0.003197  0.000000  0.000000  0.037084  ...  0.002558  0.012148   \n",
       "\n",
       "STATE             TX        UT        VA        VT        WA        WI  \\\n",
       "YEAR MONTH                                                               \n",
       "1992 1      0.013322  0.000000  0.000278  0.000000  0.001110  0.000833   \n",
       "     2      0.015462  0.000000  0.000843  0.000000  0.000562  0.002109   \n",
       "     3      0.011831  0.000574  0.001608  0.000000  0.007007  0.007351   \n",
       "     4      0.004738  0.002561  0.001024  0.000000  0.006786  0.039821   \n",
       "     5      0.003266  0.005248  0.000350  0.000117  0.021460  0.057733   \n",
       "...              ...       ...       ...       ...       ...       ...   \n",
       "2015 8      0.189604  0.014512  0.002022  0.000000  0.054359  0.005353   \n",
       "     9      0.227413  0.013942  0.003983  0.000362  0.018468  0.003621   \n",
       "     10     0.225134  0.005174  0.001168  0.000000  0.010514  0.008011   \n",
       "     11     0.055218  0.000910  0.013956  0.001214  0.002427  0.007282   \n",
       "     12     0.157289  0.000639  0.001279  0.000000  0.000000  0.001918   \n",
       "\n",
       "STATE             WV        WY  \n",
       "YEAR MONTH                      \n",
       "1992 1      0.004163  0.011657  \n",
       "     2      0.016306  0.003655  \n",
       "     3      0.020216  0.003331  \n",
       "     4      0.019334  0.007170  \n",
       "     5      0.006415  0.005948  \n",
       "...              ...       ...  \n",
       "2015 8      0.000476  0.017842  \n",
       "     9      0.002535  0.022452  \n",
       "     10     0.004673  0.006676  \n",
       "     11     0.069175  0.005158  \n",
       "     12     0.007033  0.003836  \n",
       "\n",
       "[288 rows x 52 columns]"
      ]
     },
     "metadata": {},
     "output_type": "display_data"
    },
    {
     "data": {
      "text/html": [
       "<div>\n",
       "<style scoped>\n",
       "    .dataframe tbody tr th:only-of-type {\n",
       "        vertical-align: middle;\n",
       "    }\n",
       "\n",
       "    .dataframe tbody tr th {\n",
       "        vertical-align: top;\n",
       "    }\n",
       "\n",
       "    .dataframe thead th {\n",
       "        text-align: right;\n",
       "    }\n",
       "</style>\n",
       "<table border=\"1\" class=\"dataframe\">\n",
       "  <thead>\n",
       "    <tr style=\"text-align: right;\">\n",
       "      <th>STATE</th>\n",
       "      <th>AK</th>\n",
       "      <th>AL</th>\n",
       "      <th>AR</th>\n",
       "      <th>AZ</th>\n",
       "      <th>CA</th>\n",
       "      <th>CO</th>\n",
       "      <th>CT</th>\n",
       "      <th>DC</th>\n",
       "      <th>DE</th>\n",
       "      <th>FL</th>\n",
       "      <th>...</th>\n",
       "      <th>SD</th>\n",
       "      <th>TN</th>\n",
       "      <th>TX</th>\n",
       "      <th>UT</th>\n",
       "      <th>VA</th>\n",
       "      <th>VT</th>\n",
       "      <th>WA</th>\n",
       "      <th>WI</th>\n",
       "      <th>WV</th>\n",
       "      <th>WY</th>\n",
       "    </tr>\n",
       "    <tr>\n",
       "      <th>YEAR</th>\n",
       "      <th></th>\n",
       "      <th></th>\n",
       "      <th></th>\n",
       "      <th></th>\n",
       "      <th></th>\n",
       "      <th></th>\n",
       "      <th></th>\n",
       "      <th></th>\n",
       "      <th></th>\n",
       "      <th></th>\n",
       "      <th></th>\n",
       "      <th></th>\n",
       "      <th></th>\n",
       "      <th></th>\n",
       "      <th></th>\n",
       "      <th></th>\n",
       "      <th></th>\n",
       "      <th></th>\n",
       "      <th></th>\n",
       "      <th></th>\n",
       "      <th></th>\n",
       "    </tr>\n",
       "  </thead>\n",
       "  <tbody>\n",
       "    <tr>\n",
       "      <td>1992</td>\n",
       "      <td>0.007076</td>\n",
       "      <td>0.001368</td>\n",
       "      <td>0.001883</td>\n",
       "      <td>0.051401</td>\n",
       "      <td>0.159367</td>\n",
       "      <td>0.019448</td>\n",
       "      <td>0.002972</td>\n",
       "      <td>0.000044</td>\n",
       "      <td>0.000044</td>\n",
       "      <td>0.062111</td>\n",
       "      <td>...</td>\n",
       "      <td>0.008150</td>\n",
       "      <td>0.000809</td>\n",
       "      <td>0.017183</td>\n",
       "      <td>0.016065</td>\n",
       "      <td>0.000633</td>\n",
       "      <td>0.000015</td>\n",
       "      <td>0.026098</td>\n",
       "      <td>0.018933</td>\n",
       "      <td>0.010313</td>\n",
       "      <td>0.010975</td>\n",
       "    </tr>\n",
       "    <tr>\n",
       "      <td>1993</td>\n",
       "      <td>0.013890</td>\n",
       "      <td>0.002210</td>\n",
       "      <td>0.002436</td>\n",
       "      <td>0.074836</td>\n",
       "      <td>0.133411</td>\n",
       "      <td>0.020068</td>\n",
       "      <td>0.001662</td>\n",
       "      <td>0.000113</td>\n",
       "      <td>0.000016</td>\n",
       "      <td>0.073368</td>\n",
       "      <td>...</td>\n",
       "      <td>0.007066</td>\n",
       "      <td>0.001049</td>\n",
       "      <td>0.023504</td>\n",
       "      <td>0.011454</td>\n",
       "      <td>0.000871</td>\n",
       "      <td>0.000016</td>\n",
       "      <td>0.015906</td>\n",
       "      <td>0.014261</td>\n",
       "      <td>0.013664</td>\n",
       "      <td>0.004339</td>\n",
       "    </tr>\n",
       "    <tr>\n",
       "      <td>1994</td>\n",
       "      <td>0.008426</td>\n",
       "      <td>0.045448</td>\n",
       "      <td>0.002199</td>\n",
       "      <td>0.059496</td>\n",
       "      <td>0.113936</td>\n",
       "      <td>0.033112</td>\n",
       "      <td>0.003818</td>\n",
       "      <td>0.000053</td>\n",
       "      <td>0.000026</td>\n",
       "      <td>0.046475</td>\n",
       "      <td>...</td>\n",
       "      <td>0.011612</td>\n",
       "      <td>0.000961</td>\n",
       "      <td>0.011941</td>\n",
       "      <td>0.021895</td>\n",
       "      <td>0.001027</td>\n",
       "      <td>0.000079</td>\n",
       "      <td>0.026621</td>\n",
       "      <td>0.025976</td>\n",
       "      <td>0.013297</td>\n",
       "      <td>0.012099</td>\n",
       "    </tr>\n",
       "    <tr>\n",
       "      <td>1995</td>\n",
       "      <td>0.005848</td>\n",
       "      <td>0.059184</td>\n",
       "      <td>0.003358</td>\n",
       "      <td>0.062990</td>\n",
       "      <td>0.103271</td>\n",
       "      <td>0.021225</td>\n",
       "      <td>0.001539</td>\n",
       "      <td>0.000070</td>\n",
       "      <td>0.000070</td>\n",
       "      <td>0.044577</td>\n",
       "      <td>...</td>\n",
       "      <td>0.009304</td>\n",
       "      <td>0.001483</td>\n",
       "      <td>0.023058</td>\n",
       "      <td>0.016104</td>\n",
       "      <td>0.021687</td>\n",
       "      <td>0.000028</td>\n",
       "      <td>0.016972</td>\n",
       "      <td>0.022946</td>\n",
       "      <td>0.017363</td>\n",
       "      <td>0.007415</td>\n",
       "    </tr>\n",
       "    <tr>\n",
       "      <td>1996</td>\n",
       "      <td>0.009501</td>\n",
       "      <td>0.053563</td>\n",
       "      <td>0.002964</td>\n",
       "      <td>0.049766</td>\n",
       "      <td>0.121378</td>\n",
       "      <td>0.018591</td>\n",
       "      <td>0.000357</td>\n",
       "      <td>0.000000</td>\n",
       "      <td>0.000000</td>\n",
       "      <td>0.062151</td>\n",
       "      <td>...</td>\n",
       "      <td>0.011102</td>\n",
       "      <td>0.000741</td>\n",
       "      <td>0.037619</td>\n",
       "      <td>0.022045</td>\n",
       "      <td>0.010903</td>\n",
       "      <td>0.000000</td>\n",
       "      <td>0.014436</td>\n",
       "      <td>0.019359</td>\n",
       "      <td>0.008614</td>\n",
       "      <td>0.013655</td>\n",
       "    </tr>\n",
       "    <tr>\n",
       "      <td>1997</td>\n",
       "      <td>0.011733</td>\n",
       "      <td>0.042164</td>\n",
       "      <td>0.016924</td>\n",
       "      <td>0.036615</td>\n",
       "      <td>0.129048</td>\n",
       "      <td>0.011749</td>\n",
       "      <td>0.001351</td>\n",
       "      <td>0.000049</td>\n",
       "      <td>0.000081</td>\n",
       "      <td>0.063662</td>\n",
       "      <td>...</td>\n",
       "      <td>0.009878</td>\n",
       "      <td>0.022685</td>\n",
       "      <td>0.012531</td>\n",
       "      <td>0.014028</td>\n",
       "      <td>0.018438</td>\n",
       "      <td>0.000033</td>\n",
       "      <td>0.016257</td>\n",
       "      <td>0.027258</td>\n",
       "      <td>0.011701</td>\n",
       "      <td>0.003173</td>\n",
       "    </tr>\n",
       "    <tr>\n",
       "      <td>1998</td>\n",
       "      <td>0.005968</td>\n",
       "      <td>0.052157</td>\n",
       "      <td>0.016908</td>\n",
       "      <td>0.039184</td>\n",
       "      <td>0.100395</td>\n",
       "      <td>0.011189</td>\n",
       "      <td>0.000439</td>\n",
       "      <td>0.000190</td>\n",
       "      <td>0.000000</td>\n",
       "      <td>0.070396</td>\n",
       "      <td>...</td>\n",
       "      <td>0.011935</td>\n",
       "      <td>0.026854</td>\n",
       "      <td>0.029633</td>\n",
       "      <td>0.012769</td>\n",
       "      <td>0.017084</td>\n",
       "      <td>0.000029</td>\n",
       "      <td>0.021603</td>\n",
       "      <td>0.023563</td>\n",
       "      <td>0.014714</td>\n",
       "      <td>0.002896</td>\n",
       "    </tr>\n",
       "    <tr>\n",
       "      <td>1999</td>\n",
       "      <td>0.005394</td>\n",
       "      <td>0.050368</td>\n",
       "      <td>0.024887</td>\n",
       "      <td>0.030617</td>\n",
       "      <td>0.099706</td>\n",
       "      <td>0.008460</td>\n",
       "      <td>0.003324</td>\n",
       "      <td>0.000090</td>\n",
       "      <td>0.000022</td>\n",
       "      <td>0.061368</td>\n",
       "      <td>...</td>\n",
       "      <td>0.015767</td>\n",
       "      <td>0.038651</td>\n",
       "      <td>0.019863</td>\n",
       "      <td>0.014346</td>\n",
       "      <td>0.017714</td>\n",
       "      <td>0.000034</td>\n",
       "      <td>0.016506</td>\n",
       "      <td>0.017949</td>\n",
       "      <td>0.021810</td>\n",
       "      <td>0.003413</td>\n",
       "    </tr>\n",
       "    <tr>\n",
       "      <td>2000</td>\n",
       "      <td>0.003775</td>\n",
       "      <td>0.064968</td>\n",
       "      <td>0.024508</td>\n",
       "      <td>0.040024</td>\n",
       "      <td>0.072364</td>\n",
       "      <td>0.016792</td>\n",
       "      <td>0.001307</td>\n",
       "      <td>0.000000</td>\n",
       "      <td>0.000010</td>\n",
       "      <td>0.067406</td>\n",
       "      <td>...</td>\n",
       "      <td>0.023554</td>\n",
       "      <td>0.027734</td>\n",
       "      <td>0.027247</td>\n",
       "      <td>0.019260</td>\n",
       "      <td>0.010247</td>\n",
       "      <td>0.000000</td>\n",
       "      <td>0.012716</td>\n",
       "      <td>0.016367</td>\n",
       "      <td>0.011471</td>\n",
       "      <td>0.005922</td>\n",
       "    </tr>\n",
       "    <tr>\n",
       "      <td>2001</td>\n",
       "      <td>0.004169</td>\n",
       "      <td>0.038216</td>\n",
       "      <td>0.014621</td>\n",
       "      <td>0.036795</td>\n",
       "      <td>0.094495</td>\n",
       "      <td>0.014621</td>\n",
       "      <td>0.002391</td>\n",
       "      <td>0.000012</td>\n",
       "      <td>0.000012</td>\n",
       "      <td>0.056440</td>\n",
       "      <td>...</td>\n",
       "      <td>0.015453</td>\n",
       "      <td>0.029115</td>\n",
       "      <td>0.008904</td>\n",
       "      <td>0.020500</td>\n",
       "      <td>0.024265</td>\n",
       "      <td>0.000000</td>\n",
       "      <td>0.013374</td>\n",
       "      <td>0.011468</td>\n",
       "      <td>0.020661</td>\n",
       "      <td>0.007761</td>\n",
       "    </tr>\n",
       "    <tr>\n",
       "      <td>2002</td>\n",
       "      <td>0.007111</td>\n",
       "      <td>0.038675</td>\n",
       "      <td>0.013231</td>\n",
       "      <td>0.038569</td>\n",
       "      <td>0.094282</td>\n",
       "      <td>0.016139</td>\n",
       "      <td>0.001414</td>\n",
       "      <td>0.000013</td>\n",
       "      <td>0.000515</td>\n",
       "      <td>0.041385</td>\n",
       "      <td>...</td>\n",
       "      <td>0.025933</td>\n",
       "      <td>0.019628</td>\n",
       "      <td>0.016245</td>\n",
       "      <td>0.015108</td>\n",
       "      <td>0.020778</td>\n",
       "      <td>0.000079</td>\n",
       "      <td>0.018743</td>\n",
       "      <td>0.012544</td>\n",
       "      <td>0.013218</td>\n",
       "      <td>0.008856</td>\n",
       "    </tr>\n",
       "    <tr>\n",
       "      <td>2003</td>\n",
       "      <td>0.007003</td>\n",
       "      <td>0.026721</td>\n",
       "      <td>0.024377</td>\n",
       "      <td>0.042718</td>\n",
       "      <td>0.115923</td>\n",
       "      <td>0.035481</td>\n",
       "      <td>0.001392</td>\n",
       "      <td>0.000000</td>\n",
       "      <td>0.000308</td>\n",
       "      <td>0.031497</td>\n",
       "      <td>...</td>\n",
       "      <td>0.025344</td>\n",
       "      <td>0.000454</td>\n",
       "      <td>0.016803</td>\n",
       "      <td>0.020832</td>\n",
       "      <td>0.005039</td>\n",
       "      <td>0.000132</td>\n",
       "      <td>0.020993</td>\n",
       "      <td>0.033006</td>\n",
       "      <td>0.009390</td>\n",
       "      <td>0.010504</td>\n",
       "    </tr>\n",
       "    <tr>\n",
       "      <td>2004</td>\n",
       "      <td>0.010017</td>\n",
       "      <td>0.044083</td>\n",
       "      <td>0.019689</td>\n",
       "      <td>0.041037</td>\n",
       "      <td>0.107074</td>\n",
       "      <td>0.018909</td>\n",
       "      <td>0.001256</td>\n",
       "      <td>0.000000</td>\n",
       "      <td>0.000390</td>\n",
       "      <td>0.052224</td>\n",
       "      <td>...</td>\n",
       "      <td>0.019876</td>\n",
       "      <td>0.000996</td>\n",
       "      <td>0.015012</td>\n",
       "      <td>0.021926</td>\n",
       "      <td>0.004345</td>\n",
       "      <td>0.000231</td>\n",
       "      <td>0.022965</td>\n",
       "      <td>0.016758</td>\n",
       "      <td>0.008920</td>\n",
       "      <td>0.005904</td>\n",
       "    </tr>\n",
       "    <tr>\n",
       "      <td>2005</td>\n",
       "      <td>0.006986</td>\n",
       "      <td>0.028746</td>\n",
       "      <td>0.025913</td>\n",
       "      <td>0.041646</td>\n",
       "      <td>0.075369</td>\n",
       "      <td>0.021162</td>\n",
       "      <td>0.003307</td>\n",
       "      <td>0.000023</td>\n",
       "      <td>0.000158</td>\n",
       "      <td>0.027030</td>\n",
       "      <td>...</td>\n",
       "      <td>0.019886</td>\n",
       "      <td>0.023035</td>\n",
       "      <td>0.077886</td>\n",
       "      <td>0.015372</td>\n",
       "      <td>0.008871</td>\n",
       "      <td>0.000293</td>\n",
       "      <td>0.012291</td>\n",
       "      <td>0.017663</td>\n",
       "      <td>0.008600</td>\n",
       "      <td>0.005880</td>\n",
       "    </tr>\n",
       "    <tr>\n",
       "      <td>2006</td>\n",
       "      <td>0.002640</td>\n",
       "      <td>0.034622</td>\n",
       "      <td>0.022552</td>\n",
       "      <td>0.029113</td>\n",
       "      <td>0.072550</td>\n",
       "      <td>0.011543</td>\n",
       "      <td>0.003263</td>\n",
       "      <td>0.000026</td>\n",
       "      <td>0.000000</td>\n",
       "      <td>0.044867</td>\n",
       "      <td>...</td>\n",
       "      <td>0.023210</td>\n",
       "      <td>0.019148</td>\n",
       "      <td>0.131767</td>\n",
       "      <td>0.016894</td>\n",
       "      <td>0.011122</td>\n",
       "      <td>0.000035</td>\n",
       "      <td>0.013833</td>\n",
       "      <td>0.014543</td>\n",
       "      <td>0.009000</td>\n",
       "      <td>0.006745</td>\n",
       "    </tr>\n",
       "    <tr>\n",
       "      <td>2007</td>\n",
       "      <td>0.005368</td>\n",
       "      <td>0.040105</td>\n",
       "      <td>0.013613</td>\n",
       "      <td>0.025562</td>\n",
       "      <td>0.106212</td>\n",
       "      <td>0.011196</td>\n",
       "      <td>0.003463</td>\n",
       "      <td>0.000010</td>\n",
       "      <td>0.000021</td>\n",
       "      <td>0.048016</td>\n",
       "      <td>...</td>\n",
       "      <td>0.017024</td>\n",
       "      <td>0.035502</td>\n",
       "      <td>0.057307</td>\n",
       "      <td>0.016197</td>\n",
       "      <td>0.015130</td>\n",
       "      <td>0.000052</td>\n",
       "      <td>0.013644</td>\n",
       "      <td>0.015559</td>\n",
       "      <td>0.008747</td>\n",
       "      <td>0.006226</td>\n",
       "    </tr>\n",
       "    <tr>\n",
       "      <td>2008</td>\n",
       "      <td>0.004322</td>\n",
       "      <td>0.023566</td>\n",
       "      <td>0.010342</td>\n",
       "      <td>0.022231</td>\n",
       "      <td>0.090703</td>\n",
       "      <td>0.011888</td>\n",
       "      <td>0.004287</td>\n",
       "      <td>0.000012</td>\n",
       "      <td>0.000000</td>\n",
       "      <td>0.036368</td>\n",
       "      <td>...</td>\n",
       "      <td>0.013938</td>\n",
       "      <td>0.016737</td>\n",
       "      <td>0.211612</td>\n",
       "      <td>0.012439</td>\n",
       "      <td>0.015074</td>\n",
       "      <td>0.000059</td>\n",
       "      <td>0.017452</td>\n",
       "      <td>0.009522</td>\n",
       "      <td>0.010377</td>\n",
       "      <td>0.005259</td>\n",
       "    </tr>\n",
       "    <tr>\n",
       "      <td>2009</td>\n",
       "      <td>0.006550</td>\n",
       "      <td>0.017517</td>\n",
       "      <td>0.013738</td>\n",
       "      <td>0.029786</td>\n",
       "      <td>0.088605</td>\n",
       "      <td>0.012154</td>\n",
       "      <td>0.003281</td>\n",
       "      <td>0.000013</td>\n",
       "      <td>0.000000</td>\n",
       "      <td>0.038506</td>\n",
       "      <td>...</td>\n",
       "      <td>0.012563</td>\n",
       "      <td>0.018857</td>\n",
       "      <td>0.180555</td>\n",
       "      <td>0.014772</td>\n",
       "      <td>0.010010</td>\n",
       "      <td>0.000013</td>\n",
       "      <td>0.025535</td>\n",
       "      <td>0.020147</td>\n",
       "      <td>0.012563</td>\n",
       "      <td>0.006052</td>\n",
       "    </tr>\n",
       "    <tr>\n",
       "      <td>2010</td>\n",
       "      <td>0.008650</td>\n",
       "      <td>0.036463</td>\n",
       "      <td>0.027789</td>\n",
       "      <td>0.020241</td>\n",
       "      <td>0.072300</td>\n",
       "      <td>0.033722</td>\n",
       "      <td>0.005232</td>\n",
       "      <td>0.000013</td>\n",
       "      <td>0.000013</td>\n",
       "      <td>0.029704</td>\n",
       "      <td>...</td>\n",
       "      <td>0.008737</td>\n",
       "      <td>0.023833</td>\n",
       "      <td>0.117050</td>\n",
       "      <td>0.013218</td>\n",
       "      <td>0.012843</td>\n",
       "      <td>0.000025</td>\n",
       "      <td>0.013118</td>\n",
       "      <td>0.016423</td>\n",
       "      <td>0.009964</td>\n",
       "      <td>0.007898</td>\n",
       "    </tr>\n",
       "    <tr>\n",
       "      <td>2011</td>\n",
       "      <td>0.005610</td>\n",
       "      <td>0.022551</td>\n",
       "      <td>0.028116</td>\n",
       "      <td>0.021115</td>\n",
       "      <td>0.094553</td>\n",
       "      <td>0.010569</td>\n",
       "      <td>0.002507</td>\n",
       "      <td>0.000022</td>\n",
       "      <td>0.000000</td>\n",
       "      <td>0.055537</td>\n",
       "      <td>...</td>\n",
       "      <td>0.015803</td>\n",
       "      <td>0.013197</td>\n",
       "      <td>0.214827</td>\n",
       "      <td>0.012092</td>\n",
       "      <td>0.008978</td>\n",
       "      <td>0.000000</td>\n",
       "      <td>0.011353</td>\n",
       "      <td>0.008117</td>\n",
       "      <td>0.005400</td>\n",
       "      <td>0.007068</td>\n",
       "    </tr>\n",
       "    <tr>\n",
       "      <td>2012</td>\n",
       "      <td>0.005621</td>\n",
       "      <td>0.024007</td>\n",
       "      <td>0.032308</td>\n",
       "      <td>0.024186</td>\n",
       "      <td>0.099053</td>\n",
       "      <td>0.015199</td>\n",
       "      <td>0.007915</td>\n",
       "      <td>0.000069</td>\n",
       "      <td>0.000261</td>\n",
       "      <td>0.042697</td>\n",
       "      <td>...</td>\n",
       "      <td>0.037461</td>\n",
       "      <td>0.016532</td>\n",
       "      <td>0.104756</td>\n",
       "      <td>0.021877</td>\n",
       "      <td>0.009413</td>\n",
       "      <td>0.001333</td>\n",
       "      <td>0.019624</td>\n",
       "      <td>0.018964</td>\n",
       "      <td>0.009537</td>\n",
       "      <td>0.014374</td>\n",
       "    </tr>\n",
       "    <tr>\n",
       "      <td>2013</td>\n",
       "      <td>0.009139</td>\n",
       "      <td>0.025780</td>\n",
       "      <td>0.013075</td>\n",
       "      <td>0.025702</td>\n",
       "      <td>0.134656</td>\n",
       "      <td>0.060111</td>\n",
       "      <td>0.000000</td>\n",
       "      <td>0.000015</td>\n",
       "      <td>0.000139</td>\n",
       "      <td>0.033390</td>\n",
       "      <td>...</td>\n",
       "      <td>0.015776</td>\n",
       "      <td>0.009849</td>\n",
       "      <td>0.150278</td>\n",
       "      <td>0.019281</td>\n",
       "      <td>0.008969</td>\n",
       "      <td>0.001945</td>\n",
       "      <td>0.021272</td>\n",
       "      <td>0.010682</td>\n",
       "      <td>0.008953</td>\n",
       "      <td>0.008969</td>\n",
       "    </tr>\n",
       "    <tr>\n",
       "      <td>2014</td>\n",
       "      <td>0.005800</td>\n",
       "      <td>0.035688</td>\n",
       "      <td>0.019114</td>\n",
       "      <td>0.041740</td>\n",
       "      <td>0.095848</td>\n",
       "      <td>0.008900</td>\n",
       "      <td>0.000000</td>\n",
       "      <td>0.000015</td>\n",
       "      <td>0.000044</td>\n",
       "      <td>0.031644</td>\n",
       "      <td>...</td>\n",
       "      <td>0.015099</td>\n",
       "      <td>0.018597</td>\n",
       "      <td>0.126017</td>\n",
       "      <td>0.015616</td>\n",
       "      <td>0.012118</td>\n",
       "      <td>0.000812</td>\n",
       "      <td>0.023128</td>\n",
       "      <td>0.008929</td>\n",
       "      <td>0.014036</td>\n",
       "      <td>0.008782</td>\n",
       "    </tr>\n",
       "    <tr>\n",
       "      <td>2015</td>\n",
       "      <td>0.010350</td>\n",
       "      <td>0.027842</td>\n",
       "      <td>0.017304</td>\n",
       "      <td>0.051268</td>\n",
       "      <td>0.098871</td>\n",
       "      <td>0.007934</td>\n",
       "      <td>0.004994</td>\n",
       "      <td>0.000040</td>\n",
       "      <td>0.000215</td>\n",
       "      <td>0.034205</td>\n",
       "      <td>...</td>\n",
       "      <td>0.012968</td>\n",
       "      <td>0.008216</td>\n",
       "      <td>0.111477</td>\n",
       "      <td>0.008122</td>\n",
       "      <td>0.008014</td>\n",
       "      <td>0.001168</td>\n",
       "      <td>0.023372</td>\n",
       "      <td>0.012955</td>\n",
       "      <td>0.009196</td>\n",
       "      <td>0.008484</td>\n",
       "    </tr>\n",
       "  </tbody>\n",
       "</table>\n",
       "<p>24 rows × 52 columns</p>\n",
       "</div>"
      ],
      "text/plain": [
       "STATE        AK        AL        AR        AZ        CA        CO        CT  \\\n",
       "YEAR                                                                          \n",
       "1992   0.007076  0.001368  0.001883  0.051401  0.159367  0.019448  0.002972   \n",
       "1993   0.013890  0.002210  0.002436  0.074836  0.133411  0.020068  0.001662   \n",
       "1994   0.008426  0.045448  0.002199  0.059496  0.113936  0.033112  0.003818   \n",
       "1995   0.005848  0.059184  0.003358  0.062990  0.103271  0.021225  0.001539   \n",
       "1996   0.009501  0.053563  0.002964  0.049766  0.121378  0.018591  0.000357   \n",
       "1997   0.011733  0.042164  0.016924  0.036615  0.129048  0.011749  0.001351   \n",
       "1998   0.005968  0.052157  0.016908  0.039184  0.100395  0.011189  0.000439   \n",
       "1999   0.005394  0.050368  0.024887  0.030617  0.099706  0.008460  0.003324   \n",
       "2000   0.003775  0.064968  0.024508  0.040024  0.072364  0.016792  0.001307   \n",
       "2001   0.004169  0.038216  0.014621  0.036795  0.094495  0.014621  0.002391   \n",
       "2002   0.007111  0.038675  0.013231  0.038569  0.094282  0.016139  0.001414   \n",
       "2003   0.007003  0.026721  0.024377  0.042718  0.115923  0.035481  0.001392   \n",
       "2004   0.010017  0.044083  0.019689  0.041037  0.107074  0.018909  0.001256   \n",
       "2005   0.006986  0.028746  0.025913  0.041646  0.075369  0.021162  0.003307   \n",
       "2006   0.002640  0.034622  0.022552  0.029113  0.072550  0.011543  0.003263   \n",
       "2007   0.005368  0.040105  0.013613  0.025562  0.106212  0.011196  0.003463   \n",
       "2008   0.004322  0.023566  0.010342  0.022231  0.090703  0.011888  0.004287   \n",
       "2009   0.006550  0.017517  0.013738  0.029786  0.088605  0.012154  0.003281   \n",
       "2010   0.008650  0.036463  0.027789  0.020241  0.072300  0.033722  0.005232   \n",
       "2011   0.005610  0.022551  0.028116  0.021115  0.094553  0.010569  0.002507   \n",
       "2012   0.005621  0.024007  0.032308  0.024186  0.099053  0.015199  0.007915   \n",
       "2013   0.009139  0.025780  0.013075  0.025702  0.134656  0.060111  0.000000   \n",
       "2014   0.005800  0.035688  0.019114  0.041740  0.095848  0.008900  0.000000   \n",
       "2015   0.010350  0.027842  0.017304  0.051268  0.098871  0.007934  0.004994   \n",
       "\n",
       "STATE        DC        DE        FL  ...        SD        TN        TX  \\\n",
       "YEAR                                 ...                                 \n",
       "1992   0.000044  0.000044  0.062111  ...  0.008150  0.000809  0.017183   \n",
       "1993   0.000113  0.000016  0.073368  ...  0.007066  0.001049  0.023504   \n",
       "1994   0.000053  0.000026  0.046475  ...  0.011612  0.000961  0.011941   \n",
       "1995   0.000070  0.000070  0.044577  ...  0.009304  0.001483  0.023058   \n",
       "1996   0.000000  0.000000  0.062151  ...  0.011102  0.000741  0.037619   \n",
       "1997   0.000049  0.000081  0.063662  ...  0.009878  0.022685  0.012531   \n",
       "1998   0.000190  0.000000  0.070396  ...  0.011935  0.026854  0.029633   \n",
       "1999   0.000090  0.000022  0.061368  ...  0.015767  0.038651  0.019863   \n",
       "2000   0.000000  0.000010  0.067406  ...  0.023554  0.027734  0.027247   \n",
       "2001   0.000012  0.000012  0.056440  ...  0.015453  0.029115  0.008904   \n",
       "2002   0.000013  0.000515  0.041385  ...  0.025933  0.019628  0.016245   \n",
       "2003   0.000000  0.000308  0.031497  ...  0.025344  0.000454  0.016803   \n",
       "2004   0.000000  0.000390  0.052224  ...  0.019876  0.000996  0.015012   \n",
       "2005   0.000023  0.000158  0.027030  ...  0.019886  0.023035  0.077886   \n",
       "2006   0.000026  0.000000  0.044867  ...  0.023210  0.019148  0.131767   \n",
       "2007   0.000010  0.000021  0.048016  ...  0.017024  0.035502  0.057307   \n",
       "2008   0.000012  0.000000  0.036368  ...  0.013938  0.016737  0.211612   \n",
       "2009   0.000013  0.000000  0.038506  ...  0.012563  0.018857  0.180555   \n",
       "2010   0.000013  0.000013  0.029704  ...  0.008737  0.023833  0.117050   \n",
       "2011   0.000022  0.000000  0.055537  ...  0.015803  0.013197  0.214827   \n",
       "2012   0.000069  0.000261  0.042697  ...  0.037461  0.016532  0.104756   \n",
       "2013   0.000015  0.000139  0.033390  ...  0.015776  0.009849  0.150278   \n",
       "2014   0.000015  0.000044  0.031644  ...  0.015099  0.018597  0.126017   \n",
       "2015   0.000040  0.000215  0.034205  ...  0.012968  0.008216  0.111477   \n",
       "\n",
       "STATE        UT        VA        VT        WA        WI        WV        WY  \n",
       "YEAR                                                                         \n",
       "1992   0.016065  0.000633  0.000015  0.026098  0.018933  0.010313  0.010975  \n",
       "1993   0.011454  0.000871  0.000016  0.015906  0.014261  0.013664  0.004339  \n",
       "1994   0.021895  0.001027  0.000079  0.026621  0.025976  0.013297  0.012099  \n",
       "1995   0.016104  0.021687  0.000028  0.016972  0.022946  0.017363  0.007415  \n",
       "1996   0.022045  0.010903  0.000000  0.014436  0.019359  0.008614  0.013655  \n",
       "1997   0.014028  0.018438  0.000033  0.016257  0.027258  0.011701  0.003173  \n",
       "1998   0.012769  0.017084  0.000029  0.021603  0.023563  0.014714  0.002896  \n",
       "1999   0.014346  0.017714  0.000034  0.016506  0.017949  0.021810  0.003413  \n",
       "2000   0.019260  0.010247  0.000000  0.012716  0.016367  0.011471  0.005922  \n",
       "2001   0.020500  0.024265  0.000000  0.013374  0.011468  0.020661  0.007761  \n",
       "2002   0.015108  0.020778  0.000079  0.018743  0.012544  0.013218  0.008856  \n",
       "2003   0.020832  0.005039  0.000132  0.020993  0.033006  0.009390  0.010504  \n",
       "2004   0.021926  0.004345  0.000231  0.022965  0.016758  0.008920  0.005904  \n",
       "2005   0.015372  0.008871  0.000293  0.012291  0.017663  0.008600  0.005880  \n",
       "2006   0.016894  0.011122  0.000035  0.013833  0.014543  0.009000  0.006745  \n",
       "2007   0.016197  0.015130  0.000052  0.013644  0.015559  0.008747  0.006226  \n",
       "2008   0.012439  0.015074  0.000059  0.017452  0.009522  0.010377  0.005259  \n",
       "2009   0.014772  0.010010  0.000013  0.025535  0.020147  0.012563  0.006052  \n",
       "2010   0.013218  0.012843  0.000025  0.013118  0.016423  0.009964  0.007898  \n",
       "2011   0.012092  0.008978  0.000000  0.011353  0.008117  0.005400  0.007068  \n",
       "2012   0.021877  0.009413  0.001333  0.019624  0.018964  0.009537  0.014374  \n",
       "2013   0.019281  0.008969  0.001945  0.021272  0.010682  0.008953  0.008969  \n",
       "2014   0.015616  0.012118  0.000812  0.023128  0.008929  0.014036  0.008782  \n",
       "2015   0.008122  0.008014  0.001168  0.023372  0.012955  0.009196  0.008484  \n",
       "\n",
       "[24 rows x 52 columns]"
      ]
     },
     "metadata": {},
     "output_type": "display_data"
    },
    {
     "data": {
      "text/html": [
       "<div>\n",
       "<style scoped>\n",
       "    .dataframe tbody tr th:only-of-type {\n",
       "        vertical-align: middle;\n",
       "    }\n",
       "\n",
       "    .dataframe tbody tr th {\n",
       "        vertical-align: top;\n",
       "    }\n",
       "\n",
       "    .dataframe thead th {\n",
       "        text-align: right;\n",
       "    }\n",
       "</style>\n",
       "<table border=\"1\" class=\"dataframe\">\n",
       "  <thead>\n",
       "    <tr style=\"text-align: right;\">\n",
       "      <th></th>\n",
       "      <th>FIRE_SIZE</th>\n",
       "    </tr>\n",
       "    <tr>\n",
       "      <th>YEAR</th>\n",
       "      <th></th>\n",
       "    </tr>\n",
       "  </thead>\n",
       "  <tbody>\n",
       "    <tr>\n",
       "      <td>1992</td>\n",
       "      <td>32.364222</td>\n",
       "    </tr>\n",
       "    <tr>\n",
       "      <td>1993</td>\n",
       "      <td>35.356208</td>\n",
       "    </tr>\n",
       "    <tr>\n",
       "      <td>1994</td>\n",
       "      <td>54.198875</td>\n",
       "    </tr>\n",
       "    <tr>\n",
       "      <td>1995</td>\n",
       "      <td>28.676755</td>\n",
       "    </tr>\n",
       "    <tr>\n",
       "      <td>1996</td>\n",
       "      <td>79.460604</td>\n",
       "    </tr>\n",
       "    <tr>\n",
       "      <td>1997</td>\n",
       "      <td>52.313024</td>\n",
       "    </tr>\n",
       "    <tr>\n",
       "      <td>1998</td>\n",
       "      <td>29.414983</td>\n",
       "    </tr>\n",
       "    <tr>\n",
       "      <td>1999</td>\n",
       "      <td>68.039342</td>\n",
       "    </tr>\n",
       "    <tr>\n",
       "      <td>2000</td>\n",
       "      <td>79.234760</td>\n",
       "    </tr>\n",
       "    <tr>\n",
       "      <td>2001</td>\n",
       "      <td>43.009601</td>\n",
       "    </tr>\n",
       "    <tr>\n",
       "      <td>2002</td>\n",
       "      <td>89.923580</td>\n",
       "    </tr>\n",
       "    <tr>\n",
       "      <td>2003</td>\n",
       "      <td>65.682790</td>\n",
       "    </tr>\n",
       "    <tr>\n",
       "      <td>2004</td>\n",
       "      <td>118.855760</td>\n",
       "    </tr>\n",
       "    <tr>\n",
       "      <td>2005</td>\n",
       "      <td>109.082041</td>\n",
       "    </tr>\n",
       "    <tr>\n",
       "      <td>2006</td>\n",
       "      <td>88.097768</td>\n",
       "    </tr>\n",
       "    <tr>\n",
       "      <td>2007</td>\n",
       "      <td>96.946091</td>\n",
       "    </tr>\n",
       "    <tr>\n",
       "      <td>2008</td>\n",
       "      <td>63.324652</td>\n",
       "    </tr>\n",
       "    <tr>\n",
       "      <td>2009</td>\n",
       "      <td>77.333752</td>\n",
       "    </tr>\n",
       "    <tr>\n",
       "      <td>2010</td>\n",
       "      <td>43.728864</td>\n",
       "    </tr>\n",
       "    <tr>\n",
       "      <td>2011</td>\n",
       "      <td>106.277026</td>\n",
       "    </tr>\n",
       "    <tr>\n",
       "      <td>2012</td>\n",
       "      <td>129.724037</td>\n",
       "    </tr>\n",
       "    <tr>\n",
       "      <td>2013</td>\n",
       "      <td>69.350145</td>\n",
       "    </tr>\n",
       "    <tr>\n",
       "      <td>2014</td>\n",
       "      <td>54.218860</td>\n",
       "    </tr>\n",
       "    <tr>\n",
       "      <td>2015</td>\n",
       "      <td>137.174526</td>\n",
       "    </tr>\n",
       "  </tbody>\n",
       "</table>\n",
       "</div>"
      ],
      "text/plain": [
       "       FIRE_SIZE\n",
       "YEAR            \n",
       "1992   32.364222\n",
       "1993   35.356208\n",
       "1994   54.198875\n",
       "1995   28.676755\n",
       "1996   79.460604\n",
       "1997   52.313024\n",
       "1998   29.414983\n",
       "1999   68.039342\n",
       "2000   79.234760\n",
       "2001   43.009601\n",
       "2002   89.923580\n",
       "2003   65.682790\n",
       "2004  118.855760\n",
       "2005  109.082041\n",
       "2006   88.097768\n",
       "2007   96.946091\n",
       "2008   63.324652\n",
       "2009   77.333752\n",
       "2010   43.728864\n",
       "2011  106.277026\n",
       "2012  129.724037\n",
       "2013   69.350145\n",
       "2014   54.218860\n",
       "2015  137.174526"
      ]
     },
     "metadata": {},
     "output_type": "display_data"
    },
    {
     "data": {
      "text/plain": [
       "<matplotlib.axes._subplots.AxesSubplot at 0x7fa5e8b04790>"
      ]
     },
     "execution_count": 48,
     "metadata": {},
     "output_type": "execute_result"
    },
    {
     "data": {
      "image/png": "[encoded data removed]",
      "text/plain": [
       "<Figure size 432x288 with 1 Axes>"
      ]
     },
     "metadata": {
      "needs_background": "light"
     },
     "output_type": "display_data"
    }
   ],
   "source": [
    "table = pd.pivot_table(wildCount, values='COUNTS', index=['YEAR','MONTH'],\n",
    "                       columns=['STATE'], aggfunc=np.sum,fill_value=0)\n",
    "fracCountMonthly = table.div(table.sum(axis=1), axis=0)\n",
    "display(fracCountMonthly)\n",
    "\n",
    "table = pd.pivot_table(wildCount, values='COUNTS', index=['YEAR'],\n",
    "                       columns=['STATE'], aggfunc=np.sum,fill_value=0)\n",
    "fracCountYearly = table.div(table.sum(axis=1), axis=0)\n",
    "display(fracCountYearly)\n",
    "\n",
    "meanSize = pd.pivot_table(dfWild, values='FIRE_SIZE', index=['YEAR'], aggfunc=np.mean, fill_value=0)\n",
    "display(meanSize)\n",
    "meanSize.plot()"
   ]
  },
  {
   "cell_type": "code",
   "execution_count": 182,
   "metadata": {},
   "outputs": [
    {
     "data": {
      "image/png": "[encoded data removed]",
      "text/plain": [
       "<Figure size 432x288 with 1 Axes>"
      ]
     },
     "metadata": {
      "needs_background": "light"
     },
     "output_type": "display_data"
    }
   ],
   "source": [
    "states = dfWild['STATE'].unique()\n",
    "for i in states:\n",
    "    dftest = dfWild[dfWild['STATE']==i]\n",
    "    grouped = dftest['STATE'].groupby([dftest['STAT_CAUSE_DESCR']]).count()\n",
    "    grouped.plot.bar()\n"
   ]
  },
  {
   "cell_type": "code",
   "execution_count": 121,
   "metadata": {
    "scrolled": true
   },
   "outputs": [
    {
     "data": {
      "image/png": "[encoded data removed]",
      "text/plain": [
       "<Figure size 432x288 with 2 Axes>"
      ]
     },
     "metadata": {
      "needs_background": "light"
     },
     "output_type": "display_data"
    }
   ],
   "source": [
    "avgtemp = dftemp.groupby([dftemp['Date'].dt.year])['TEMP'].mean()\n",
    "fig, ax1 = plt.subplots()\n",
    "\n",
    "wildfires = pd.pivot_table(wildCount, values='COUNTS', index=['YEAR'], aggfunc=np.sum,fill_value=0)\n",
    "color = 'tab:red'\n",
    "ax1.set_xlabel('time (y)')\n",
    "ax1.set_ylabel('Number of wildfires', color=color)\n",
    "ax1.plot(wildfires, color=color)\n",
    "ax1.tick_params(axis='y', labelcolor=color)\n",
    "\n",
    "ax2 = ax1.twinx()  # instantiate a second axes that shares the same x-axis\n",
    "\n",
    "color = 'tab:blue'\n",
    "ax2.set_ylabel('average yearly temperature (C)', color=color)  # we already handled the x-label with ax1\n",
    "ax2.plot(avgtemp, color=color)\n",
    "ax2.tick_params(axis='y', labelcolor=color)\n",
    "\n",
    "fig.tight_layout()  # otherwise the right y-label is slightly clipped\n",
    "plt.show()"
   ]
  },
  {
   "cell_type": "code",
   "execution_count": 226,
   "metadata": {
    "scrolled": true
   },
   "outputs": [
    {
     "data": {
      "text/plain": [
       "array(['Unnamed: 0', 'OBJECTID', 'FOD_ID', 'FPA_ID', 'SOURCE_SYSTEM_TYPE',\n",
       "       'SOURCE_SYSTEM', 'NWCG_REPORTING_AGENCY', 'NWCG_REPORTING_UNIT_ID',\n",
       "       'NWCG_REPORTING_UNIT_NAME', 'SOURCE_REPORTING_UNIT',\n",
       "       'SOURCE_REPORTING_UNIT_NAME', 'LOCAL_FIRE_REPORT_ID',\n",
       "       'LOCAL_INCIDENT_ID', 'FIRE_CODE', 'FIRE_NAME',\n",
       "       'ICS_209_INCIDENT_NUMBER', 'ICS_209_NAME', 'MTBS_ID',\n",
       "       'MTBS_FIRE_NAME', 'COMPLEX_NAME', 'FIRE_YEAR', 'DISCOVERY_DATE',\n",
       "       'DISCOVERY_DOY', 'DISCOVERY_TIME', 'STAT_CAUSE_CODE',\n",
       "       'STAT_CAUSE_DESCR', 'CONT_DATE', 'CONT_DOY', 'CONT_TIME',\n",
       "       'FIRE_SIZE', 'FIRE_SIZE_CLASS', 'LATITUDE', 'LONGITUDE',\n",
       "       'OWNER_CODE', 'OWNER_DESCR', 'STATE', 'COUNTY', 'FIPS_CODE',\n",
       "       'FIPS_NAME', 'Shape'], dtype=object)"
      ]
     },
     "metadata": {},
     "output_type": "display_data"
    }
   ],
   "source": [
    "# dfSmall.groupby('FIRE_SIZE_CLASS').STATE.value_counts().unstack().plot.barh()\n",
    "# plt.show()\n",
    "# plt.scatter(dfWild['LONGITUDE'], dfWild['LATITUDE'])\n",
    "# plt.show()"
   ]
  }
 ],
 "metadata": {
  "kernelspec": {
   "display_name": "Python 3",
   "language": "python",
   "name": "python3"
  },
  "language_info": {
   "codemirror_mode": {
    "name": "ipython",
    "version": 3
   },
   "file_extension": ".py",
   "mimetype": "text/x-python",
   "name": "python",
   "nbconvert_exporter": "python",
   "pygments_lexer": "ipython3",
   "version": "3.7.4"
  }
 },
 "nbformat": 4,
 "nbformat_minor": 2
}
