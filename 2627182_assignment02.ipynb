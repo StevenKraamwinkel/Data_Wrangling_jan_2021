{
 "cells": [
  {
   "cell_type": "markdown",
   "metadata": {},
   "source": [
    "# Assignment 2"
   ]
  },
  {
   "cell_type": "code",
   "execution_count": 73,
   "metadata": {
    "deletable": false,
    "editable": false,
    "nbgrader": {
     "cell_type": "code",
     "checksum": "40179ae9ed46a9e8640838d53bfaa7ad",
     "grade": false,
     "grade_id": "libraries",
     "locked": true,
     "schema_version": 3,
     "solution": false
    }
   },
   "outputs": [],
   "source": [
    "# read neccessary libraries\n",
    "import numpy as np\n",
    "import pandas as pd\n",
    "import matplotlib.pyplot as plt\n",
    "pd.options.display.max_rows = 20\n",
    "np.set_printoptions(precision = 4, suppress = True)"
   ]
  },
  {
   "cell_type": "markdown",
   "metadata": {},
   "source": [
    "### Customer database\n",
    "Given is a table *orders* with product orders, and a table *customers* with customer info. Merge the two tables together such that the remaining table only has orders for which customer info is available. Assign the final table to the variable *sales*."
   ]
  },
  {
   "cell_type": "code",
   "execution_count": 74,
   "metadata": {
    "deletable": false,
    "nbgrader": {
     "cell_type": "code",
     "checksum": "a984034ed43c27789019bf7645a2cb0b",
     "grade": false,
     "grade_id": "customers",
     "locked": false,
     "schema_version": 3,
     "solution": true
    }
   },
   "outputs": [],
   "source": [
    "orders = pd.DataFrame({'OrderID' : [1, 2, 3, 4, 5, 6, 7],\n",
    "                       'CustID' : [1, 4, 3, 4, 1, 4, 5], \n",
    "                       'Amount' : [23.20, 2.30, 12.93, 54.92, 6.12, 9.60, 70.56]})\n",
    "\n",
    "customers = pd.DataFrame({'ID' : [1, 2, 3, 4, 6], \n",
    "                          'First' : [\"Henk\", \"Petra\", \"Sjoerd\", \"Mieke\", \"Sandjai\"], \n",
    "                          'Last' : [\"Janssen\", \"de Klomp\", \"Vermeulen\", \"Sterk\", \"Bhulai\"],\n",
    "                          'City' : [\"Amsterdam\", \"Nijmegen\", \"Maastricht\", \"Amsterdam\", \"Diemen\"]})\n",
    "\n",
    "# YOUR CODE HERE\n",
    "\n",
    "customers2 = customers.set_index(['ID'])\n",
    "\n",
    "sales = orders.join(customers2, on='CustID')\n",
    "\n",
    "\n",
    "# YOUR CODE ENDS HERE"
   ]
  },
  {
   "cell_type": "code",
   "execution_count": 75,
   "metadata": {
    "deletable": false,
    "editable": false,
    "nbgrader": {
     "cell_type": "code",
     "checksum": "2ec202431f4bb458ed782837ec9c5db4",
     "grade": true,
     "grade_id": "customers_correct",
     "locked": true,
     "points": 1,
     "schema_version": 3,
     "solution": false
    }
   },
   "outputs": [
    {
     "data": {
      "text/html": [
       "<div>\n",
       "<style scoped>\n",
       "    .dataframe tbody tr th:only-of-type {\n",
       "        vertical-align: middle;\n",
       "    }\n",
       "\n",
       "    .dataframe tbody tr th {\n",
       "        vertical-align: top;\n",
       "    }\n",
       "\n",
       "    .dataframe thead th {\n",
       "        text-align: right;\n",
       "    }\n",
       "</style>\n",
       "<table border=\"1\" class=\"dataframe\">\n",
       "  <thead>\n",
       "    <tr style=\"text-align: right;\">\n",
       "      <th></th>\n",
       "      <th>OrderID</th>\n",
       "      <th>CustID</th>\n",
       "      <th>Amount</th>\n",
       "      <th>First</th>\n",
       "      <th>Last</th>\n",
       "      <th>City</th>\n",
       "    </tr>\n",
       "  </thead>\n",
       "  <tbody>\n",
       "    <tr>\n",
       "      <td>0</td>\n",
       "      <td>1</td>\n",
       "      <td>1</td>\n",
       "      <td>23.20</td>\n",
       "      <td>Henk</td>\n",
       "      <td>Janssen</td>\n",
       "      <td>Amsterdam</td>\n",
       "    </tr>\n",
       "    <tr>\n",
       "      <td>1</td>\n",
       "      <td>2</td>\n",
       "      <td>4</td>\n",
       "      <td>2.30</td>\n",
       "      <td>Mieke</td>\n",
       "      <td>Sterk</td>\n",
       "      <td>Amsterdam</td>\n",
       "    </tr>\n",
       "    <tr>\n",
       "      <td>2</td>\n",
       "      <td>3</td>\n",
       "      <td>3</td>\n",
       "      <td>12.93</td>\n",
       "      <td>Sjoerd</td>\n",
       "      <td>Vermeulen</td>\n",
       "      <td>Maastricht</td>\n",
       "    </tr>\n",
       "    <tr>\n",
       "      <td>3</td>\n",
       "      <td>4</td>\n",
       "      <td>4</td>\n",
       "      <td>54.92</td>\n",
       "      <td>Mieke</td>\n",
       "      <td>Sterk</td>\n",
       "      <td>Amsterdam</td>\n",
       "    </tr>\n",
       "    <tr>\n",
       "      <td>4</td>\n",
       "      <td>5</td>\n",
       "      <td>1</td>\n",
       "      <td>6.12</td>\n",
       "      <td>Henk</td>\n",
       "      <td>Janssen</td>\n",
       "      <td>Amsterdam</td>\n",
       "    </tr>\n",
       "    <tr>\n",
       "      <td>5</td>\n",
       "      <td>6</td>\n",
       "      <td>4</td>\n",
       "      <td>9.60</td>\n",
       "      <td>Mieke</td>\n",
       "      <td>Sterk</td>\n",
       "      <td>Amsterdam</td>\n",
       "    </tr>\n",
       "    <tr>\n",
       "      <td>6</td>\n",
       "      <td>7</td>\n",
       "      <td>5</td>\n",
       "      <td>70.56</td>\n",
       "      <td>NaN</td>\n",
       "      <td>NaN</td>\n",
       "      <td>NaN</td>\n",
       "    </tr>\n",
       "  </tbody>\n",
       "</table>\n",
       "</div>"
      ],
      "text/plain": [
       "   OrderID  CustID  Amount   First       Last        City\n",
       "0        1       1   23.20    Henk    Janssen   Amsterdam\n",
       "1        2       4    2.30   Mieke      Sterk   Amsterdam\n",
       "2        3       3   12.93  Sjoerd  Vermeulen  Maastricht\n",
       "3        4       4   54.92   Mieke      Sterk   Amsterdam\n",
       "4        5       1    6.12    Henk    Janssen   Amsterdam\n",
       "5        6       4    9.60   Mieke      Sterk   Amsterdam\n",
       "6        7       5   70.56     NaN        NaN         NaN"
      ]
     },
     "metadata": {},
     "output_type": "display_data"
    }
   ],
   "source": [
    "display(sales)"
   ]
  },
  {
   "cell_type": "markdown",
   "metadata": {},
   "source": [
    "The customer ID of \"Sandjai Bhulai\" is wrong. It should be 5 instead of 6. Correct the ID and calculate the sum of the sales values for each city. Assign the resulting table with only the total amount of sales to the variable *sales_per_city*."
   ]
  },
  {
   "cell_type": "code",
   "execution_count": 76,
   "metadata": {
    "deletable": false,
    "nbgrader": {
     "cell_type": "code",
     "checksum": "cee405e921d11fb59224c3f2328866ab",
     "grade": false,
     "grade_id": "sales_per_city",
     "locked": false,
     "schema_version": 3,
     "solution": true
    }
   },
   "outputs": [],
   "source": [
    "# YOUR CODE HERE\n",
    "\n",
    "customers.iloc[4,0] = 5\n",
    "customers2 = customers.set_index(['ID'])\n",
    "sales2 = orders.join(customers2, on='CustID')\n",
    "sales2\n",
    "\n",
    "city_values = sales2['Amount'].groupby(sales2['City'])\n",
    "sales_per_city = city_values.sum()\n",
    "\n",
    "# YOUR CODE ENDS HERE"
   ]
  },
  {
   "cell_type": "code",
   "execution_count": 77,
   "metadata": {
    "deletable": false,
    "editable": false,
    "nbgrader": {
     "cell_type": "code",
     "checksum": "130045b3baae83569f8369e9112b6eac",
     "grade": true,
     "grade_id": "sales_per_city-correct",
     "locked": true,
     "points": 1,
     "schema_version": 3,
     "solution": false
    }
   },
   "outputs": [
    {
     "name": "stdout",
     "output_type": "stream",
     "text": [
      "City\n",
      "Amsterdam     96.14\n",
      "Diemen        70.56\n",
      "Maastricht    12.93\n",
      "Name: Amount, dtype: float64\n"
     ]
    }
   ],
   "source": [
    "print(sales_per_city)"
   ]
  },
  {
   "cell_type": "markdown",
   "metadata": {},
   "source": [
    "From the *sales* dataframe, create a new dataframe with as first column the first name (*First*) and the second column the sales amount (*Amount*). Assign this to the variable *new_sales*. Then calculate the total sales amount per person and assign that to the variable *person*. Create a bar plot of the resulting dataframe."
   ]
  },
  {
   "cell_type": "code",
   "execution_count": 78,
   "metadata": {
    "deletable": false,
    "nbgrader": {
     "cell_type": "code",
     "checksum": "36868224b99c4b25bc05ab45ef541f15",
     "grade": false,
     "grade_id": "graph",
     "locked": false,
     "schema_version": 3,
     "solution": true
    }
   },
   "outputs": [
    {
     "data": {
      "image/png": "[encoded data removed]",
      "text/plain": [
       "<Figure size 432x288 with 1 Axes>"
      ]
     },
     "metadata": {
      "needs_background": "light"
     },
     "output_type": "display_data"
    }
   ],
   "source": [
    "# YOUR CODE HERE\n",
    "\n",
    "new_sales = sales2.filter(['First','Amount'], axis=1)\n",
    "new_sales\n",
    "\n",
    "sales_per_person = new_sales['Amount'].groupby(new_sales['First'])\n",
    "\n",
    "person = sales_per_person.sum()\n",
    "person\n",
    "\n",
    "y_pos = np.arange(len(sales_per_person))\n",
    "bars = ('Henk', 'Mieke', 'Sandjai', 'Sjoerd')\n",
    "plt.bar(y_pos, person)\n",
    "plt.xticks(y_pos, bars)\n",
    "plt.show()\n",
    "\n",
    "\n",
    "# YOUR CODE ENDS HERE"
   ]
  },
  {
   "cell_type": "code",
   "execution_count": 79,
   "metadata": {
    "deletable": false,
    "editable": false,
    "nbgrader": {
     "cell_type": "code",
     "checksum": "a715097b04b9de00676a85ff18fc07e7",
     "grade": true,
     "grade_id": "graph-correct",
     "locked": true,
     "points": 1,
     "schema_version": 3,
     "solution": false
    }
   },
   "outputs": [
    {
     "data": {
      "text/html": [
       "<div>\n",
       "<style scoped>\n",
       "    .dataframe tbody tr th:only-of-type {\n",
       "        vertical-align: middle;\n",
       "    }\n",
       "\n",
       "    .dataframe tbody tr th {\n",
       "        vertical-align: top;\n",
       "    }\n",
       "\n",
       "    .dataframe thead th {\n",
       "        text-align: right;\n",
       "    }\n",
       "</style>\n",
       "<table border=\"1\" class=\"dataframe\">\n",
       "  <thead>\n",
       "    <tr style=\"text-align: right;\">\n",
       "      <th></th>\n",
       "      <th>First</th>\n",
       "      <th>Amount</th>\n",
       "    </tr>\n",
       "  </thead>\n",
       "  <tbody>\n",
       "    <tr>\n",
       "      <td>0</td>\n",
       "      <td>Henk</td>\n",
       "      <td>23.20</td>\n",
       "    </tr>\n",
       "    <tr>\n",
       "      <td>1</td>\n",
       "      <td>Mieke</td>\n",
       "      <td>2.30</td>\n",
       "    </tr>\n",
       "    <tr>\n",
       "      <td>2</td>\n",
       "      <td>Sjoerd</td>\n",
       "      <td>12.93</td>\n",
       "    </tr>\n",
       "    <tr>\n",
       "      <td>3</td>\n",
       "      <td>Mieke</td>\n",
       "      <td>54.92</td>\n",
       "    </tr>\n",
       "    <tr>\n",
       "      <td>4</td>\n",
       "      <td>Henk</td>\n",
       "      <td>6.12</td>\n",
       "    </tr>\n",
       "    <tr>\n",
       "      <td>5</td>\n",
       "      <td>Mieke</td>\n",
       "      <td>9.60</td>\n",
       "    </tr>\n",
       "    <tr>\n",
       "      <td>6</td>\n",
       "      <td>Sandjai</td>\n",
       "      <td>70.56</td>\n",
       "    </tr>\n",
       "  </tbody>\n",
       "</table>\n",
       "</div>"
      ],
      "text/plain": [
       "     First  Amount\n",
       "0     Henk   23.20\n",
       "1    Mieke    2.30\n",
       "2   Sjoerd   12.93\n",
       "3    Mieke   54.92\n",
       "4     Henk    6.12\n",
       "5    Mieke    9.60\n",
       "6  Sandjai   70.56"
      ]
     },
     "metadata": {},
     "output_type": "display_data"
    }
   ],
   "source": [
    "display(new_sales)"
   ]
  },
  {
   "cell_type": "markdown",
   "metadata": {},
   "source": [
    "### Course grades\n",
    "The text that is listed below misses a separator between the courses and the grades. Create a regular expression to extract all the grades from the text and assign that value to the variable *avg_grade*. Note that you may have to cast the numbers (that are represented as strings) to floating point numbers."
   ]
  },
  {
   "cell_type": "code",
   "execution_count": 80,
   "metadata": {
    "deletable": false,
    "nbgrader": {
     "cell_type": "code",
     "checksum": "88273d209954a6cc9e20dd85b1d3d928",
     "grade": false,
     "grade_id": "grade",
     "locked": false,
     "schema_version": 3,
     "solution": true
    }
   },
   "outputs": [],
   "source": [
    "import re\n",
    "text = \"\"\"Data_wrangling8.5\n",
    "Machine_learning9.0\n",
    "Advanced_machine_learning8.0\n",
    "Reinforcement_learning7.5\n",
    "\"\"\"\n",
    "\n",
    "# YOUR CODE HERE\n",
    "\n",
    "a = re.findall(r'\\d+\\.\\d+', text)\n",
    "pattern = r'[A-Z0-9._%+-]+@[A-Z0-9.-]+\\.[A-Z]{2,4}'\n",
    "\n",
    "# YOUR CODE ENDS HERE\n",
    "\n",
    "regex = re.compile(pattern, flags=re.IGNORECASE)\n",
    "result = regex.findall(text)\n",
    "\n",
    "\n",
    "# YOUR CODE HERE\n",
    "\n",
    "grades_sum = sum(map(float,a))\n",
    "avg_grade = grades_sum / len(a)\n",
    "\n",
    "\n",
    "# YOUR CODE ENDS HERE"
   ]
  },
  {
   "cell_type": "code",
   "execution_count": 81,
   "metadata": {
    "deletable": false,
    "editable": false,
    "nbgrader": {
     "cell_type": "code",
     "checksum": "8d56b282c0cf495ee6032443f2c84898",
     "grade": true,
     "grade_id": "grade-correct",
     "locked": true,
     "points": 1,
     "schema_version": 3,
     "solution": false
    }
   },
   "outputs": [
    {
     "name": "stdout",
     "output_type": "stream",
     "text": [
      "8.25\n"
     ]
    }
   ],
   "source": [
    "print(avg_grade)"
   ]
  },
  {
   "cell_type": "markdown",
   "metadata": {},
   "source": [
    "### E-mail\n",
    "Consider the following excerpt from an email. Write a regular expression that extracts the sender, recipient and the subject from the email."
   ]
  },
  {
   "cell_type": "code",
   "execution_count": 82,
   "metadata": {
    "deletable": false,
    "nbgrader": {
     "cell_type": "code",
     "checksum": "e507d8d68cde3d191fed4d29f64baacd",
     "grade": false,
     "grade_id": "email",
     "locked": false,
     "schema_version": 3,
     "solution": true
    }
   },
   "outputs": [
    {
     "ename": "AttributeError",
     "evalue": "'NoneType' object has no attribute 'groups'",
     "output_type": "error",
     "traceback": [
      "\u001b[0;31m---------------------------------------------------------------------------\u001b[0m",
      "\u001b[0;31mAttributeError\u001b[0m                            Traceback (most recent call last)",
      "\u001b[0;32m<ipython-input-82-4936af582687>\u001b[0m in \u001b[0;36m<module>\u001b[0;34m\u001b[0m\n\u001b[1;32m     24\u001b[0m \u001b[0;34m\u001b[0m\u001b[0m\n\u001b[1;32m     25\u001b[0m \u001b[0mregex\u001b[0m \u001b[0;34m=\u001b[0m \u001b[0mre\u001b[0m\u001b[0;34m.\u001b[0m\u001b[0mcompile\u001b[0m\u001b[0;34m(\u001b[0m\u001b[0mpattern\u001b[0m\u001b[0;34m,\u001b[0m \u001b[0mflags\u001b[0m\u001b[0;34m=\u001b[0m\u001b[0mre\u001b[0m\u001b[0;34m.\u001b[0m\u001b[0mIGNORECASE\u001b[0m\u001b[0;34m)\u001b[0m\u001b[0;34m\u001b[0m\u001b[0;34m\u001b[0m\u001b[0m\n\u001b[0;32m---> 26\u001b[0;31m \u001b[0mresult\u001b[0m \u001b[0;34m=\u001b[0m \u001b[0mregex\u001b[0m\u001b[0;34m.\u001b[0m\u001b[0mmatch\u001b[0m\u001b[0;34m(\u001b[0m\u001b[0mtext\u001b[0m\u001b[0;34m)\u001b[0m\u001b[0;34m.\u001b[0m\u001b[0mgroups\u001b[0m\u001b[0;34m(\u001b[0m\u001b[0;34m)\u001b[0m\u001b[0;34m\u001b[0m\u001b[0;34m\u001b[0m\u001b[0m\n\u001b[0m",
      "\u001b[0;31mAttributeError\u001b[0m: 'NoneType' object has no attribute 'groups'"
     ]
    }
   ],
   "source": [
    "import re\n",
    "text = \"\"\"From: Sandjai\n",
    "To: the students following data wrangling\n",
    "Subject: well done!\n",
    "Body: I congratulate you all with mastering regular expressions.\n",
    "It is a tough subject to learn. Good job.\n",
    "\"\"\"\n",
    "\n",
    "# YOUR CODE HERE\n",
    "groups = re.split(': |\\n',text)\n",
    "groups\n",
    "\n",
    "pattern = r'From: (.+)\\s*To: (.+)\\s*Body: (.+)\\s*'\n",
    "#pattern = r'[A-Z0-9._%+-]+@[A-Z0-9.-]+\\.[A-Z]{2,4}'\n",
    "pattern = r'From: (.+)\\s*To: (.+)\\s*Body: (.+)\\s*'\n",
    "\n",
    "\n",
    "\n",
    "groups\n",
    "\n",
    "\n",
    "\n",
    "# YOUR CODE ENDS HERE\n",
    "\n",
    "regex = re.compile(pattern, flags=re.IGNORECASE)\n",
    "result = regex.match(text).groups()"
   ]
  },
  {
   "cell_type": "code",
   "execution_count": 83,
   "metadata": {
    "deletable": false,
    "editable": false,
    "nbgrader": {
     "cell_type": "code",
     "checksum": "7e316c7c75aa39c24b870f58efa31c5b",
     "grade": true,
     "grade_id": "email-correct",
     "locked": true,
     "points": 1,
     "schema_version": 3,
     "solution": false
    }
   },
   "outputs": [
    {
     "ename": "IndexError",
     "evalue": "list index out of range",
     "output_type": "error",
     "traceback": [
      "\u001b[0;31m---------------------------------------------------------------------------\u001b[0m",
      "\u001b[0;31mIndexError\u001b[0m                                Traceback (most recent call last)",
      "\u001b[0;32m<ipython-input-83-168b6c2db4aa>\u001b[0m in \u001b[0;36m<module>\u001b[0;34m\u001b[0m\n\u001b[0;32m----> 1\u001b[0;31m \u001b[0mprint\u001b[0m\u001b[0;34m(\u001b[0m\u001b[0;34m'{} says \"{}\" to {}'\u001b[0m\u001b[0;34m.\u001b[0m\u001b[0mformat\u001b[0m\u001b[0;34m(\u001b[0m\u001b[0mresult\u001b[0m\u001b[0;34m[\u001b[0m\u001b[0;36m0\u001b[0m\u001b[0;34m]\u001b[0m\u001b[0;34m,\u001b[0m \u001b[0mresult\u001b[0m\u001b[0;34m[\u001b[0m\u001b[0;36m2\u001b[0m\u001b[0;34m]\u001b[0m\u001b[0;34m,\u001b[0m \u001b[0mresult\u001b[0m\u001b[0;34m[\u001b[0m\u001b[0;36m1\u001b[0m\u001b[0;34m]\u001b[0m\u001b[0;34m)\u001b[0m\u001b[0;34m)\u001b[0m\u001b[0;34m\u001b[0m\u001b[0;34m\u001b[0m\u001b[0m\n\u001b[0m",
      "\u001b[0;31mIndexError\u001b[0m: list index out of range"
     ]
    }
   ],
   "source": [
    "print('{} says \"{}\" to {}'.format(result[0], result[2], result[1]))"
   ]
  },
  {
   "cell_type": "markdown",
   "metadata": {},
   "source": [
    "### Orange juice\n",
    "The file below contains sales data on three brands of orange juice over different weeks over different stores. Find out which store number has the highest and lowest mean income (using the variable *INCOME*). Assign the store numbers to the variables *max_store* and *min_store*, respectively.\n"
   ]
  },
  {
   "cell_type": "code",
   "execution_count": 84,
   "metadata": {
    "deletable": false,
    "nbgrader": {
     "cell_type": "code",
     "checksum": "5944abb611b0a05f1753dff698c87e41",
     "grade": false,
     "grade_id": "best-stores",
     "locked": false,
     "schema_version": 3,
     "solution": true
    }
   },
   "outputs": [
    {
     "data": {
      "text/html": [
       "<div>\n",
       "<style scoped>\n",
       "    .dataframe tbody tr th:only-of-type {\n",
       "        vertical-align: middle;\n",
       "    }\n",
       "\n",
       "    .dataframe tbody tr th {\n",
       "        vertical-align: top;\n",
       "    }\n",
       "\n",
       "    .dataframe thead th {\n",
       "        text-align: right;\n",
       "    }\n",
       "</style>\n",
       "<table border=\"1\" class=\"dataframe\">\n",
       "  <thead>\n",
       "    <tr style=\"text-align: right;\">\n",
       "      <th></th>\n",
       "      <th>store</th>\n",
       "      <th>INCOME</th>\n",
       "    </tr>\n",
       "  </thead>\n",
       "  <tbody>\n",
       "    <tr>\n",
       "      <td>0</td>\n",
       "      <td>2</td>\n",
       "      <td>10.553205</td>\n",
       "    </tr>\n",
       "    <tr>\n",
       "      <td>1</td>\n",
       "      <td>5</td>\n",
       "      <td>10.922371</td>\n",
       "    </tr>\n",
       "    <tr>\n",
       "      <td>2</td>\n",
       "      <td>8</td>\n",
       "      <td>10.597010</td>\n",
       "    </tr>\n",
       "    <tr>\n",
       "      <td>3</td>\n",
       "      <td>9</td>\n",
       "      <td>10.787152</td>\n",
       "    </tr>\n",
       "    <tr>\n",
       "      <td>4</td>\n",
       "      <td>12</td>\n",
       "      <td>9.996659</td>\n",
       "    </tr>\n",
       "    <tr>\n",
       "      <td>...</td>\n",
       "      <td>...</td>\n",
       "      <td>...</td>\n",
       "    </tr>\n",
       "    <tr>\n",
       "      <td>78</td>\n",
       "      <td>130</td>\n",
       "      <td>9.966650</td>\n",
       "    </tr>\n",
       "    <tr>\n",
       "      <td>79</td>\n",
       "      <td>131</td>\n",
       "      <td>10.793537</td>\n",
       "    </tr>\n",
       "    <tr>\n",
       "      <td>80</td>\n",
       "      <td>132</td>\n",
       "      <td>10.619154</td>\n",
       "    </tr>\n",
       "    <tr>\n",
       "      <td>81</td>\n",
       "      <td>134</td>\n",
       "      <td>10.722518</td>\n",
       "    </tr>\n",
       "    <tr>\n",
       "      <td>82</td>\n",
       "      <td>137</td>\n",
       "      <td>10.966490</td>\n",
       "    </tr>\n",
       "  </tbody>\n",
       "</table>\n",
       "<p>83 rows × 2 columns</p>\n",
       "</div>"
      ],
      "text/plain": [
       "    store     INCOME\n",
       "0       2  10.553205\n",
       "1       5  10.922371\n",
       "2       8  10.597010\n",
       "3       9  10.787152\n",
       "4      12   9.996659\n",
       "..    ...        ...\n",
       "78    130   9.966650\n",
       "79    131  10.793537\n",
       "80    132  10.619154\n",
       "81    134  10.722518\n",
       "82    137  10.966490\n",
       "\n",
       "[83 rows x 2 columns]"
      ]
     },
     "execution_count": 84,
     "metadata": {},
     "output_type": "execute_result"
    }
   ],
   "source": [
    "oj = pd.read_csv('oj.csv')\n",
    "\n",
    "# YOUR CODE HERE\n",
    "#store_income = oj['INCOME'].groupby(oj['store']).mean().reset_index().set_index('store')\n",
    "store_income = oj['INCOME'].groupby(oj['store']).mean().reset_index()\n",
    "store_income\n",
    "\n",
    "maxi_store = store_income.loc[store_income['INCOME'].idxmax()]\n",
    "mini_store = store_income.loc[store_income['INCOME'].idxmin()]\n",
    "\n",
    "max_store = int(maxi_store['store'])\n",
    "min_store = int(mini_store['store'])\n",
    "store_income\n",
    "\n",
    "# YOUR CODE ENDS HERE"
   ]
  },
  {
   "cell_type": "code",
   "execution_count": 85,
   "metadata": {
    "deletable": false,
    "editable": false,
    "nbgrader": {
     "cell_type": "code",
     "checksum": "7c678320cd306e24b318018357aba46b",
     "grade": true,
     "grade_id": "unique-categories-correct",
     "locked": true,
     "points": 1,
     "schema_version": 3,
     "solution": false
    }
   },
   "outputs": [
    {
     "name": "stdout",
     "output_type": "stream",
     "text": [
      "Store number of highest mean income: 62\n",
      "Store number of lowest mean income : 75\n"
     ]
    }
   ],
   "source": [
    "print(\"Store number of highest mean income: {}\".format(max_store))\n",
    "print(\"Store number of lowest mean income : {}\".format(min_store))"
   ]
  },
  {
   "cell_type": "markdown",
   "metadata": {},
   "source": [
    "Create a dataframe with two rows (one for the best store *max_store*, and one for the worst store *min_store*). The columns are the weeks *week* of the orange juice dataset. The values in the dataframe are the sum of the sales (*logmove*) of all three brands. Assign the dataframe to the variable *store_sales*. Then create a plot of the sales with on the x-axis the weeks, and on the y-axis the sum of the sales (the sum of the *logmove*)."
   ]
  },
  {
   "cell_type": "code",
   "execution_count": 86,
   "metadata": {
    "deletable": false,
    "nbgrader": {
     "cell_type": "code",
     "checksum": "aee759a114b210458c934442d90f1507",
     "grade": false,
     "grade_id": "store-analysis",
     "locked": false,
     "schema_version": 3,
     "solution": true
    }
   },
   "outputs": [
    {
     "data": {
      "text/plain": [
       "[<matplotlib.lines.Line2D at 0x1168b9a10>]"
      ]
     },
     "execution_count": 86,
     "metadata": {},
     "output_type": "execute_result"
    },
    {
     "data": {
      "image/png": "[encoded data removed]",
      "text/plain": [
       "<Figure size 432x288 with 1 Axes>"
      ]
     },
     "metadata": {
      "needs_background": "light"
     },
     "output_type": "display_data"
    }
   ],
   "source": [
    "# YOUR CODE HERE\n",
    "oj = pd.read_csv('oj.csv')\n",
    "\n",
    "storemax_sales = oj.loc[oj['store']==int(maxi_store['store'])]  #with code from previous question activated\n",
    "storemax_sales\n",
    "\n",
    "#STORE_MAX_LOGMOVES FROM TROPICANA\n",
    "storemax_tropicana_data = storemax_sales.loc[storemax_sales['brand']=='tropicana']\n",
    "storemax_tropicana_logs = storemax_tropicana_data['logmove'].reset_index()\n",
    "storemax_tropicana_logs\n",
    "\n",
    "#STOREMAX_LOGMOVES FROM MINUTE_MAID\n",
    "storemax_minutemaid_data = storemax_sales.loc[storemax_sales['brand']=='minute.maid']\n",
    "storemax_minutemaid_logs = storemax_minutemaid_data['logmove'].reset_index()\n",
    "storemax_minutemaid_logs\n",
    "\n",
    "#STOREMAX_LOGMOVES FROM DOMINICKS\n",
    "storemax_dominicks_data = storemax_sales.loc[storemax_sales['brand']=='dominicks']\n",
    "storemax_dominicks_logs = storemax_dominicks_data['logmove'].reset_index()\n",
    "storemax_dominicks_logs\n",
    "\n",
    "#STOREMAX_SUM OF LOGMOVES\n",
    "sum_of_logmoves = storemax_tropicana_logs + storemax_minutemaid_logs + storemax_dominicks_logs\n",
    "weeks_max = sum_of_logmoves['logmove']\n",
    "\n",
    "\n",
    "storemin_sales = oj.loc[oj['store']==int(mini_store['store'])] #with code from previous question activated\n",
    "storemin_sales\n",
    "\n",
    "#STORE_MIN_LOGMOVES FROM TROPICANA\n",
    "storemin_tropicana_data = storemin_sales.loc[storemin_sales['brand']=='tropicana']\n",
    "storemin_tropicana_logs = storemin_tropicana_data['logmove'].reset_index()\n",
    "storemin_tropicana_logs\n",
    "\n",
    "#STOREMIN_LOGMOVES FROM MINUTE_MAID\n",
    "storemin_minutemaid_data = storemin_sales.loc[storemin_sales['brand']=='minute.maid']\n",
    "storemin_minutemaid_logs = storemin_minutemaid_data['logmove'].reset_index()\n",
    "storemin_minutemaid_logs\n",
    "\n",
    "#STOREMIN_LOGMOVES FROM DOMINICKS\n",
    "storemin_dominicks_data = storemin_sales.loc[storemin_sales['brand']=='dominicks']\n",
    "storemin_dominicks_logs = storemin_dominicks_data['logmove'].reset_index()\n",
    "storemin_dominicks_logs\n",
    "\n",
    "#STOREMIN_SUM OF LOGMOVES\n",
    "sum_of_logmoves2 = storemin_tropicana_logs + storemin_minutemaid_logs + storemin_dominicks_logs\n",
    "weeks_min = sum_of_logmoves2['logmove']\n",
    "\n",
    "\n",
    "#DATAFRAME_SALES\n",
    "#ALL WEEKS\n",
    "dataweeks = oj['week'].unique()\n",
    "#sorted_weeks= np.sort(dataweeks)\n",
    "#sorted_weeks\n",
    "\n",
    "store_sales = pd.DataFrame([weeks_max,weeks_min], columns=dataweeks , index=[max_store, min_store])\n",
    "store_sales\n",
    "\n",
    "#PLOT_OF_THE_SALES\n",
    "weeks = storemax_sales['week']\n",
    "#sum_of_the_sales = storemax_sales['logmove']\n",
    "weeks2 = storemin_sales['week']\n",
    "#sum_of_the_sales2 = storemin_sales['logmove']\n",
    "\n",
    "max_weeks = storemax_sales['week'].unique()\n",
    "min_weeks = storemin_sales['week'].unique()\n",
    "\n",
    "plt.plot(max_weeks, weeks_max)\n",
    "plt.plot(min_weeks, weeks_min)\n",
    "\n",
    "\n",
    "# YOUR CODE ENDS HERE"
   ]
  },
  {
   "cell_type": "code",
   "execution_count": 87,
   "metadata": {
    "deletable": false,
    "editable": false,
    "nbgrader": {
     "cell_type": "code",
     "checksum": "7a4900a720c240365e8de2581cb2e72a",
     "grade": true,
     "grade_id": "store-analysis-correct",
     "locked": true,
     "points": 1,
     "schema_version": 3,
     "solution": false
    }
   },
   "outputs": [
    {
     "data": {
      "text/html": [
       "<div>\n",
       "<style scoped>\n",
       "    .dataframe tbody tr th:only-of-type {\n",
       "        vertical-align: middle;\n",
       "    }\n",
       "\n",
       "    .dataframe tbody tr th {\n",
       "        vertical-align: top;\n",
       "    }\n",
       "\n",
       "    .dataframe thead th {\n",
       "        text-align: right;\n",
       "    }\n",
       "</style>\n",
       "<table border=\"1\" class=\"dataframe\">\n",
       "  <thead>\n",
       "    <tr style=\"text-align: right;\">\n",
       "      <th></th>\n",
       "      <th>40</th>\n",
       "      <th>46</th>\n",
       "      <th>47</th>\n",
       "      <th>48</th>\n",
       "      <th>50</th>\n",
       "      <th>51</th>\n",
       "      <th>52</th>\n",
       "      <th>53</th>\n",
       "      <th>54</th>\n",
       "      <th>57</th>\n",
       "      <th>...</th>\n",
       "      <th>43</th>\n",
       "      <th>44</th>\n",
       "      <th>49</th>\n",
       "      <th>55</th>\n",
       "      <th>56</th>\n",
       "      <th>96</th>\n",
       "      <th>101</th>\n",
       "      <th>102</th>\n",
       "      <th>41</th>\n",
       "      <th>45</th>\n",
       "    </tr>\n",
       "  </thead>\n",
       "  <tbody>\n",
       "    <tr>\n",
       "      <td>62</td>\n",
       "      <td>29.119720</td>\n",
       "      <td>26.757236</td>\n",
       "      <td>26.878145</td>\n",
       "      <td>27.955102</td>\n",
       "      <td>25.729002</td>\n",
       "      <td>28.553553</td>\n",
       "      <td>27.743817</td>\n",
       "      <td>28.635134</td>\n",
       "      <td>28.366555</td>\n",
       "      <td>29.244589</td>\n",
       "      <td>...</td>\n",
       "      <td>29.743613</td>\n",
       "      <td>24.239298</td>\n",
       "      <td>25.452251</td>\n",
       "      <td>27.952974</td>\n",
       "      <td>26.406083</td>\n",
       "      <td>26.838147</td>\n",
       "      <td>27.586089</td>\n",
       "      <td>25.084718</td>\n",
       "      <td>27.087575</td>\n",
       "      <td>24.388505</td>\n",
       "    </tr>\n",
       "    <tr>\n",
       "      <td>75</td>\n",
       "      <td>28.433475</td>\n",
       "      <td>27.886575</td>\n",
       "      <td>27.893954</td>\n",
       "      <td>27.556373</td>\n",
       "      <td>27.219924</td>\n",
       "      <td>28.462502</td>\n",
       "      <td>29.438707</td>\n",
       "      <td>28.831454</td>\n",
       "      <td>27.287507</td>\n",
       "      <td>28.131749</td>\n",
       "      <td>...</td>\n",
       "      <td>28.406469</td>\n",
       "      <td>31.123335</td>\n",
       "      <td>29.390170</td>\n",
       "      <td>25.607980</td>\n",
       "      <td>29.519349</td>\n",
       "      <td>26.840124</td>\n",
       "      <td>27.048585</td>\n",
       "      <td>27.983038</td>\n",
       "      <td>31.218318</td>\n",
       "      <td>25.502114</td>\n",
       "    </tr>\n",
       "  </tbody>\n",
       "</table>\n",
       "<p>2 rows × 121 columns</p>\n",
       "</div>"
      ],
      "text/plain": [
       "          40         46         47         48         50         51   \\\n",
       "62  29.119720  26.757236  26.878145  27.955102  25.729002  28.553553   \n",
       "75  28.433475  27.886575  27.893954  27.556373  27.219924  28.462502   \n",
       "\n",
       "          52         53         54         57   ...        43         44   \\\n",
       "62  27.743817  28.635134  28.366555  29.244589  ...  29.743613  24.239298   \n",
       "75  29.438707  28.831454  27.287507  28.131749  ...  28.406469  31.123335   \n",
       "\n",
       "          49         55         56         96         101        102  \\\n",
       "62  25.452251  27.952974  26.406083  26.838147  27.586089  25.084718   \n",
       "75  29.390170  25.607980  29.519349  26.840124  27.048585  27.983038   \n",
       "\n",
       "          41         45   \n",
       "62  27.087575  24.388505  \n",
       "75  31.218318  25.502114  \n",
       "\n",
       "[2 rows x 121 columns]"
      ]
     },
     "metadata": {},
     "output_type": "display_data"
    }
   ],
   "source": [
    "display(store_sales)"
   ]
  },
  {
   "cell_type": "markdown",
   "metadata": {},
   "source": [
    "The previous picture does not explain why the best store does better than the worst store. Let us study if the price influences the sales. Prepare a dataframe with two columns (the column *price* and the column *logmove*), with records only related to *max_store*. Assign this dataframe to variable *oj1*. Also create a table with the *price* and *logmove* with only records for store *min_store*. Assign this dataframe to variable *oj2*. "
   ]
  },
  {
   "cell_type": "code",
   "execution_count": 88,
   "metadata": {
    "deletable": false,
    "nbgrader": {
     "cell_type": "code",
     "checksum": "94fd966cbf853439c7a216e5185d0a18",
     "grade": false,
     "grade_id": "regression",
     "locked": false,
     "schema_version": 3,
     "solution": true
    }
   },
   "outputs": [
    {
     "name": "stdout",
     "output_type": "stream",
     "text": [
      "const    9.153937\n",
      "price   -0.014614\n",
      "dtype: float64\n",
      "const    10.876949\n",
      "price    -0.672225\n",
      "dtype: float64\n"
     ]
    },
    {
     "name": "stderr",
     "output_type": "stream",
     "text": [
      "/Users/stevenkraamwinkel/.local/lib/python3.7/site-packages/numpy/core/fromnumeric.py:2542: FutureWarning: Method .ptp is deprecated and will be removed in a future version. Use numpy.ptp instead.\n",
      "  return ptp(axis=axis, out=out, **kwargs)\n"
     ]
    }
   ],
   "source": [
    "import statsmodels.api as sm\n",
    "\n",
    "# YOUR CODE HERE\n",
    "\n",
    "#DATAFRAME MAX_STORE\n",
    "max_data = storemax_sales\n",
    "\n",
    "price_max = max_data['price']\n",
    "logmove_max = max_data['logmove']\n",
    "price_max\n",
    "logmove_max\n",
    "max_data #shows all data from max_store\n",
    "\n",
    "oj1 = pd.DataFrame({'price' : price_max, 'logmove' : logmove_max})\n",
    "\n",
    "\n",
    "#DATAFRAME MIN_STORE\n",
    "min_data = storemin_sales\n",
    "\n",
    "price_min = min_data['price']\n",
    "logmove_min = min_data['logmove']\n",
    "price_min\n",
    "logmove_min\n",
    "min_data #shows all data from min_store\n",
    "\n",
    "oj2 = pd.DataFrame({'price' : price_min, 'logmove' : logmove_min})\n",
    "\n",
    "\n",
    "\n",
    "# YOUR CODE ENDS HERE\n",
    "\n",
    "fit1 = sm.OLS(oj1['logmove'], sm.add_constant(oj1['price'])).fit()\n",
    "fit2 = sm.OLS(oj2['logmove'], sm.add_constant(oj2['price'])).fit()\n",
    "\n",
    "print(fit1.params)\n",
    "print(fit2.params)"
   ]
  },
  {
   "cell_type": "code",
   "execution_count": 89,
   "metadata": {
    "deletable": false,
    "editable": false,
    "nbgrader": {
     "cell_type": "code",
     "checksum": "81a95b3e40be40405e4f0b2dfa9645fb",
     "grade": true,
     "grade_id": "regression-correct",
     "locked": true,
     "points": 1,
     "schema_version": 3,
     "solution": false
    }
   },
   "outputs": [
    {
     "data": {
      "text/html": [
       "<div>\n",
       "<style scoped>\n",
       "    .dataframe tbody tr th:only-of-type {\n",
       "        vertical-align: middle;\n",
       "    }\n",
       "\n",
       "    .dataframe tbody tr th {\n",
       "        vertical-align: top;\n",
       "    }\n",
       "\n",
       "    .dataframe thead th {\n",
       "        text-align: right;\n",
       "    }\n",
       "</style>\n",
       "<table border=\"1\" class=\"dataframe\">\n",
       "  <thead>\n",
       "    <tr style=\"text-align: right;\">\n",
       "      <th></th>\n",
       "      <th>price</th>\n",
       "      <th>logmove</th>\n",
       "    </tr>\n",
       "  </thead>\n",
       "  <tbody>\n",
       "    <tr>\n",
       "      <td>8373</td>\n",
       "      <td>3.87</td>\n",
       "      <td>9.373819</td>\n",
       "    </tr>\n",
       "    <tr>\n",
       "      <td>8374</td>\n",
       "      <td>3.87</td>\n",
       "      <td>9.368369</td>\n",
       "    </tr>\n",
       "    <tr>\n",
       "      <td>8375</td>\n",
       "      <td>3.87</td>\n",
       "      <td>9.570529</td>\n",
       "    </tr>\n",
       "    <tr>\n",
       "      <td>8376</td>\n",
       "      <td>3.87</td>\n",
       "      <td>9.400630</td>\n",
       "    </tr>\n",
       "    <tr>\n",
       "      <td>8377</td>\n",
       "      <td>3.87</td>\n",
       "      <td>9.329367</td>\n",
       "    </tr>\n",
       "    <tr>\n",
       "      <td>...</td>\n",
       "      <td>...</td>\n",
       "      <td>...</td>\n",
       "    </tr>\n",
       "    <tr>\n",
       "      <td>8719</td>\n",
       "      <td>2.09</td>\n",
       "      <td>7.491088</td>\n",
       "    </tr>\n",
       "    <tr>\n",
       "      <td>8720</td>\n",
       "      <td>1.94</td>\n",
       "      <td>7.714231</td>\n",
       "    </tr>\n",
       "    <tr>\n",
       "      <td>8721</td>\n",
       "      <td>1.94</td>\n",
       "      <td>8.236421</td>\n",
       "    </tr>\n",
       "    <tr>\n",
       "      <td>8722</td>\n",
       "      <td>1.49</td>\n",
       "      <td>10.157820</td>\n",
       "    </tr>\n",
       "    <tr>\n",
       "      <td>8723</td>\n",
       "      <td>1.94</td>\n",
       "      <td>8.743851</td>\n",
       "    </tr>\n",
       "  </tbody>\n",
       "</table>\n",
       "<p>351 rows × 2 columns</p>\n",
       "</div>"
      ],
      "text/plain": [
       "      price    logmove\n",
       "8373   3.87   9.373819\n",
       "8374   3.87   9.368369\n",
       "8375   3.87   9.570529\n",
       "8376   3.87   9.400630\n",
       "8377   3.87   9.329367\n",
       "...     ...        ...\n",
       "8719   2.09   7.491088\n",
       "8720   1.94   7.714231\n",
       "8721   1.94   8.236421\n",
       "8722   1.49  10.157820\n",
       "8723   1.94   8.743851\n",
       "\n",
       "[351 rows x 2 columns]"
      ]
     },
     "metadata": {},
     "output_type": "display_data"
    },
    {
     "data": {
      "text/html": [
       "<div>\n",
       "<style scoped>\n",
       "    .dataframe tbody tr th:only-of-type {\n",
       "        vertical-align: middle;\n",
       "    }\n",
       "\n",
       "    .dataframe tbody tr th {\n",
       "        vertical-align: top;\n",
       "    }\n",
       "\n",
       "    .dataframe thead th {\n",
       "        text-align: right;\n",
       "    }\n",
       "</style>\n",
       "<table border=\"1\" class=\"dataframe\">\n",
       "  <thead>\n",
       "    <tr style=\"text-align: right;\">\n",
       "      <th></th>\n",
       "      <th>price</th>\n",
       "      <th>logmove</th>\n",
       "    </tr>\n",
       "  </thead>\n",
       "  <tbody>\n",
       "    <tr>\n",
       "      <td>11490</td>\n",
       "      <td>3.87</td>\n",
       "      <td>8.971067</td>\n",
       "    </tr>\n",
       "    <tr>\n",
       "      <td>11491</td>\n",
       "      <td>3.87</td>\n",
       "      <td>8.392990</td>\n",
       "    </tr>\n",
       "    <tr>\n",
       "      <td>11492</td>\n",
       "      <td>3.87</td>\n",
       "      <td>9.018695</td>\n",
       "    </tr>\n",
       "    <tr>\n",
       "      <td>11493</td>\n",
       "      <td>3.87</td>\n",
       "      <td>8.624791</td>\n",
       "    </tr>\n",
       "    <tr>\n",
       "      <td>11494</td>\n",
       "      <td>3.87</td>\n",
       "      <td>8.476371</td>\n",
       "    </tr>\n",
       "    <tr>\n",
       "      <td>...</td>\n",
       "      <td>...</td>\n",
       "      <td>...</td>\n",
       "    </tr>\n",
       "    <tr>\n",
       "      <td>11839</td>\n",
       "      <td>1.97</td>\n",
       "      <td>8.528331</td>\n",
       "    </tr>\n",
       "    <tr>\n",
       "      <td>11840</td>\n",
       "      <td>1.94</td>\n",
       "      <td>8.868413</td>\n",
       "    </tr>\n",
       "    <tr>\n",
       "      <td>11841</td>\n",
       "      <td>1.68</td>\n",
       "      <td>9.510741</td>\n",
       "    </tr>\n",
       "    <tr>\n",
       "      <td>11842</td>\n",
       "      <td>1.49</td>\n",
       "      <td>10.806571</td>\n",
       "    </tr>\n",
       "    <tr>\n",
       "      <td>11843</td>\n",
       "      <td>1.71</td>\n",
       "      <td>9.436998</td>\n",
       "    </tr>\n",
       "  </tbody>\n",
       "</table>\n",
       "<p>354 rows × 2 columns</p>\n",
       "</div>"
      ],
      "text/plain": [
       "       price    logmove\n",
       "11490   3.87   8.971067\n",
       "11491   3.87   8.392990\n",
       "11492   3.87   9.018695\n",
       "11493   3.87   8.624791\n",
       "11494   3.87   8.476371\n",
       "...      ...        ...\n",
       "11839   1.97   8.528331\n",
       "11840   1.94   8.868413\n",
       "11841   1.68   9.510741\n",
       "11842   1.49  10.806571\n",
       "11843   1.71   9.436998\n",
       "\n",
       "[354 rows x 2 columns]"
      ]
     },
     "metadata": {},
     "output_type": "display_data"
    }
   ],
   "source": [
    "display(oj1, oj2)"
   ]
  },
  {
   "cell_type": "markdown",
   "metadata": {},
   "source": [
    "The previous analysis explains the difference between the two stores. The best store has almost no sensitivity to the price. The worst store has a high negative sensitivity to the price. Hence, the best store can charge higher prices than the worst store.\n",
    "\n",
    "Let us now see which brand is the most popular. Create a dataframe in with the three brands (*brand*) and the total number of the sales (sum of *logmove*). Assign the result to the variable *brand_sales*."
   ]
  },
  {
   "cell_type": "code",
   "execution_count": 90,
   "metadata": {
    "deletable": false,
    "nbgrader": {
     "cell_type": "code",
     "checksum": "7db2cf67bbc5e2411480efb4d681b8a0",
     "grade": false,
     "grade_id": "brand",
     "locked": false,
     "schema_version": 3,
     "solution": true
    }
   },
   "outputs": [
    {
     "data": {
      "text/html": [
       "<div>\n",
       "<style scoped>\n",
       "    .dataframe tbody tr th:only-of-type {\n",
       "        vertical-align: middle;\n",
       "    }\n",
       "\n",
       "    .dataframe tbody tr th {\n",
       "        vertical-align: top;\n",
       "    }\n",
       "\n",
       "    .dataframe thead th {\n",
       "        text-align: right;\n",
       "    }\n",
       "</style>\n",
       "<table border=\"1\" class=\"dataframe\">\n",
       "  <thead>\n",
       "    <tr style=\"text-align: right;\">\n",
       "      <th></th>\n",
       "      <th>brand</th>\n",
       "      <th>sum of logmove</th>\n",
       "    </tr>\n",
       "  </thead>\n",
       "  <tbody>\n",
       "    <tr>\n",
       "      <td>0</td>\n",
       "      <td>tropicana</td>\n",
       "      <td>87916.698522</td>\n",
       "    </tr>\n",
       "    <tr>\n",
       "      <td>1</td>\n",
       "      <td>minute.maid</td>\n",
       "      <td>88937.517267</td>\n",
       "    </tr>\n",
       "    <tr>\n",
       "      <td>2</td>\n",
       "      <td>dominicks</td>\n",
       "      <td>88527.943226</td>\n",
       "    </tr>\n",
       "  </tbody>\n",
       "</table>\n",
       "</div>"
      ],
      "text/plain": [
       "         brand  sum of logmove\n",
       "0    tropicana    87916.698522\n",
       "1  minute.maid    88937.517267\n",
       "2    dominicks    88527.943226"
      ]
     },
     "execution_count": 90,
     "metadata": {},
     "output_type": "execute_result"
    }
   ],
   "source": [
    "# YOUR CODE HERE\n",
    "\n",
    "#ALL UNIQUE BRANDS\n",
    "brands = oj['brand'].unique()\n",
    "brands\n",
    "\n",
    "#TOTAL SUM OF THE LOGMOVE\n",
    "oj['logmove'].sum()\n",
    "\n",
    "#TROPICANA\n",
    "tropicana_table = oj.loc[oj['brand']=='tropicana']\n",
    "tropicana_sales = tropicana_table['logmove'].sum()\n",
    "tropicana_sales\n",
    "\n",
    "#MINUTE.MAID\n",
    "minute_maid_table = oj.loc[oj['brand']=='minute.maid']\n",
    "minute_maid_sales = minute_maid_table['logmove'].sum()\n",
    "minute_maid_sales\n",
    "\n",
    "#DOMINICKS\n",
    "dominicks_table = oj.loc[oj['brand']=='dominicks']\n",
    "dominicks_sales = dominicks_table['logmove'].sum()\n",
    "dominicks_sales\n",
    "\n",
    "#THE THREE BRANDNAMES\n",
    "brands[0]\n",
    "brands[1]\n",
    "brands[2]\n",
    "\n",
    "#THREE BRANDS DATAFRAME\n",
    "brand_sales = pd.DataFrame({'brand': [brands[0], brands[1], brands[2]],\n",
    "                     'sum of logmove': [tropicana_sales, minute_maid_sales, dominicks_sales]})\n",
    "brand_sales\n",
    "\n",
    "\n",
    "\n",
    "# YOUR CODE ENDS HERE"
   ]
  },
  {
   "cell_type": "code",
   "execution_count": 91,
   "metadata": {
    "deletable": false,
    "editable": false,
    "nbgrader": {
     "cell_type": "code",
     "checksum": "9e3f56b1fc5198ac991fc0ec6bd688a3",
     "grade": true,
     "grade_id": "brand-correct",
     "locked": true,
     "points": 1,
     "schema_version": 3,
     "solution": false
    }
   },
   "outputs": [
    {
     "name": "stdout",
     "output_type": "stream",
     "text": [
      "         brand  sum of logmove\n",
      "0    tropicana    87916.698522\n",
      "1  minute.maid    88937.517267\n",
      "2    dominicks    88527.943226\n"
     ]
    }
   ],
   "source": [
    "print(brand_sales)"
   ]
  },
  {
   "cell_type": "markdown",
   "metadata": {},
   "source": [
    "The column *feat* determines if the orange juice is on sale. Create a table with as row the different brands of orange juice (*brand*) and as columns the indicator for the sale (*feat*). The values in the table contain the mean price of the specific orange juices. Assign the value to the variable *featured*."
   ]
  },
  {
   "cell_type": "code",
   "execution_count": 92,
   "metadata": {
    "deletable": false,
    "nbgrader": {
     "cell_type": "code",
     "checksum": "d041e38eadf3fd51d77fa0de0b2475b7",
     "grade": false,
     "grade_id": "featured",
     "locked": false,
     "schema_version": 3,
     "solution": true
    }
   },
   "outputs": [
    {
     "data": {
      "text/plain": [
       "brand\n",
       "dominicks      1.563375\n",
       "minute.maid    2.024867\n",
       "tropicana      2.390817\n",
       "Name: price, dtype: float64"
      ]
     },
     "execution_count": 92,
     "metadata": {},
     "output_type": "execute_result"
    }
   ],
   "source": [
    "# YOUR CODE HERE\n",
    "\n",
    "#SHOULD BE 3 rows and 2 columns\n",
    "#EACH CELL CONTAINS THE MEAN PRICE OF THE ORANGE JUICES WITH THE CORRESPONDING FEATURE\n",
    "oj\n",
    "\n",
    "juice_on_sale = oj.loc[oj['feat']==1]\n",
    "juice_non_sale = oj.loc[oj['feat']==0]\n",
    "\n",
    "juices = juice_on_sale.groupby(oj['brand']).mean()\n",
    "mean_prices = juices['price']\n",
    "mean_prices\n",
    "\n",
    "brands = oj['brand'].unique()\n",
    "\n",
    "featured = pd.DataFrame({'brand': [brands[2], brands[1], brands[0]],\n",
    "                         'mean price': [mean_prices[0], mean_prices[1], mean_prices[2]]})\n",
    "juices['price']\n",
    "\n",
    "# YOUR CODE ENDS HERE"
   ]
  },
  {
   "cell_type": "code",
   "execution_count": 93,
   "metadata": {
    "deletable": false,
    "editable": false,
    "nbgrader": {
     "cell_type": "code",
     "checksum": "5a735e83dbe81949704a7b613095ddac",
     "grade": true,
     "grade_id": "featured-correct",
     "locked": true,
     "points": 1,
     "schema_version": 3,
     "solution": false
    }
   },
   "outputs": [
    {
     "data": {
      "text/html": [
       "<div>\n",
       "<style scoped>\n",
       "    .dataframe tbody tr th:only-of-type {\n",
       "        vertical-align: middle;\n",
       "    }\n",
       "\n",
       "    .dataframe tbody tr th {\n",
       "        vertical-align: top;\n",
       "    }\n",
       "\n",
       "    .dataframe thead th {\n",
       "        text-align: right;\n",
       "    }\n",
       "</style>\n",
       "<table border=\"1\" class=\"dataframe\">\n",
       "  <thead>\n",
       "    <tr style=\"text-align: right;\">\n",
       "      <th></th>\n",
       "      <th>brand</th>\n",
       "      <th>mean price</th>\n",
       "    </tr>\n",
       "  </thead>\n",
       "  <tbody>\n",
       "    <tr>\n",
       "      <td>0</td>\n",
       "      <td>dominicks</td>\n",
       "      <td>1.563375</td>\n",
       "    </tr>\n",
       "    <tr>\n",
       "      <td>1</td>\n",
       "      <td>minute.maid</td>\n",
       "      <td>2.024867</td>\n",
       "    </tr>\n",
       "    <tr>\n",
       "      <td>2</td>\n",
       "      <td>tropicana</td>\n",
       "      <td>2.390817</td>\n",
       "    </tr>\n",
       "  </tbody>\n",
       "</table>\n",
       "</div>"
      ],
      "text/plain": [
       "         brand  mean price\n",
       "0    dominicks    1.563375\n",
       "1  minute.maid    2.024867\n",
       "2    tropicana    2.390817"
      ]
     },
     "metadata": {},
     "output_type": "display_data"
    }
   ],
   "source": [
    "display(featured)"
   ]
  },
  {
   "cell_type": "code",
   "execution_count": null,
   "metadata": {},
   "outputs": [],
   "source": []
  }
 ],
 "metadata": {
  "kernelspec": {
   "display_name": "Python 3",
   "language": "python",
   "name": "python3"
  },
  "language_info": {
   "codemirror_mode": {
    "name": "ipython",
    "version": 3
   },
   "file_extension": ".py",
   "mimetype": "text/x-python",
   "name": "python",
   "nbconvert_exporter": "python",
   "pygments_lexer": "ipython3",
   "version": "3.7.4"
  }
 },
 "nbformat": 4,
 "nbformat_minor": 2
}
